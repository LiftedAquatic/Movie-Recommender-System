{
 "cells": [
  {
   "cell_type": "code",
   "execution_count": 2,
   "metadata": {},
   "outputs": [],
   "source": [
    "import pandas as pd\n",
    "import numpy as np\n",
    "from functools import reduce\n",
    "import matplotlib.pyplot as plt\n"
   ]
  },
  {
   "cell_type": "markdown",
   "metadata": {},
   "source": [
    "# Load datasets"
   ]
  },
  {
   "cell_type": "code",
   "execution_count": 3,
   "metadata": {},
   "outputs": [],
   "source": [
    "user_ratings = pd.read_csv('/Users/spence/Documents/GitHub/Movie Recommender System/Original Data/The Movies Dataset/ratings_small.csv')\n",
    "\n",
    "movie_text = pd.read_csv('/Users/spence/Documents/GitHub/Movie Recommender System/Saved Datasets/movie_cats.csv', index_col=0)\n",
    "\n",
    "actors_df = pd.read_csv('/Users/spence/Documents/GitHub/Movie Recommender System/Saved Datasets/movie_actors.csv', index_col=0)\n",
    "directors_df = pd.read_csv('/Users/spence/Documents/GitHub/Movie Recommender System/Saved Datasets/movie_directors.csv', index_col=0)\n",
    "genres_df = pd.read_csv('/Users/spence/Documents/GitHub/Movie Recommender System/Saved Datasets/movie_genres.csv', index_col=0)\n",
    "num_stats_df = pd.read_csv('/Users/spence/Documents/GitHub/Movie Recommender System/Saved Datasets/movie_ints.csv', index_col=0)\n",
    "nat_lang_df = pd.read_csv('/Users/spence/Documents/GitHub/Movie Recommender System/Saved Datasets/movie_nat_lang.csv', index_col=0)\n",
    "prod_comp_df = pd.read_csv('/Users/spence/Documents/GitHub/Movie Recommender System/Saved Datasets/movie_prodcomp.csv', index_col=0)\n",
    "rel_year_df = pd.read_csv('/Users/spence/Documents/GitHub/Movie Recommender System/Saved Datasets/release_year.csv', index_col=0)\n",
    "tags_df = pd.read_csv('/Users/spence/Documents/GitHub/Movie Recommender System/Saved Datasets/movie_tags.csv', index_col=0)\n"
   ]
  },
  {
   "cell_type": "code",
   "execution_count": 4,
   "metadata": {},
   "outputs": [],
   "source": [
    "# drop title column \n",
    "\n",
    "tags_df.drop('title', axis=1, inplace=True)\n",
    "prod_comp_df.drop('title', axis=1, inplace=True)\n",
    "nat_lang_df.drop('title', axis=1, inplace=True)\n",
    "num_stats_df.drop('title', axis=1, inplace=True)\n",
    "genres_df.drop('title', axis=1, inplace=True)\n",
    "actors_df.drop('title', axis=1, inplace=True)"
   ]
  },
  {
   "cell_type": "code",
   "execution_count": 5,
   "metadata": {},
   "outputs": [],
   "source": [
    "# dropping some redundant columns \n",
    "nat_lang_df.drop(['foreign_lang', 'foreign_film'], axis=1, inplace=True)\n",
    "rel_year_df.drop(['release year'], axis=1, inplace=True)"
   ]
  },
  {
   "cell_type": "markdown",
   "metadata": {},
   "source": [
    "# Scaling the numerical data"
   ]
  },
  {
   "cell_type": "code",
   "execution_count": 6,
   "metadata": {},
   "outputs": [],
   "source": [
    "from sklearn.preprocessing import StandardScaler"
   ]
  },
  {
   "cell_type": "code",
   "execution_count": 7,
   "metadata": {},
   "outputs": [],
   "source": [
    "scaler = StandardScaler()\n",
    "nu = scaler.fit_transform(num_stats_df)\n",
    "num_scale = pd.DataFrame(nu)"
   ]
  },
  {
   "cell_type": "code",
   "execution_count": 8,
   "metadata": {},
   "outputs": [],
   "source": [
    "# give columns proper names \n",
    "\n",
    "num_scale.drop([0], axis=1, inplace=True)\n",
    "num_scale.rename(columns={1:'runtime', 2:'budget', 3:'revenue', 4:'vote_average', 5:'vote_count', 6:'popularity'}, inplace=True)"
   ]
  },
  {
   "cell_type": "markdown",
   "metadata": {},
   "source": [
    "# Merge Datasets into one"
   ]
  },
  {
   "cell_type": "code",
   "execution_count": 9,
   "metadata": {},
   "outputs": [],
   "source": [
    "# put all dataframes in a list\n",
    "\n",
    "data_frames = [actors_df, directors_df, genres_df, nat_lang_df, prod_comp_df, rel_year_df, tags_df]"
   ]
  },
  {
   "cell_type": "code",
   "execution_count": 10,
   "metadata": {},
   "outputs": [],
   "source": [
    "# clean merge of all the dataframes \n",
    "\n",
    "df_merged = reduce(lambda  left,right: pd.merge(left,right,on=['id'],\n",
    "                                            how='outer'), data_frames)"
   ]
  },
  {
   "cell_type": "code",
   "execution_count": 11,
   "metadata": {},
   "outputs": [],
   "source": [
    "df_merged = df_merged.join(num_scale, how='outer')"
   ]
  },
  {
   "cell_type": "code",
   "execution_count": 12,
   "metadata": {},
   "outputs": [
    {
     "data": {
      "text/html": "<div>\n<style scoped>\n    .dataframe tbody tr th:only-of-type {\n        vertical-align: middle;\n    }\n\n    .dataframe tbody tr th {\n        vertical-align: top;\n    }\n\n    .dataframe thead th {\n        text-align: right;\n    }\n</style>\n<table border=\"1\" class=\"dataframe\">\n  <thead>\n    <tr style=\"text-align: right;\">\n      <th></th>\n      <th>id</th>\n      <th>John Wayne</th>\n      <th>Jackie Chan</th>\n      <th>Michael Caine</th>\n      <th>Robert De Niro</th>\n      <th>Gérard Depardieu</th>\n      <th>Christopher Lee</th>\n      <th>Nicolas Cage</th>\n      <th>Bette Davis</th>\n      <th>James Mason</th>\n      <th>...</th>\n      <th>college</th>\n      <th>student</th>\n      <th>comedy</th>\n      <th>fight</th>\n      <th>runtime</th>\n      <th>budget</th>\n      <th>revenue</th>\n      <th>vote_average</th>\n      <th>vote_count</th>\n      <th>popularity</th>\n    </tr>\n  </thead>\n  <tbody>\n    <tr>\n      <th>0</th>\n      <td>862</td>\n      <td>0</td>\n      <td>0</td>\n      <td>0</td>\n      <td>0</td>\n      <td>0</td>\n      <td>0</td>\n      <td>0</td>\n      <td>0</td>\n      <td>0</td>\n      <td>...</td>\n      <td>0</td>\n      <td>0</td>\n      <td>0</td>\n      <td>0</td>\n      <td>-0.485780</td>\n      <td>1.469769</td>\n      <td>5.602097</td>\n      <td>1.083651</td>\n      <td>10.741726</td>\n      <td>3.155036</td>\n    </tr>\n    <tr>\n      <th>1</th>\n      <td>8844</td>\n      <td>0</td>\n      <td>0</td>\n      <td>0</td>\n      <td>0</td>\n      <td>0</td>\n      <td>0</td>\n      <td>0</td>\n      <td>0</td>\n      <td>0</td>\n      <td>...</td>\n      <td>0</td>\n      <td>0</td>\n      <td>0</td>\n      <td>0</td>\n      <td>0.190119</td>\n      <td>3.468693</td>\n      <td>3.889186</td>\n      <td>0.666062</td>\n      <td>4.662118</td>\n      <td>2.336504</td>\n    </tr>\n    <tr>\n      <th>2</th>\n      <td>15602</td>\n      <td>0</td>\n      <td>0</td>\n      <td>0</td>\n      <td>0</td>\n      <td>0</td>\n      <td>0</td>\n      <td>0</td>\n      <td>0</td>\n      <td>0</td>\n      <td>...</td>\n      <td>0</td>\n      <td>0</td>\n      <td>0</td>\n      <td>0</td>\n      <td>0.101958</td>\n      <td>-0.243594</td>\n      <td>-0.175109</td>\n      <td>0.457267</td>\n      <td>-0.038338</td>\n      <td>1.456352</td>\n    </tr>\n    <tr>\n      <th>3</th>\n      <td>31357</td>\n      <td>0</td>\n      <td>0</td>\n      <td>0</td>\n      <td>0</td>\n      <td>0</td>\n      <td>0</td>\n      <td>0</td>\n      <td>0</td>\n      <td>0</td>\n      <td>...</td>\n      <td>0</td>\n      <td>0</td>\n      <td>0</td>\n      <td>0</td>\n      <td>0.866018</td>\n      <td>0.670200</td>\n      <td>1.084591</td>\n      <td>0.248473</td>\n      <td>-0.155799</td>\n      <td>0.152815</td>\n    </tr>\n    <tr>\n      <th>4</th>\n      <td>11862</td>\n      <td>0</td>\n      <td>0</td>\n      <td>0</td>\n      <td>0</td>\n      <td>0</td>\n      <td>0</td>\n      <td>0</td>\n      <td>0</td>\n      <td>0</td>\n      <td>...</td>\n      <td>0</td>\n      <td>0</td>\n      <td>0</td>\n      <td>0</td>\n      <td>0.248893</td>\n      <td>-0.243594</td>\n      <td>1.009223</td>\n      <td>0.039678</td>\n      <td>0.125702</td>\n      <td>0.904393</td>\n    </tr>\n    <tr>\n      <th>...</th>\n      <td>...</td>\n      <td>...</td>\n      <td>...</td>\n      <td>...</td>\n      <td>...</td>\n      <td>...</td>\n      <td>...</td>\n      <td>...</td>\n      <td>...</td>\n      <td>...</td>\n      <td>...</td>\n      <td>...</td>\n      <td>...</td>\n      <td>...</td>\n      <td>...</td>\n      <td>...</td>\n      <td>...</td>\n      <td>...</td>\n      <td>...</td>\n      <td>...</td>\n      <td>...</td>\n    </tr>\n    <tr>\n      <th>44979</th>\n      <td>439050</td>\n      <td>0</td>\n      <td>0</td>\n      <td>0</td>\n      <td>0</td>\n      <td>0</td>\n      <td>0</td>\n      <td>0</td>\n      <td>0</td>\n      <td>0</td>\n      <td>...</td>\n      <td>0</td>\n      <td>0</td>\n      <td>0</td>\n      <td>0</td>\n      <td>-0.221297</td>\n      <td>-0.243594</td>\n      <td>-0.175109</td>\n      <td>-0.847699</td>\n      <td>-0.222630</td>\n      <td>-0.475838</td>\n    </tr>\n    <tr>\n      <th>44980</th>\n      <td>111109</td>\n      <td>0</td>\n      <td>0</td>\n      <td>0</td>\n      <td>0</td>\n      <td>0</td>\n      <td>0</td>\n      <td>0</td>\n      <td>0</td>\n      <td>0</td>\n      <td>...</td>\n      <td>0</td>\n      <td>0</td>\n      <td>0</td>\n      <td>0</td>\n      <td>7.713164</td>\n      <td>-0.243594</td>\n      <td>-0.175109</td>\n      <td>1.762234</td>\n      <td>-0.218579</td>\n      <td>-0.458213</td>\n    </tr>\n    <tr>\n      <th>44981</th>\n      <td>67758</td>\n      <td>0</td>\n      <td>0</td>\n      <td>0</td>\n      <td>0</td>\n      <td>0</td>\n      <td>0</td>\n      <td>0</td>\n      <td>0</td>\n      <td>0</td>\n      <td>...</td>\n      <td>0</td>\n      <td>0</td>\n      <td>0</td>\n      <td>0</td>\n      <td>-0.221297</td>\n      <td>-0.243594</td>\n      <td>-0.175109</td>\n      <td>-0.952097</td>\n      <td>-0.212504</td>\n      <td>-0.337913</td>\n    </tr>\n    <tr>\n      <th>44982</th>\n      <td>227506</td>\n      <td>0</td>\n      <td>0</td>\n      <td>0</td>\n      <td>0</td>\n      <td>0</td>\n      <td>0</td>\n      <td>0</td>\n      <td>0</td>\n      <td>0</td>\n      <td>...</td>\n      <td>0</td>\n      <td>0</td>\n      <td>0</td>\n      <td>0</td>\n      <td>-0.309458</td>\n      <td>-0.243594</td>\n      <td>-0.175109</td>\n      <td>-2.935646</td>\n      <td>-0.224655</td>\n      <td>-0.487216</td>\n    </tr>\n    <tr>\n      <th>44983</th>\n      <td>461257</td>\n      <td>0</td>\n      <td>0</td>\n      <td>0</td>\n      <td>0</td>\n      <td>0</td>\n      <td>0</td>\n      <td>0</td>\n      <td>0</td>\n      <td>0</td>\n      <td>...</td>\n      <td>0</td>\n      <td>0</td>\n      <td>0</td>\n      <td>0</td>\n      <td>-0.662101</td>\n      <td>-0.243594</td>\n      <td>-0.175109</td>\n      <td>-2.935646</td>\n      <td>-0.224655</td>\n      <td>-0.460740</td>\n    </tr>\n  </tbody>\n</table>\n<p>44984 rows × 354 columns</p>\n</div>",
      "text/plain": "           id  John Wayne  Jackie Chan  Michael Caine  Robert De Niro  \\\n0         862           0            0              0               0   \n1        8844           0            0              0               0   \n2       15602           0            0              0               0   \n3       31357           0            0              0               0   \n4       11862           0            0              0               0   \n...       ...         ...          ...            ...             ...   \n44979  439050           0            0              0               0   \n44980  111109           0            0              0               0   \n44981   67758           0            0              0               0   \n44982  227506           0            0              0               0   \n44983  461257           0            0              0               0   \n\n       Gérard Depardieu  Christopher Lee  Nicolas Cage  Bette Davis  \\\n0                     0                0             0            0   \n1                     0                0             0            0   \n2                     0                0             0            0   \n3                     0                0             0            0   \n4                     0                0             0            0   \n...                 ...              ...           ...          ...   \n44979                 0                0             0            0   \n44980                 0                0             0            0   \n44981                 0                0             0            0   \n44982                 0                0             0            0   \n44983                 0                0             0            0   \n\n       James Mason  ...  college  student  comedy  fight   runtime    budget  \\\n0                0  ...        0        0       0      0 -0.485780  1.469769   \n1                0  ...        0        0       0      0  0.190119  3.468693   \n2                0  ...        0        0       0      0  0.101958 -0.243594   \n3                0  ...        0        0       0      0  0.866018  0.670200   \n4                0  ...        0        0       0      0  0.248893 -0.243594   \n...            ...  ...      ...      ...     ...    ...       ...       ...   \n44979            0  ...        0        0       0      0 -0.221297 -0.243594   \n44980            0  ...        0        0       0      0  7.713164 -0.243594   \n44981            0  ...        0        0       0      0 -0.221297 -0.243594   \n44982            0  ...        0        0       0      0 -0.309458 -0.243594   \n44983            0  ...        0        0       0      0 -0.662101 -0.243594   \n\n        revenue  vote_average  vote_count  popularity  \n0      5.602097      1.083651   10.741726    3.155036  \n1      3.889186      0.666062    4.662118    2.336504  \n2     -0.175109      0.457267   -0.038338    1.456352  \n3      1.084591      0.248473   -0.155799    0.152815  \n4      1.009223      0.039678    0.125702    0.904393  \n...         ...           ...         ...         ...  \n44979 -0.175109     -0.847699   -0.222630   -0.475838  \n44980 -0.175109      1.762234   -0.218579   -0.458213  \n44981 -0.175109     -0.952097   -0.212504   -0.337913  \n44982 -0.175109     -2.935646   -0.224655   -0.487216  \n44983 -0.175109     -2.935646   -0.224655   -0.460740  \n\n[44984 rows x 354 columns]"
     },
     "execution_count": 12,
     "metadata": {},
     "output_type": "execute_result"
    }
   ],
   "source": [
    "df_merged"
   ]
  },
  {
   "cell_type": "code",
   "execution_count": 13,
   "metadata": {},
   "outputs": [],
   "source": [
    "# reduced df \n",
    "framez = [genres_df, nat_lang_df, prod_comp_df, rel_year_df]\n",
    "df_redux = reduce(lambda  left,right: pd.merge(left,right,on=['id'],\n",
    "                                            how='outer'), framez)\n",
    "                                            "
   ]
  },
  {
   "cell_type": "code",
   "execution_count": 14,
   "metadata": {},
   "outputs": [
    {
     "data": {
      "text/plain": "25975"
     },
     "execution_count": 14,
     "metadata": {},
     "output_type": "execute_result"
    }
   ],
   "source": [
    "# checking out how many films have no 'tag' information \n",
    "tagss = tags_df.drop(['id'], axis=1)\n",
    "\n",
    "lst = tagss.sum(axis=1)\n",
    "lst = sorted(lst)\n",
    "\n",
    "ohs = [] \n",
    "for i in lst:\n",
    "    if i == 0:\n",
    "        ohs.append(i)\n",
    "\n",
    "len(ohs) "
   ]
  },
  {
   "cell_type": "code",
   "execution_count": 15,
   "metadata": {},
   "outputs": [
    {
     "data": {
      "text/plain": "2383"
     },
     "execution_count": 15,
     "metadata": {},
     "output_type": "execute_result"
    }
   ],
   "source": [
    "# checking out how many films have no 'genre' information \n",
    "genress = genres_df.drop(['id'], axis=1)\n",
    "\n",
    "lst = genress.sum(axis=1)\n",
    "lst = sorted(lst)\n",
    "\n",
    "ohs = [] \n",
    "for i in lst:\n",
    "    if i == 0:\n",
    "        ohs.append(i)\n",
    "\n",
    "len(ohs) "
   ]
  },
  {
   "cell_type": "code",
   "execution_count": 17,
   "metadata": {},
   "outputs": [
    {
     "data": {
      "text/plain": "0"
     },
     "execution_count": 17,
     "metadata": {},
     "output_type": "execute_result"
    }
   ],
   "source": [
    "# checking out how many films have no 'release year info' information \n",
    "yearr = rel_year_df.drop(['id'], axis=1)\n",
    "\n",
    "lst = yearr.sum(axis=1)\n",
    "lst = sorted(lst)\n",
    "\n",
    "ohs = [] \n",
    "for i in lst:\n",
    "    if i == 0:\n",
    "        ohs.append(i)\n",
    "\n",
    "len(ohs) "
   ]
  },
  {
   "cell_type": "code",
   "execution_count": 18,
   "metadata": {},
   "outputs": [],
   "source": [
    "df_redux.to_csv('/Users/spence/Documents/GitHub/Movie Recommender System/Saved Datasets/df_redux.csv')"
   ]
  },
  {
   "cell_type": "code",
   "execution_count": 19,
   "metadata": {},
   "outputs": [
    {
     "data": {
      "text/plain": "True"
     },
     "execution_count": 19,
     "metadata": {},
     "output_type": "execute_result"
    }
   ],
   "source": [
    "letters_in_dataframe = \"Clint Eastwood\" in (actors_df & directors_df)\n",
    "letters_in_dataframe"
   ]
  },
  {
   "cell_type": "markdown",
   "metadata": {},
   "source": [
    "Looks like 'Clint Eastwood' is in the name of multiple columns... might there be more?"
   ]
  },
  {
   "cell_type": "markdown",
   "metadata": {},
   "source": [
    "# Feature Engineering "
   ]
  },
  {
   "cell_type": "code",
   "execution_count": 20,
   "metadata": {},
   "outputs": [
    {
     "name": "stdout",
     "output_type": "stream",
     "text": [
      "['Clint Eastwood_x', 'Buster Keaton_x', 'Charlie Chaplin_x']\n",
      "3\n",
      "['Charlie Chaplin_y', 'Clint Eastwood_y', 'Buster Keaton_y']\n",
      "3\n"
     ]
    }
   ],
   "source": [
    "doubles = [col for col in df_merged.columns if '_x' in col]\n",
    "print(doubles)\n",
    "print(len(doubles))\n",
    "\n",
    "doubles = [col for col in df_merged.columns if '_y' in col]\n",
    "print(doubles)\n",
    "print(len(doubles))"
   ]
  },
  {
   "cell_type": "markdown",
   "metadata": {},
   "source": [
    "most of these insances are directors that are also actors, let's figure out what to do "
   ]
  },
  {
   "cell_type": "code",
   "execution_count": null,
   "metadata": {},
   "outputs": [],
   "source": [
    "# testing to see if there's a column that can be dropped \n",
    "\n",
    "test_df = df_merged[['Buster Keaton_x', 'Buster Keaton_y']]\n",
    "\n",
    "test_df = test_df[test_df['Buster Keaton_y'] == 1 ]\n",
    "\n",
    "test_df.head(60)"
   ]
  },
  {
   "cell_type": "markdown",
   "metadata": {},
   "source": [
    "\n",
    "Need to reconcile: Charlie Chaplin, Clint Eastwood, and Buster Keaton."
   ]
  },
  {
   "cell_type": "code",
   "execution_count": 22,
   "metadata": {},
   "outputs": [],
   "source": [
    "# create function that removes the two columns that represent one person and replaces them with just one column for that person\n",
    "\n",
    "def act_dir(row, _x, _y):\n",
    "    if row[_x] == 1 or row[_y] == 1: return 1\n",
    "    # elif row['prod_comp1'] == altname or row['prod_comp2'] == altname: return 1\n",
    "    else: return 0"
   ]
  },
  {
   "cell_type": "code",
   "execution_count": 23,
   "metadata": {},
   "outputs": [],
   "source": [
    "# make new columns that are a combo of director and actor columns where either one had a '1' value\n",
    "\n",
    "df_merged['Charlie Chaplin'] = df_merged.apply(lambda x: act_dir(x, 'Charlie Chaplin_x', 'Charlie Chaplin_y'), axis=1)\n",
    "df_merged['Clint Eastwood'] = df_merged.apply(lambda x: act_dir(x, 'Clint Eastwood_x', 'Clint Eastwood_y'), axis=1)\n",
    "df_merged['Buster Keaton'] = df_merged.apply(lambda x: act_dir(x, 'Buster Keaton_x', 'Buster Keaton_y'), axis=1)\n"
   ]
  },
  {
   "cell_type": "code",
   "execution_count": 25,
   "metadata": {},
   "outputs": [],
   "source": [
    "df_merged.drop(['Clint Eastwood_x', 'Buster Keaton_x', 'Charlie Chaplin_x'], axis=1, inplace=True)\n",
    "df_merged.drop(['Clint Eastwood_y', 'Buster Keaton_y', 'Charlie Chaplin_y'], axis=1, inplace=True)"
   ]
  },
  {
   "cell_type": "code",
   "execution_count": 28,
   "metadata": {},
   "outputs": [],
   "source": [
    "# save our dataset\n",
    "\n",
    "df_merged.to_csv('/Users/spence/Documents/GitHub/Movie Recommender System/Saved Datasets/df_merged.csv')"
   ]
  },
  {
   "cell_type": "markdown",
   "metadata": {},
   "source": [
    "# Lets do some Preprocessing "
   ]
  },
  {
   "cell_type": "code",
   "execution_count": 29,
   "metadata": {},
   "outputs": [],
   "source": [
    "from kneed import KneeLocator\n",
    "from sklearn.datasets import make_blobs\n",
    "from sklearn.cluster import KMeans\n",
    "from sklearn.cluster import DBSCAN\n",
    "from sklearn.metrics import silhouette_score"
   ]
  },
  {
   "cell_type": "markdown",
   "metadata": {},
   "source": [
    "I will examine two datasets in the following eexercises. \n",
    "\n",
    "One is a highly reduced DataFrame consisting only of 'genres', 'release years', 'production companies', 'language'.\n",
    "\n",
    "The next one includes all of the above plus the top 100 actors, 100 directors, and 100 subject tags. "
   ]
  },
  {
   "cell_type": "code",
   "execution_count": 70,
   "metadata": {},
   "outputs": [],
   "source": [
    "# make copy of main data frame\n",
    "\n",
    "df = df_merged.copy()\n",
    "df.drop(['id'],axis=1,inplace=True)\n"
   ]
  },
  {
   "cell_type": "code",
   "execution_count": 75,
   "metadata": {},
   "outputs": [],
   "source": [
    "# create numpy array \n",
    "df_numpy = df.to_numpy()"
   ]
  },
  {
   "cell_type": "code",
   "execution_count": 76,
   "metadata": {},
   "outputs": [],
   "source": [
    "# setting the algorithm parameters\n",
    "\n",
    "kmeans = KMeans(\n",
    "init=\"random\",\n",
    "n_clusters=100,\n",
    "n_init=10,\n",
    "max_iter=1000,\n",
    "random_state=42)"
   ]
  },
  {
   "cell_type": "code",
   "execution_count": 60,
   "metadata": {},
   "outputs": [
    {
     "data": {
      "text/plain": "137956.19278445415"
     },
     "execution_count": 60,
     "metadata": {},
     "output_type": "execute_result"
    }
   ],
   "source": [
    "# fit to data array\n",
    "kmeans.fit(df_numpy)\n",
    "\n",
    "# The lowest SSE value\n",
    "kmeans.inertia_"
   ]
  },
  {
   "cell_type": "code",
   "execution_count": 79,
   "metadata": {},
   "outputs": [
    {
     "data": {
      "text/plain": "array([[-1.73472348e-18, -3.03576608e-18, -2.60208521e-18, ...,\n        -6.50521303e-19,  1.73472348e-18,  1.73472348e-18],\n       [ 1.35317997e-02, -3.03576608e-18, -2.16840434e-18, ...,\n        -8.67361738e-19,  1.30104261e-18,  1.51788304e-18],\n       [-1.73472348e-18, -4.33680869e-19, -6.50521303e-19, ...,\n        -4.33680869e-19,  8.67361738e-19,  0.00000000e+00],\n       ...,\n       [-2.16840434e-18, -8.67361738e-19, -1.30104261e-18, ...,\n        -4.33680869e-19,  1.30104261e-18,  4.33680869e-19],\n       [-2.16840434e-18,  1.93798450e-03, -1.95156391e-18, ...,\n        -8.67361738e-19,  1.51788304e-18,  8.67361738e-19],\n       [ 1.13821138e-02, -4.77048956e-18,  8.13008130e-03, ...,\n         1.13821138e-02,  8.13008130e-03,  1.62601626e-03]])"
     },
     "execution_count": 79,
     "metadata": {},
     "output_type": "execute_result"
    }
   ],
   "source": [
    "# viewing an array of cluster centers\n",
    "\n",
    "kmeans.cluster_centers_"
   ]
  },
  {
   "cell_type": "code",
   "execution_count": 80,
   "metadata": {},
   "outputs": [
    {
     "data": {
      "text/plain": "93"
     },
     "execution_count": 80,
     "metadata": {},
     "output_type": "execute_result"
    }
   ],
   "source": [
    "# number of iterations to achieve convergence\n",
    "\n",
    "kmeans.n_iter_"
   ]
  },
  {
   "cell_type": "markdown",
   "metadata": {},
   "source": [
    "Here we will iterate through various cluster sizes and evaluate the Sum of Squared Errors for each."
   ]
  },
  {
   "cell_type": "code",
   "execution_count": 64,
   "metadata": {},
   "outputs": [
    {
     "data": {
      "text/plain": "[453678.5822070067,\n 371749.8062926769,\n 340654.9119101125,\n 313875.6561531249,\n 298254.58982529223,\n 285889.2032445676,\n 275140.2948835904,\n 266533.4820866194,\n 259953.79672614683,\n 254595.36012759802,\n 249479.3346851754,\n 244079.34388777916,\n 240160.01038802956,\n 228282.46024885547,\n 225277.66056064048,\n 222521.58135633863,\n 220582.567004558,\n 219126.9339802808,\n 214726.8027411906]"
     },
     "execution_count": 64,
     "metadata": {},
     "output_type": "execute_result"
    }
   ],
   "source": [
    "# setting key-word arguments\n",
    "\n",
    "kmeans_kwargs = {\n",
    "        \"init\": \"random\",\n",
    "        \"n_init\": 10,\n",
    "        \"max_iter\": 1000,\n",
    "        \"random_state\": 42,}\n",
    "\n",
    "\n",
    "# making a list of sum of squared errors for different cluster amounts (1-19)\n",
    "\n",
    "sse = []\n",
    "for k in range(1, 20):\n",
    "    kmeans = KMeans(n_clusters=k, **kmeans_kwargs)\n",
    "    kmeans.fit(df_numpy)\n",
    "    sse.append(kmeans.inertia_)\n",
    "\n",
    "sse "
   ]
  },
  {
   "cell_type": "code",
   "execution_count": 65,
   "metadata": {},
   "outputs": [
    {
     "data": {
      "image/png": "[encoded data removed]",
      "text/plain": "<Figure size 432x288 with 1 Axes>"
     },
     "metadata": {},
     "output_type": "display_data"
    }
   ],
   "source": [
    "# plotting the above info \n",
    "\n",
    "plt.style.use(\"fivethirtyeight\")\n",
    "plt.plot(range(1, 20), sse)\n",
    "plt.xticks(range(1, 20))\n",
    "plt.xlabel(\"Number of Clusters\")\n",
    "plt.ylabel(\"SSE\")\n",
    "plt.show()"
   ]
  },
  {
   "cell_type": "markdown",
   "metadata": {},
   "source": [
    "It looks like as we make more clusters, the sum of squared errors drops.\n",
    "\n",
    "We see an elbow at 4 and another sharp elbow at 13."
   ]
  },
  {
   "cell_type": "code",
   "execution_count": 66,
   "metadata": {},
   "outputs": [
    {
     "data": {
      "text/plain": "[0.695835210015053,\n 0.18596384358454582,\n 0.20156748826335333,\n 0.08812488517847668,\n 0.08700241955349998,\n 0.08390812320992894,\n 0.0870838861290751,\n 0.0801545786920568,\n 0.08187785384966922,\n 0.06788720278538168,\n 0.06789611915566156,\n 0.07551976367774979,\n 0.07607669462096477,\n 0.07304561502462012,\n 0.07214854988043812,\n 0.06942482778998851,\n 0.07148388648443207,\n 0.06899935945423989]"
     },
     "execution_count": 66,
     "metadata": {},
     "output_type": "execute_result"
    }
   ],
   "source": [
    "# Creating a list of silhouette coefficients\n",
    "\n",
    "silhouette_coefficients = []\n",
    "\n",
    "for k in range(2, 20):\n",
    "    kmeans = KMeans(n_clusters=k, **kmeans_kwargs)\n",
    "    kmeans.fit(df_numpy)\n",
    "    score = silhouette_score(df_numpy, kmeans.labels_)\n",
    "    silhouette_coefficients.append(score)\n",
    "\n",
    "silhouette_coefficients"
   ]
  },
  {
   "cell_type": "code",
   "execution_count": 82,
   "metadata": {},
   "outputs": [
    {
     "data": {
      "image/png": "[encoded data removed]",
      "text/plain": "<Figure size 432x288 with 1 Axes>"
     },
     "metadata": {},
     "output_type": "display_data"
    }
   ],
   "source": [
    "# plotting the above \n",
    "\n",
    "plt.style.use(\"fivethirtyeight\")\n",
    "plt.plot(range(2, 20), silhouette_coefficients)\n",
    "plt.xticks(range(2, 20))\n",
    "plt.xlabel(\"Number of Clusters\")\n",
    "plt.ylabel(\"Silhouette Coefficient\")\n",
    "plt.show()"
   ]
  },
  {
   "cell_type": "code",
   "execution_count": 81,
   "metadata": {},
   "outputs": [
    {
     "data": {
      "text/plain": "(0.06, -0.15)"
     },
     "execution_count": 81,
     "metadata": {},
     "output_type": "execute_result"
    }
   ],
   "source": [
    "#comparing silhouette scores for 2 algos\n",
    "\n",
    "# Instantiate k-means and dbscan algorithms\n",
    "kmeans = KMeans(n_clusters=200)\n",
    "dbscan = DBSCAN(eps=1.4)\n",
    "\n",
    "# Fit the algorithms to the features\n",
    "kmeans.fit(df_numpy)\n",
    "dbscan.fit(df_numpy)\n",
    "\n",
    "# Compute the silhouette scores for each algorithm\n",
    "kmeans_silhouette = silhouette_score(df_numpy, kmeans.labels_).round(2)\n",
    "dbscan_silhouette = silhouette_score(df_numpy, dbscan.labels_).round (2)\n",
    "\n",
    "# comapring the KMeans and DBscan silhouette scores\n",
    "kmeans_silhouette, dbscan_silhouette"
   ]
  },
  {
   "cell_type": "markdown",
   "metadata": {},
   "source": [
    "The higher score suggests a better fit.\n",
    "\n",
    "The KMeans algo score is higher.\n"
   ]
  },
  {
   "cell_type": "markdown",
   "metadata": {},
   "source": [
    "# Lets do some PCA "
   ]
  },
  {
   "cell_type": "code",
   "execution_count": 42,
   "metadata": {},
   "outputs": [],
   "source": [
    "import sklearn.decomposition\n",
    "import matplotlib.colors\n",
    "import sklearn.cluster as cluster"
   ]
  },
  {
   "cell_type": "code",
   "execution_count": 97,
   "metadata": {},
   "outputs": [
    {
     "data": {
      "text/plain": "<matplotlib.collections.PathCollection at 0x135158d30>"
     },
     "execution_count": 97,
     "metadata": {},
     "output_type": "execute_result"
    },
    {
     "data": {
      "image/png": "[encoded data removed]",
      "text/plain": "<Figure size 432x288 with 1 Axes>"
     },
     "metadata": {},
     "output_type": "display_data"
    }
   ],
   "source": [
    "# K Means algo\n",
    "\n",
    "# Make a variable called model. \n",
    "model= cluster.KMeans(n_clusters=200)\n",
    "# Call a fit_predict() on X \n",
    "cluster_assignments = model.fit_predict(df_numpy)\n",
    "\n",
    "# Use decomposition.PCA, and pass n_components=2 as parameter\n",
    "pca = sklearn.decomposition.PCA(n_components=2)\n",
    "pc1, pc2 = zip(*pca.fit_transform(df_numpy))\n",
    "plt.scatter(pc1, pc2, c=cluster_assignments.tolist())"
   ]
  },
  {
   "cell_type": "markdown",
   "metadata": {},
   "source": [
    "PC 1, the X-axis appears to account for more variability than PC 2 on the Y-axis."
   ]
  },
  {
   "cell_type": "markdown",
   "metadata": {},
   "source": [
    "# Now for the ratings Dataset"
   ]
  },
  {
   "cell_type": "code",
   "execution_count": 96,
   "metadata": {},
   "outputs": [
    {
     "data": {
      "text/html": "<div>\n<style scoped>\n    .dataframe tbody tr th:only-of-type {\n        vertical-align: middle;\n    }\n\n    .dataframe tbody tr th {\n        vertical-align: top;\n    }\n\n    .dataframe thead th {\n        text-align: right;\n    }\n</style>\n<table border=\"1\" class=\"dataframe\">\n  <thead>\n    <tr style=\"text-align: right;\">\n      <th></th>\n      <th>userId</th>\n      <th>movieId</th>\n      <th>rating</th>\n      <th>timestamp</th>\n    </tr>\n  </thead>\n  <tbody>\n    <tr>\n      <th>0</th>\n      <td>1</td>\n      <td>31</td>\n      <td>2.5</td>\n      <td>1260759144</td>\n    </tr>\n    <tr>\n      <th>1</th>\n      <td>1</td>\n      <td>1029</td>\n      <td>3.0</td>\n      <td>1260759179</td>\n    </tr>\n    <tr>\n      <th>2</th>\n      <td>1</td>\n      <td>1061</td>\n      <td>3.0</td>\n      <td>1260759182</td>\n    </tr>\n    <tr>\n      <th>3</th>\n      <td>1</td>\n      <td>1129</td>\n      <td>2.0</td>\n      <td>1260759185</td>\n    </tr>\n    <tr>\n      <th>4</th>\n      <td>1</td>\n      <td>1172</td>\n      <td>4.0</td>\n      <td>1260759205</td>\n    </tr>\n    <tr>\n      <th>...</th>\n      <td>...</td>\n      <td>...</td>\n      <td>...</td>\n      <td>...</td>\n    </tr>\n    <tr>\n      <th>99999</th>\n      <td>671</td>\n      <td>6268</td>\n      <td>2.5</td>\n      <td>1065579370</td>\n    </tr>\n    <tr>\n      <th>100000</th>\n      <td>671</td>\n      <td>6269</td>\n      <td>4.0</td>\n      <td>1065149201</td>\n    </tr>\n    <tr>\n      <th>100001</th>\n      <td>671</td>\n      <td>6365</td>\n      <td>4.0</td>\n      <td>1070940363</td>\n    </tr>\n    <tr>\n      <th>100002</th>\n      <td>671</td>\n      <td>6385</td>\n      <td>2.5</td>\n      <td>1070979663</td>\n    </tr>\n    <tr>\n      <th>100003</th>\n      <td>671</td>\n      <td>6565</td>\n      <td>3.5</td>\n      <td>1074784724</td>\n    </tr>\n  </tbody>\n</table>\n<p>100004 rows × 4 columns</p>\n</div>",
      "text/plain": "        userId  movieId  rating   timestamp\n0            1       31     2.5  1260759144\n1            1     1029     3.0  1260759179\n2            1     1061     3.0  1260759182\n3            1     1129     2.0  1260759185\n4            1     1172     4.0  1260759205\n...        ...      ...     ...         ...\n99999      671     6268     2.5  1065579370\n100000     671     6269     4.0  1065149201\n100001     671     6365     4.0  1070940363\n100002     671     6385     2.5  1070979663\n100003     671     6565     3.5  1074784724\n\n[100004 rows x 4 columns]"
     },
     "execution_count": 96,
     "metadata": {},
     "output_type": "execute_result"
    }
   ],
   "source": [
    "user_ratings"
   ]
  },
  {
   "cell_type": "markdown",
   "metadata": {},
   "source": [
    "The user_ratings will be used for our 'collaborative filtering' model. Being that we have film ratings from users this is a supervised learning problem, in which case we can perform cross validation to help select a model. "
   ]
  },
  {
   "cell_type": "code",
   "execution_count": 48,
   "metadata": {},
   "outputs": [],
   "source": [
    "# use the Surpirse library to perform cross-validation \n",
    "\n",
    "from surprise import Reader, Dataset, SVD, KNNWithMeans, NMF \n",
    "from surprise.model_selection import cross_validate\n",
    "from surprise.model_selection import GridSearchCV"
   ]
  },
  {
   "cell_type": "code",
   "execution_count": 49,
   "metadata": {},
   "outputs": [],
   "source": [
    "reader = Reader()\n",
    "data = Dataset.load_from_df(user_ratings[['userId', 'movieId', 'rating']], reader)"
   ]
  },
  {
   "cell_type": "code",
   "execution_count": 50,
   "metadata": {},
   "outputs": [
    {
     "name": "stdout",
     "output_type": "stream",
     "text": [
      "Evaluating RMSE, MAE of algorithm SVD on 5 split(s).\n",
      "\n",
      "                  Fold 1  Fold 2  Fold 3  Fold 4  Fold 5  Mean    Std     \n",
      "RMSE (testset)    0.8967  0.8804  0.9008  0.9076  0.8951  0.8961  0.0090  \n",
      "MAE (testset)     0.6897  0.6810  0.6921  0.6992  0.6898  0.6904  0.0058  \n",
      "Fit time          3.53    3.48    3.49    3.49    3.49    3.50    0.02    \n",
      "Test time         0.09    0.13    0.09    0.09    0.13    0.11    0.02    \n"
     ]
    },
    {
     "data": {
      "text/plain": "{'test_rmse': array([0.89673675, 0.88035642, 0.90079348, 0.90759402, 0.89512764]),\n 'test_mae': array([0.68965663, 0.68102857, 0.69212196, 0.69923612, 0.68979208]),\n 'fit_time': (3.5274641513824463,\n  3.4819579124450684,\n  3.4863460063934326,\n  3.4869072437286377,\n  3.49408221244812),\n 'test_time': (0.09068584442138672,\n  0.1336669921875,\n  0.08677005767822266,\n  0.08697080612182617,\n  0.13149380683898926)}"
     },
     "execution_count": 50,
     "metadata": {},
     "output_type": "execute_result"
    }
   ],
   "source": [
    "# test out Singular Value Decompostion \n",
    "\n",
    "svd = SVD()\n",
    "\n",
    "cross_validate(svd, data, measures=['RMSE', 'MAE'], cv=5, verbose=True)"
   ]
  },
  {
   "cell_type": "code",
   "execution_count": 51,
   "metadata": {},
   "outputs": [
    {
     "name": "stdout",
     "output_type": "stream",
     "text": [
      "Evaluating RMSE, MAE of algorithm NMF on 5 split(s).\n",
      "\n",
      "                  Fold 1  Fold 2  Fold 3  Fold 4  Fold 5  Mean    Std     \n",
      "RMSE (testset)    0.9488  0.9500  0.9392  0.9505  0.9448  0.9467  0.0043  \n",
      "MAE (testset)     0.7276  0.7291  0.7216  0.7337  0.7251  0.7274  0.0040  \n",
      "Fit time          3.88    3.93    3.91    3.90    3.90    3.90    0.02    \n",
      "Test time         0.08    0.07    0.13    0.08    0.13    0.10    0.03    \n"
     ]
    },
    {
     "data": {
      "text/plain": "{'test_rmse': array([0.94883427, 0.95000828, 0.93915611, 0.95053267, 0.94482587]),\n 'test_mae': array([0.72755588, 0.72906739, 0.72164734, 0.73369927, 0.72509191]),\n 'fit_time': (3.8808701038360596,\n  3.927581787109375,\n  3.907292127609253,\n  3.8953471183776855,\n  3.89909291267395),\n 'test_time': (0.07834696769714355,\n  0.07492208480834961,\n  0.12880682945251465,\n  0.0754239559173584,\n  0.12823820114135742)}"
     },
     "execution_count": 51,
     "metadata": {},
     "output_type": "execute_result"
    }
   ],
   "source": [
    "# test NMF \n",
    "\n",
    "nmf = NMF()\n",
    "cross_validate(nmf, data, measures=['RMSE', 'MAE'], cv=5, verbose=True)\n"
   ]
  },
  {
   "cell_type": "code",
   "execution_count": 52,
   "metadata": {},
   "outputs": [
    {
     "name": "stdout",
     "output_type": "stream",
     "text": [
      "Computing the msd similarity matrix...\n",
      "Done computing similarity matrix.\n",
      "Computing the msd similarity matrix...\n",
      "Done computing similarity matrix.\n",
      "Computing the msd similarity matrix...\n",
      "Done computing similarity matrix.\n",
      "Computing the msd similarity matrix...\n",
      "Done computing similarity matrix.\n",
      "Computing the msd similarity matrix...\n",
      "Done computing similarity matrix.\n",
      "Evaluating RMSE, MAE of algorithm KNNWithMeans on 5 split(s).\n",
      "\n",
      "                  Fold 1  Fold 2  Fold 3  Fold 4  Fold 5  Mean    Std     \n",
      "RMSE (testset)    0.9291  0.9143  0.9109  0.9192  0.9209  0.9189  0.0062  \n",
      "MAE (testset)     0.7088  0.7020  0.6967  0.7047  0.7050  0.7034  0.0040  \n",
      "Fit time          0.10    0.13    0.11    0.11    0.11    0.11    0.01    \n",
      "Test time         0.98    1.05    0.97    0.97    1.03    1.00    0.03    \n"
     ]
    },
    {
     "data": {
      "text/plain": "{'test_rmse': array([0.92908582, 0.9143202 , 0.91086011, 0.91922989, 0.9208561 ]),\n 'test_mae': array([0.70880294, 0.70201241, 0.6967265 , 0.70469589, 0.70496506]),\n 'fit_time': (0.0999000072479248,\n  0.13088464736938477,\n  0.11413002014160156,\n  0.11279821395874023,\n  0.10820603370666504),\n 'test_time': (0.9834141731262207,\n  1.049010992050171,\n  0.9680049419403076,\n  0.9667270183563232,\n  1.0304439067840576)}"
     },
     "execution_count": 52,
     "metadata": {},
     "output_type": "execute_result"
    }
   ],
   "source": [
    "# test KNN With Means\n",
    "\n",
    "knnwm = KNNWithMeans()\n",
    "cross_validate(knnwm, data, measures=['RMSE', 'MAE'], cv=5, verbose=True)\n"
   ]
  },
  {
   "cell_type": "markdown",
   "metadata": {},
   "source": [
    "It looks like the SVD cross-validation had the lowest error score and therefore is the most accurate. "
   ]
  },
  {
   "cell_type": "markdown",
   "metadata": {},
   "source": [
    "# Conclusion: "
   ]
  },
  {
   "cell_type": "markdown",
   "metadata": {},
   "source": [
    "For our modelling notebook, we will try both Kmeans and DBScan for clustering and see which creates better clusters when it comes time to recommend. We will use Singular Value Decomposition and KNN for collaborative filtering. "
   ]
  }
 ],
 "metadata": {
  "kernelspec": {
   "display_name": "Python 3.8.8 64-bit ('anaconda3': virtualenv)",
   "name": "python388jvsc74a57bd0dca0ade3e726a953b501b15e8e990130d2b7799f14cfd9f4271676035ebe5511"
  },
  "language_info": {
   "codemirror_mode": {
    "name": "ipython",
    "version": 3
   },
   "file_extension": ".py",
   "mimetype": "text/x-python",
   "name": "python",
   "nbconvert_exporter": "python",
   "pygments_lexer": "ipython3",
   "version": "3.8.8"
  },
  "orig_nbformat": 3
 },
 "nbformat": 4,
 "nbformat_minor": 4
}