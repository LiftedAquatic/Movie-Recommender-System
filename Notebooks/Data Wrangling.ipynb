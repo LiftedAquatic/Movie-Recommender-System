{
 "cells": [
  {
   "cell_type": "markdown",
   "metadata": {},
   "source": [
    "Pre: import necessary packages & import datasets "
   ]
  },
  {
   "cell_type": "code",
   "execution_count": 1,
   "metadata": {},
   "outputs": [],
   "source": [
    "import os\n",
    "import pandas as pd\n",
    "import numpy as np\n",
    "import fancyimpute as fancy \n"
   ]
  },
  {
   "cell_type": "code",
   "execution_count": 2,
   "metadata": {},
   "outputs": [],
   "source": [
    "import warnings\n",
    "warnings.filterwarnings(\"ignore\")\n",
    "# warnings.filterwarnings(\"ignore\", category=DeprecationWarning)"
   ]
  },
  {
   "cell_type": "code",
   "execution_count": 3,
   "metadata": {},
   "outputs": [],
   "source": [
    "# import datasets\n",
    "movie_info_dataset = pd.read_csv('/Users/spence/Documents/GitHub/Movie Recommender System/Original Data/The Movies Dataset/movies_metadata.csv')\n",
    "credits_dataset = pd.read_csv('/Users/spence/Documents/GitHub/Movie Recommender System/Original Data/The Movies Dataset/credits.csv')\n",
    "keywords_dataset = pd.read_csv('/Users/spence/Documents/GitHub/Movie Recommender System/Original Data/The Movies Dataset/keywords.csv')\n",
    "ratings = pd.read_csv('/Users/spence/Documents/GitHub/Movie Recommender System/Original Data/The Movies Dataset/ratings_small.csv')\n"
   ]
  },
  {
   "cell_type": "markdown",
   "metadata": {},
   "source": [
    "1. Examine datasets"
   ]
  },
  {
   "cell_type": "code",
   "execution_count": 4,
   "metadata": {},
   "outputs": [
    {
     "data": {
      "text/plain": "(45466, 24)"
     },
     "execution_count": 4,
     "metadata": {},
     "output_type": "execute_result"
    }
   ],
   "source": [
    "#examining the shapes of datasets \n",
    "\n",
    "credits_dataset.shape\n",
    "keywords_dataset.shape\n",
    "movie_info_dataset.shape\n"
   ]
  },
  {
   "cell_type": "code",
   "execution_count": 5,
   "metadata": {},
   "outputs": [
    {
     "name": "stdout",
     "output_type": "stream",
     "text": [
      "<class 'pandas.core.frame.DataFrame'>\n",
      "RangeIndex: 45466 entries, 0 to 45465\n",
      "Data columns (total 24 columns):\n",
      " #   Column                 Non-Null Count  Dtype  \n",
      "---  ------                 --------------  -----  \n",
      " 0   adult                  45466 non-null  object \n",
      " 1   belongs_to_collection  4494 non-null   object \n",
      " 2   budget                 45466 non-null  object \n",
      " 3   genres                 45466 non-null  object \n",
      " 4   homepage               7782 non-null   object \n",
      " 5   id                     45466 non-null  object \n",
      " 6   imdb_id                45449 non-null  object \n",
      " 7   original_language      45455 non-null  object \n",
      " 8   original_title         45466 non-null  object \n",
      " 9   overview               44512 non-null  object \n",
      " 10  popularity             45461 non-null  object \n",
      " 11  poster_path            45080 non-null  object \n",
      " 12  production_companies   45463 non-null  object \n",
      " 13  production_countries   45463 non-null  object \n",
      " 14  release_date           45379 non-null  object \n",
      " 15  revenue                45460 non-null  float64\n",
      " 16  runtime                45203 non-null  float64\n",
      " 17  spoken_languages       45460 non-null  object \n",
      " 18  status                 45379 non-null  object \n",
      " 19  tagline                20412 non-null  object \n",
      " 20  title                  45460 non-null  object \n",
      " 21  video                  45460 non-null  object \n",
      " 22  vote_average           45460 non-null  float64\n",
      " 23  vote_count             45460 non-null  float64\n",
      "dtypes: float64(4), object(20)\n",
      "memory usage: 8.3+ MB\n"
     ]
    },
    {
     "data": {
      "text/html": "<div>\n<style scoped>\n    .dataframe tbody tr th:only-of-type {\n        vertical-align: middle;\n    }\n\n    .dataframe tbody tr th {\n        vertical-align: top;\n    }\n\n    .dataframe thead th {\n        text-align: right;\n    }\n</style>\n<table border=\"1\" class=\"dataframe\">\n  <thead>\n    <tr style=\"text-align: right;\">\n      <th></th>\n      <th>cast</th>\n      <th>crew</th>\n      <th>id</th>\n    </tr>\n  </thead>\n  <tbody>\n    <tr>\n      <th>0</th>\n      <td>[{'cast_id': 14, 'character': 'Woody (voice)',...</td>\n      <td>[{'credit_id': '52fe4284c3a36847f8024f49', 'de...</td>\n      <td>862</td>\n    </tr>\n    <tr>\n      <th>1</th>\n      <td>[{'cast_id': 1, 'character': 'Alan Parrish', '...</td>\n      <td>[{'credit_id': '52fe44bfc3a36847f80a7cd1', 'de...</td>\n      <td>8844</td>\n    </tr>\n    <tr>\n      <th>2</th>\n      <td>[{'cast_id': 2, 'character': 'Max Goldman', 'c...</td>\n      <td>[{'credit_id': '52fe466a9251416c75077a89', 'de...</td>\n      <td>15602</td>\n    </tr>\n    <tr>\n      <th>3</th>\n      <td>[{'cast_id': 1, 'character': \"Savannah 'Vannah...</td>\n      <td>[{'credit_id': '52fe44779251416c91011acb', 'de...</td>\n      <td>31357</td>\n    </tr>\n    <tr>\n      <th>4</th>\n      <td>[{'cast_id': 1, 'character': 'George Banks', '...</td>\n      <td>[{'credit_id': '52fe44959251416c75039ed7', 'de...</td>\n      <td>11862</td>\n    </tr>\n  </tbody>\n</table>\n</div>",
      "text/plain": "                                                cast  \\\n0  [{'cast_id': 14, 'character': 'Woody (voice)',...   \n1  [{'cast_id': 1, 'character': 'Alan Parrish', '...   \n2  [{'cast_id': 2, 'character': 'Max Goldman', 'c...   \n3  [{'cast_id': 1, 'character': \"Savannah 'Vannah...   \n4  [{'cast_id': 1, 'character': 'George Banks', '...   \n\n                                                crew     id  \n0  [{'credit_id': '52fe4284c3a36847f8024f49', 'de...    862  \n1  [{'credit_id': '52fe44bfc3a36847f80a7cd1', 'de...   8844  \n2  [{'credit_id': '52fe466a9251416c75077a89', 'de...  15602  \n3  [{'credit_id': '52fe44779251416c91011acb', 'de...  31357  \n4  [{'credit_id': '52fe44959251416c75039ed7', 'de...  11862  "
     },
     "execution_count": 5,
     "metadata": {},
     "output_type": "execute_result"
    }
   ],
   "source": [
    "#examine the content of movie: info, credits, and keywords\n",
    "\n",
    "movie_info_dataset.info()\n",
    "keywords_dataset.head()\n",
    "credits_dataset.head()"
   ]
  },
  {
   "cell_type": "markdown",
   "metadata": {},
   "source": [
    "2. Clean movie_info set by dropping entires with no title & purging duplicates"
   ]
  },
  {
   "cell_type": "code",
   "execution_count": 6,
   "metadata": {},
   "outputs": [],
   "source": [
    "# view titless entries\n",
    "movie_info_dataset[movie_info_dataset['title'].isnull()]\n",
    "\n",
    "#drop them\n",
    "movie_info_dataset.dropna(subset = ['title'], inplace=True)"
   ]
  },
  {
   "cell_type": "markdown",
   "metadata": {},
   "source": [
    "3. Convert movie 'id' column type to 'int' in order to join datasets"
   ]
  },
  {
   "cell_type": "code",
   "execution_count": 7,
   "metadata": {},
   "outputs": [],
   "source": [
    "#convert 'id' to 'int' datatype\n",
    "\n",
    "movie_info_dataset['id']  = movie_info_dataset['id'].astype(int)"
   ]
  },
  {
   "cell_type": "code",
   "execution_count": 8,
   "metadata": {},
   "outputs": [
    {
     "data": {
      "text/html": "<div>\n<style scoped>\n    .dataframe tbody tr th:only-of-type {\n        vertical-align: middle;\n    }\n\n    .dataframe tbody tr th {\n        vertical-align: top;\n    }\n\n    .dataframe thead th {\n        text-align: right;\n    }\n</style>\n<table border=\"1\" class=\"dataframe\">\n  <thead>\n    <tr style=\"text-align: right;\">\n      <th></th>\n      <th>adult</th>\n      <th>belongs_to_collection</th>\n      <th>budget</th>\n      <th>genres</th>\n      <th>homepage</th>\n      <th>id</th>\n      <th>imdb_id</th>\n      <th>original_language</th>\n      <th>original_title</th>\n      <th>overview</th>\n      <th>...</th>\n      <th>runtime</th>\n      <th>spoken_languages</th>\n      <th>status</th>\n      <th>tagline</th>\n      <th>title</th>\n      <th>video</th>\n      <th>vote_average</th>\n      <th>vote_count</th>\n      <th>cast</th>\n      <th>crew</th>\n    </tr>\n  </thead>\n  <tbody>\n    <tr>\n      <th>0</th>\n      <td>False</td>\n      <td>{'id': 10194, 'name': 'Toy Story Collection', ...</td>\n      <td>30000000</td>\n      <td>[{'id': 16, 'name': 'Animation'}, {'id': 35, '...</td>\n      <td>http://toystory.disney.com/toy-story</td>\n      <td>862</td>\n      <td>tt0114709</td>\n      <td>en</td>\n      <td>Toy Story</td>\n      <td>Led by Woody, Andy's toys live happily in his ...</td>\n      <td>...</td>\n      <td>81.0</td>\n      <td>[{'iso_639_1': 'en', 'name': 'English'}]</td>\n      <td>Released</td>\n      <td>NaN</td>\n      <td>Toy Story</td>\n      <td>False</td>\n      <td>7.7</td>\n      <td>5415.0</td>\n      <td>[{'cast_id': 14, 'character': 'Woody (voice)',...</td>\n      <td>[{'credit_id': '52fe4284c3a36847f8024f49', 'de...</td>\n    </tr>\n    <tr>\n      <th>1</th>\n      <td>False</td>\n      <td>NaN</td>\n      <td>65000000</td>\n      <td>[{'id': 12, 'name': 'Adventure'}, {'id': 14, '...</td>\n      <td>NaN</td>\n      <td>8844</td>\n      <td>tt0113497</td>\n      <td>en</td>\n      <td>Jumanji</td>\n      <td>When siblings Judy and Peter discover an encha...</td>\n      <td>...</td>\n      <td>104.0</td>\n      <td>[{'iso_639_1': 'en', 'name': 'English'}, {'iso...</td>\n      <td>Released</td>\n      <td>Roll the dice and unleash the excitement!</td>\n      <td>Jumanji</td>\n      <td>False</td>\n      <td>6.9</td>\n      <td>2413.0</td>\n      <td>[{'cast_id': 1, 'character': 'Alan Parrish', '...</td>\n      <td>[{'credit_id': '52fe44bfc3a36847f80a7cd1', 'de...</td>\n    </tr>\n  </tbody>\n</table>\n<p>2 rows × 26 columns</p>\n</div>",
      "text/plain": "   adult                              belongs_to_collection    budget  \\\n0  False  {'id': 10194, 'name': 'Toy Story Collection', ...  30000000   \n1  False                                                NaN  65000000   \n\n                                              genres  \\\n0  [{'id': 16, 'name': 'Animation'}, {'id': 35, '...   \n1  [{'id': 12, 'name': 'Adventure'}, {'id': 14, '...   \n\n                               homepage    id    imdb_id original_language  \\\n0  http://toystory.disney.com/toy-story   862  tt0114709                en   \n1                                   NaN  8844  tt0113497                en   \n\n  original_title                                           overview  ...  \\\n0      Toy Story  Led by Woody, Andy's toys live happily in his ...  ...   \n1        Jumanji  When siblings Judy and Peter discover an encha...  ...   \n\n  runtime                                   spoken_languages    status  \\\n0    81.0           [{'iso_639_1': 'en', 'name': 'English'}]  Released   \n1   104.0  [{'iso_639_1': 'en', 'name': 'English'}, {'iso...  Released   \n\n                                     tagline      title  video  vote_average  \\\n0                                        NaN  Toy Story  False           7.7   \n1  Roll the dice and unleash the excitement!    Jumanji  False           6.9   \n\n  vote_count                                               cast  \\\n0     5415.0  [{'cast_id': 14, 'character': 'Woody (voice)',...   \n1     2413.0  [{'cast_id': 1, 'character': 'Alan Parrish', '...   \n\n                                                crew  \n0  [{'credit_id': '52fe4284c3a36847f8024f49', 'de...  \n1  [{'credit_id': '52fe44bfc3a36847f80a7cd1', 'de...  \n\n[2 rows x 26 columns]"
     },
     "execution_count": 8,
     "metadata": {},
     "output_type": "execute_result"
    }
   ],
   "source": [
    "# join movie_info with credits dataframe. call new df 'movie_stats'\n",
    "\n",
    "movie_stats = movie_info_dataset.merge(credits_dataset, on='id')\n",
    "movie_stats.head(2)\n"
   ]
  },
  {
   "cell_type": "code",
   "execution_count": 9,
   "metadata": {},
   "outputs": [
    {
     "data": {
      "text/html": "<div>\n<style scoped>\n    .dataframe tbody tr th:only-of-type {\n        vertical-align: middle;\n    }\n\n    .dataframe tbody tr th {\n        vertical-align: top;\n    }\n\n    .dataframe thead th {\n        text-align: right;\n    }\n</style>\n<table border=\"1\" class=\"dataframe\">\n  <thead>\n    <tr style=\"text-align: right;\">\n      <th></th>\n      <th>adult</th>\n      <th>belongs_to_collection</th>\n      <th>budget</th>\n      <th>genres</th>\n      <th>homepage</th>\n      <th>id</th>\n      <th>imdb_id</th>\n      <th>original_language</th>\n      <th>original_title</th>\n      <th>overview</th>\n      <th>...</th>\n      <th>spoken_languages</th>\n      <th>status</th>\n      <th>tagline</th>\n      <th>title</th>\n      <th>video</th>\n      <th>vote_average</th>\n      <th>vote_count</th>\n      <th>cast</th>\n      <th>crew</th>\n      <th>keywords</th>\n    </tr>\n  </thead>\n  <tbody>\n    <tr>\n      <th>0</th>\n      <td>False</td>\n      <td>{'id': 10194, 'name': 'Toy Story Collection', ...</td>\n      <td>30000000</td>\n      <td>[{'id': 16, 'name': 'Animation'}, {'id': 35, '...</td>\n      <td>http://toystory.disney.com/toy-story</td>\n      <td>862</td>\n      <td>tt0114709</td>\n      <td>en</td>\n      <td>Toy Story</td>\n      <td>Led by Woody, Andy's toys live happily in his ...</td>\n      <td>...</td>\n      <td>[{'iso_639_1': 'en', 'name': 'English'}]</td>\n      <td>Released</td>\n      <td>NaN</td>\n      <td>Toy Story</td>\n      <td>False</td>\n      <td>7.7</td>\n      <td>5415.0</td>\n      <td>[{'cast_id': 14, 'character': 'Woody (voice)',...</td>\n      <td>[{'credit_id': '52fe4284c3a36847f8024f49', 'de...</td>\n      <td>[{'id': 931, 'name': 'jealousy'}, {'id': 4290,...</td>\n    </tr>\n    <tr>\n      <th>1</th>\n      <td>False</td>\n      <td>NaN</td>\n      <td>65000000</td>\n      <td>[{'id': 12, 'name': 'Adventure'}, {'id': 14, '...</td>\n      <td>NaN</td>\n      <td>8844</td>\n      <td>tt0113497</td>\n      <td>en</td>\n      <td>Jumanji</td>\n      <td>When siblings Judy and Peter discover an encha...</td>\n      <td>...</td>\n      <td>[{'iso_639_1': 'en', 'name': 'English'}, {'iso...</td>\n      <td>Released</td>\n      <td>Roll the dice and unleash the excitement!</td>\n      <td>Jumanji</td>\n      <td>False</td>\n      <td>6.9</td>\n      <td>2413.0</td>\n      <td>[{'cast_id': 1, 'character': 'Alan Parrish', '...</td>\n      <td>[{'credit_id': '52fe44bfc3a36847f80a7cd1', 'de...</td>\n      <td>[{'id': 10090, 'name': 'board game'}, {'id': 1...</td>\n    </tr>\n  </tbody>\n</table>\n<p>2 rows × 27 columns</p>\n</div>",
      "text/plain": "   adult                              belongs_to_collection    budget  \\\n0  False  {'id': 10194, 'name': 'Toy Story Collection', ...  30000000   \n1  False                                                NaN  65000000   \n\n                                              genres  \\\n0  [{'id': 16, 'name': 'Animation'}, {'id': 35, '...   \n1  [{'id': 12, 'name': 'Adventure'}, {'id': 14, '...   \n\n                               homepage    id    imdb_id original_language  \\\n0  http://toystory.disney.com/toy-story   862  tt0114709                en   \n1                                   NaN  8844  tt0113497                en   \n\n  original_title                                           overview  ...  \\\n0      Toy Story  Led by Woody, Andy's toys live happily in his ...  ...   \n1        Jumanji  When siblings Judy and Peter discover an encha...  ...   \n\n                                    spoken_languages    status  \\\n0           [{'iso_639_1': 'en', 'name': 'English'}]  Released   \n1  [{'iso_639_1': 'en', 'name': 'English'}, {'iso...  Released   \n\n                                     tagline      title  video  vote_average  \\\n0                                        NaN  Toy Story  False           7.7   \n1  Roll the dice and unleash the excitement!    Jumanji  False           6.9   \n\n   vote_count                                               cast  \\\n0      5415.0  [{'cast_id': 14, 'character': 'Woody (voice)',...   \n1      2413.0  [{'cast_id': 1, 'character': 'Alan Parrish', '...   \n\n                                                crew  \\\n0  [{'credit_id': '52fe4284c3a36847f8024f49', 'de...   \n1  [{'credit_id': '52fe44bfc3a36847f80a7cd1', 'de...   \n\n                                            keywords  \n0  [{'id': 931, 'name': 'jealousy'}, {'id': 4290,...  \n1  [{'id': 10090, 'name': 'board game'}, {'id': 1...  \n\n[2 rows x 27 columns]"
     },
     "execution_count": 9,
     "metadata": {},
     "output_type": "execute_result"
    }
   ],
   "source": [
    "#join movie_stats with 'keywords' dataframe\n",
    "\n",
    "movie_stats = movie_stats.merge(keywords_dataset, on='id')\n",
    "movie_stats.head(2)"
   ]
  },
  {
   "cell_type": "code",
   "execution_count": 10,
   "metadata": {},
   "outputs": [
    {
     "data": {
      "text/html": "<div>\n<style scoped>\n    .dataframe tbody tr th:only-of-type {\n        vertical-align: middle;\n    }\n\n    .dataframe tbody tr th {\n        vertical-align: top;\n    }\n\n    .dataframe thead th {\n        text-align: right;\n    }\n</style>\n<table border=\"1\" class=\"dataframe\">\n  <thead>\n    <tr style=\"text-align: right;\">\n      <th></th>\n      <th>adult</th>\n      <th>belongs_to_collection</th>\n      <th>budget</th>\n      <th>genres</th>\n      <th>homepage</th>\n      <th>id</th>\n      <th>imdb_id</th>\n      <th>original_language</th>\n      <th>original_title</th>\n      <th>overview</th>\n      <th>...</th>\n      <th>spoken_languages</th>\n      <th>status</th>\n      <th>tagline</th>\n      <th>title</th>\n      <th>video</th>\n      <th>vote_average</th>\n      <th>vote_count</th>\n      <th>cast</th>\n      <th>crew</th>\n      <th>keywords</th>\n    </tr>\n  </thead>\n  <tbody>\n    <tr>\n      <th>677</th>\n      <td>False</td>\n      <td>NaN</td>\n      <td>0</td>\n      <td>[{'id': 18, 'name': 'Drama'}, {'id': 10749, 'n...</td>\n      <td>NaN</td>\n      <td>105045</td>\n      <td>tt0111613</td>\n      <td>de</td>\n      <td>Das Versprechen</td>\n      <td>East-Berlin, 1961, shortly after the erection ...</td>\n      <td>...</td>\n      <td>[{'iso_639_1': 'de', 'name': 'Deutsch'}]</td>\n      <td>Released</td>\n      <td>A love, a hope, a wall.</td>\n      <td>The Promise</td>\n      <td>False</td>\n      <td>5.0</td>\n      <td>1.0</td>\n      <td>[{'cast_id': 5, 'character': 'Sophie II', 'cre...</td>\n      <td>[{'credit_id': '52fe4a44c3a36847f81c463f', 'de...</td>\n      <td>[{'id': 7059, 'name': 'anti-communism'}, {'id'...</td>\n    </tr>\n    <tr>\n      <th>678</th>\n      <td>False</td>\n      <td>NaN</td>\n      <td>0</td>\n      <td>[{'id': 18, 'name': 'Drama'}, {'id': 10749, 'n...</td>\n      <td>NaN</td>\n      <td>105045</td>\n      <td>tt0111613</td>\n      <td>de</td>\n      <td>Das Versprechen</td>\n      <td>East-Berlin, 1961, shortly after the erection ...</td>\n      <td>...</td>\n      <td>[{'iso_639_1': 'de', 'name': 'Deutsch'}]</td>\n      <td>Released</td>\n      <td>A love, a hope, a wall.</td>\n      <td>The Promise</td>\n      <td>False</td>\n      <td>5.0</td>\n      <td>1.0</td>\n      <td>[{'cast_id': 5, 'character': 'Sophie II', 'cre...</td>\n      <td>[{'credit_id': '52fe4a44c3a36847f81c463f', 'de...</td>\n      <td>[{'id': 7059, 'name': 'anti-communism'}, {'id'...</td>\n    </tr>\n  </tbody>\n</table>\n<p>2 rows × 27 columns</p>\n</div>",
      "text/plain": "     adult belongs_to_collection budget  \\\n677  False                   NaN      0   \n678  False                   NaN      0   \n\n                                                genres homepage      id  \\\n677  [{'id': 18, 'name': 'Drama'}, {'id': 10749, 'n...      NaN  105045   \n678  [{'id': 18, 'name': 'Drama'}, {'id': 10749, 'n...      NaN  105045   \n\n       imdb_id original_language   original_title  \\\n677  tt0111613                de  Das Versprechen   \n678  tt0111613                de  Das Versprechen   \n\n                                              overview  ...  \\\n677  East-Berlin, 1961, shortly after the erection ...  ...   \n678  East-Berlin, 1961, shortly after the erection ...  ...   \n\n                             spoken_languages    status  \\\n677  [{'iso_639_1': 'de', 'name': 'Deutsch'}]  Released   \n678  [{'iso_639_1': 'de', 'name': 'Deutsch'}]  Released   \n\n                     tagline        title  video  vote_average  vote_count  \\\n677  A love, a hope, a wall.  The Promise  False           5.0         1.0   \n678  A love, a hope, a wall.  The Promise  False           5.0         1.0   \n\n                                                  cast  \\\n677  [{'cast_id': 5, 'character': 'Sophie II', 'cre...   \n678  [{'cast_id': 5, 'character': 'Sophie II', 'cre...   \n\n                                                  crew  \\\n677  [{'credit_id': '52fe4a44c3a36847f81c463f', 'de...   \n678  [{'credit_id': '52fe4a44c3a36847f81c463f', 'de...   \n\n                                              keywords  \n677  [{'id': 7059, 'name': 'anti-communism'}, {'id'...  \n678  [{'id': 7059, 'name': 'anti-communism'}, {'id'...  \n\n[2 rows x 27 columns]"
     },
     "execution_count": 10,
     "metadata": {},
     "output_type": "execute_result"
    }
   ],
   "source": [
    "# find duplicate entires based on movie id \n",
    "\n",
    "show_dups = movie_stats[movie_stats.duplicated(subset='id',keep='first') == True]\n",
    "show_dups.head(2)"
   ]
  },
  {
   "cell_type": "code",
   "execution_count": 11,
   "metadata": {},
   "outputs": [],
   "source": [
    "# lets drop any entries that share 'ids' (duplicates)\n",
    "\n",
    "movie_stats.drop_duplicates(subset='id', keep='first', inplace=True)"
   ]
  },
  {
   "cell_type": "markdown",
   "metadata": {},
   "source": [
    "Now we have the 3 movie information data sets merged into one."
   ]
  },
  {
   "cell_type": "markdown",
   "metadata": {},
   "source": [
    "4. Explore and drop useless columns"
   ]
  },
  {
   "cell_type": "code",
   "execution_count": 12,
   "metadata": {},
   "outputs": [
    {
     "data": {
      "text/plain": "Index(['adult', 'belongs_to_collection', 'budget', 'genres', 'homepage', 'id',\n       'imdb_id', 'original_language', 'original_title', 'overview',\n       'popularity', 'poster_path', 'production_companies',\n       'production_countries', 'release_date', 'revenue', 'runtime',\n       'spoken_languages', 'status', 'tagline', 'title', 'video',\n       'vote_average', 'vote_count', 'cast', 'crew', 'keywords'],\n      dtype='object')"
     },
     "execution_count": 12,
     "metadata": {},
     "output_type": "execute_result"
    }
   ],
   "source": [
    "# viewing all columns \n",
    "movie_stats.columns"
   ]
  },
  {
   "cell_type": "code",
   "execution_count": 13,
   "metadata": {},
   "outputs": [
    {
     "data": {
      "text/plain": "adult                        0\nbelongs_to_collection    40942\nbudget                       0\ngenres                       0\nhomepage                 37656\nid                           0\nimdb_id                     17\noriginal_language           11\noriginal_title               0\noverview                   954\npopularity                   0\nposter_path                383\nproduction_companies         0\nproduction_countries         0\nrelease_date                84\nrevenue                      0\nruntime                    257\nspoken_languages             0\nstatus                      81\ntagline                  25028\ntitle                        0\nvideo                        0\nvote_average                 0\nvote_count                   0\ncast                         0\ncrew                         0\nkeywords                     0\ndtype: int64"
     },
     "execution_count": 13,
     "metadata": {},
     "output_type": "execute_result"
    }
   ],
   "source": [
    "#see which columns contain missing values\n",
    "movie_stats.isna().sum()"
   ]
  },
  {
   "cell_type": "markdown",
   "metadata": {},
   "source": [
    "Looks like 'belongs_to_collection' 'homepage' and 'tagline' have lots of missing values and aren't necessary.\n",
    "\n",
    "Lets explore some other columns that seem unimportant."
   ]
  },
  {
   "cell_type": "code",
   "execution_count": 14,
   "metadata": {},
   "outputs": [
    {
     "data": {
      "text/html": "<div>\n<style scoped>\n    .dataframe tbody tr th:only-of-type {\n        vertical-align: middle;\n    }\n\n    .dataframe tbody tr th {\n        vertical-align: top;\n    }\n\n    .dataframe thead th {\n        text-align: right;\n    }\n</style>\n<table border=\"1\" class=\"dataframe\">\n  <thead>\n    <tr style=\"text-align: right;\">\n      <th></th>\n      <th>adult</th>\n      <th>belongs_to_collection</th>\n      <th>budget</th>\n      <th>genres</th>\n      <th>homepage</th>\n      <th>id</th>\n      <th>imdb_id</th>\n      <th>original_language</th>\n      <th>original_title</th>\n      <th>overview</th>\n      <th>...</th>\n      <th>spoken_languages</th>\n      <th>status</th>\n      <th>tagline</th>\n      <th>title</th>\n      <th>video</th>\n      <th>vote_average</th>\n      <th>vote_count</th>\n      <th>cast</th>\n      <th>crew</th>\n      <th>keywords</th>\n    </tr>\n  </thead>\n  <tbody>\n    <tr>\n      <th>19679</th>\n      <td>True</td>\n      <td>NaN</td>\n      <td>0</td>\n      <td>[{'id': 27, 'name': 'Horror'}]</td>\n      <td>NaN</td>\n      <td>5422</td>\n      <td>tt0079642</td>\n      <td>it</td>\n      <td>Le notti erotiche dei morti viventi</td>\n      <td>A sailor takes an American businessman and his...</td>\n      <td>...</td>\n      <td>[{'iso_639_1': 'it', 'name': 'Italiano'}]</td>\n      <td>Released</td>\n      <td>NaN</td>\n      <td>Erotic Nights of the Living Dead</td>\n      <td>False</td>\n      <td>2.2</td>\n      <td>7.0</td>\n      <td>[{'cast_id': 1, 'character': 'Luna', 'credit_i...</td>\n      <td>[{'credit_id': '582dee71925141095a00acc9', 'de...</td>\n      <td>[{'id': 572, 'name': 'sex'}, {'id': 596, 'name...</td>\n    </tr>\n    <tr>\n      <th>28914</th>\n      <td>True</td>\n      <td>NaN</td>\n      <td>0</td>\n      <td>[{'id': 80, 'name': 'Crime'}]</td>\n      <td>http://www.imdb.com/title/tt0119931/</td>\n      <td>169158</td>\n      <td>tt0119931</td>\n      <td>en</td>\n      <td>Standoff</td>\n      <td>The FBI and Texas police make ready to storm t...</td>\n      <td>...</td>\n      <td>[{'iso_639_1': 'en', 'name': 'English'}]</td>\n      <td>Released</td>\n      <td>Trust Will Get You Killed</td>\n      <td>Standoff</td>\n      <td>False</td>\n      <td>4.8</td>\n      <td>5.0</td>\n      <td>[{'cast_id': 1, 'character': 'Agent Jamie Dool...</td>\n      <td>[{'credit_id': '52fe4cdcc3a36847f824204b', 'de...</td>\n      <td>[{'id': 3419, 'name': 'fanatic'}, {'id': 4063,...</td>\n    </tr>\n    <tr>\n      <th>32142</th>\n      <td>True</td>\n      <td>NaN</td>\n      <td>0</td>\n      <td>[{'id': 35, 'name': 'Comedy'}]</td>\n      <td>NaN</td>\n      <td>44781</td>\n      <td>tt0322232</td>\n      <td>cn</td>\n      <td>發電悄嬌娃</td>\n      <td>Electrical Girl centers around a horny young w...</td>\n      <td>...</td>\n      <td>[{'iso_639_1': 'cn', 'name': '广州话 / 廣州話'}]</td>\n      <td>Released</td>\n      <td>NaN</td>\n      <td>Electrical Girl</td>\n      <td>False</td>\n      <td>0.0</td>\n      <td>0.0</td>\n      <td>[{'cast_id': 3, 'character': 'Jan Fong', 'cred...</td>\n      <td>[{'credit_id': '52fe469bc3a36847f810843f', 'de...</td>\n      <td>[]</td>\n    </tr>\n    <tr>\n      <th>32321</th>\n      <td>True</td>\n      <td>NaN</td>\n      <td>0</td>\n      <td>[{'id': 35, 'name': 'Comedy'}, {'id': 18, 'nam...</td>\n      <td>http://www.dietofsex.com/</td>\n      <td>324230</td>\n      <td>tt3094816</td>\n      <td>es</td>\n      <td>Diet of Sex</td>\n      <td>Ágata suffers from a psychological disorder wh...</td>\n      <td>...</td>\n      <td>[{'iso_639_1': 'es', 'name': 'Español'}]</td>\n      <td>Released</td>\n      <td>Comedy, food, drama and sex, a lot of sex</td>\n      <td>Diet of Sex</td>\n      <td>False</td>\n      <td>4.0</td>\n      <td>12.0</td>\n      <td>[{'cast_id': 0, 'character': 'Hardik', 'credit...</td>\n      <td>[{'credit_id': '54d6658e9251415f750024e7', 'de...</td>\n      <td>[{'id': 2483, 'name': 'nudity'}, {'id': 12420,...</td>\n    </tr>\n    <tr>\n      <th>41065</th>\n      <td>True</td>\n      <td>NaN</td>\n      <td>0</td>\n      <td>[{'id': 80, 'name': 'Crime'}, {'id': 27, 'name...</td>\n      <td>NaN</td>\n      <td>35731</td>\n      <td>tt1161951</td>\n      <td>en</td>\n      <td>Amateur Porn Star Killer 2</td>\n      <td>Shane Ryan's sequel to the disturbing Amateur ...</td>\n      <td>...</td>\n      <td>[{'iso_639_1': 'en', 'name': 'English'}]</td>\n      <td>Released</td>\n      <td>Humiliation. Rape. Murder. You know the drill.</td>\n      <td>Amateur Porn Star Killer 2</td>\n      <td>False</td>\n      <td>6.3</td>\n      <td>8.0</td>\n      <td>[]</td>\n      <td>[]</td>\n      <td>[{'id': 12420, 'name': 'unsimulated sex'}, {'i...</td>\n    </tr>\n    <tr>\n      <th>41066</th>\n      <td>True</td>\n      <td>NaN</td>\n      <td>0</td>\n      <td>[{'id': 35, 'name': 'Comedy'}, {'id': 10402, '...</td>\n      <td>NaN</td>\n      <td>55774</td>\n      <td>tt1153101</td>\n      <td>en</td>\n      <td>The Band</td>\n      <td>Australian film about a fictional sub-par Aust...</td>\n      <td>...</td>\n      <td>[{'iso_639_1': 'en', 'name': 'English'}]</td>\n      <td>Released</td>\n      <td>Sex, drugs and Rock 'n Roll</td>\n      <td>The Band</td>\n      <td>False</td>\n      <td>3.3</td>\n      <td>7.0</td>\n      <td>[{'cast_id': 1002, 'character': 'Candy Morgan'...</td>\n      <td>[{'credit_id': '52fe48dfc3a36847f817dfdd', 'de...</td>\n      <td>[{'id': 12420, 'name': 'unsimulated sex'}]</td>\n    </tr>\n    <tr>\n      <th>41736</th>\n      <td>True</td>\n      <td>NaN</td>\n      <td>0</td>\n      <td>[{'id': 80, 'name': 'Crime'}, {'id': 27, 'name...</td>\n      <td>NaN</td>\n      <td>39922</td>\n      <td>tt0070696</td>\n      <td>da</td>\n      <td>Dværgen</td>\n      <td>Olaf and his mother run a boarding house and a...</td>\n      <td>...</td>\n      <td>[{'iso_639_1': 'en', 'name': 'English'}]</td>\n      <td>Released</td>\n      <td>The Mother of all Dwarfsploitation films!</td>\n      <td>The Sinful Dwarf</td>\n      <td>False</td>\n      <td>5.8</td>\n      <td>13.0</td>\n      <td>[{'cast_id': 1002, 'character': 'Mary, Wife', ...</td>\n      <td>[{'credit_id': '52fe473e9251416c9106ede5', 'de...</td>\n      <td>[{'id': 570, 'name': 'rape'}, {'id': 604, 'nam...</td>\n    </tr>\n    <tr>\n      <th>42171</th>\n      <td>True</td>\n      <td>NaN</td>\n      <td>750000</td>\n      <td>[{'id': 53, 'name': 'Thriller'}, {'id': 80, 'n...</td>\n      <td>NaN</td>\n      <td>376004</td>\n      <td>tt4044464</td>\n      <td>en</td>\n      <td>Adulterers</td>\n      <td>A man who returns home to find his wife cheati...</td>\n      <td>...</td>\n      <td>[{'iso_639_1': 'en', 'name': 'English'}]</td>\n      <td>Released</td>\n      <td>Love. Betrayal. Vengeance</td>\n      <td>Adulterers</td>\n      <td>False</td>\n      <td>5.2</td>\n      <td>16.0</td>\n      <td>[{'cast_id': 1, 'character': 'Samuel Deuprey',...</td>\n      <td>[{'credit_id': '568b1f8ac3a368607502ca87', 'de...</td>\n      <td>[]</td>\n    </tr>\n    <tr>\n      <th>44251</th>\n      <td>True</td>\n      <td>NaN</td>\n      <td>0</td>\n      <td>[{'id': 878, 'name': 'Science Fiction'}, {'id'...</td>\n      <td>NaN</td>\n      <td>448290</td>\n      <td>tt2697688</td>\n      <td>en</td>\n      <td>Half -Life</td>\n      <td>An American scientific research facility opens...</td>\n      <td>...</td>\n      <td>[{'iso_639_1': 'en', 'name': 'English'}]</td>\n      <td>In Production</td>\n      <td>NaN</td>\n      <td>Half -Life</td>\n      <td>False</td>\n      <td>3.7</td>\n      <td>3.0</td>\n      <td>[]</td>\n      <td>[{'credit_id': '58ed3d15c3a36872ee0a2637', 'de...</td>\n      <td>[{'id': 41645, 'name': 'based on video game'}]</td>\n    </tr>\n  </tbody>\n</table>\n<p>9 rows × 27 columns</p>\n</div>",
      "text/plain": "      adult belongs_to_collection  budget  \\\n19679  True                   NaN       0   \n28914  True                   NaN       0   \n32142  True                   NaN       0   \n32321  True                   NaN       0   \n41065  True                   NaN       0   \n41066  True                   NaN       0   \n41736  True                   NaN       0   \n42171  True                   NaN  750000   \n44251  True                   NaN       0   \n\n                                                  genres  \\\n19679                     [{'id': 27, 'name': 'Horror'}]   \n28914                      [{'id': 80, 'name': 'Crime'}]   \n32142                     [{'id': 35, 'name': 'Comedy'}]   \n32321  [{'id': 35, 'name': 'Comedy'}, {'id': 18, 'nam...   \n41065  [{'id': 80, 'name': 'Crime'}, {'id': 27, 'name...   \n41066  [{'id': 35, 'name': 'Comedy'}, {'id': 10402, '...   \n41736  [{'id': 80, 'name': 'Crime'}, {'id': 27, 'name...   \n42171  [{'id': 53, 'name': 'Thriller'}, {'id': 80, 'n...   \n44251  [{'id': 878, 'name': 'Science Fiction'}, {'id'...   \n\n                                   homepage      id    imdb_id  \\\n19679                                   NaN    5422  tt0079642   \n28914  http://www.imdb.com/title/tt0119931/  169158  tt0119931   \n32142                                   NaN   44781  tt0322232   \n32321             http://www.dietofsex.com/  324230  tt3094816   \n41065                                   NaN   35731  tt1161951   \n41066                                   NaN   55774  tt1153101   \n41736                                   NaN   39922  tt0070696   \n42171                                   NaN  376004  tt4044464   \n44251                                   NaN  448290  tt2697688   \n\n      original_language                       original_title  \\\n19679                it  Le notti erotiche dei morti viventi   \n28914                en                             Standoff   \n32142                cn                                發電悄嬌娃   \n32321                es                          Diet of Sex   \n41065                en           Amateur Porn Star Killer 2   \n41066                en                             The Band   \n41736                da                              Dværgen   \n42171                en                           Adulterers   \n44251                en                           Half -Life   \n\n                                                overview  ...  \\\n19679  A sailor takes an American businessman and his...  ...   \n28914  The FBI and Texas police make ready to storm t...  ...   \n32142  Electrical Girl centers around a horny young w...  ...   \n32321  Ágata suffers from a psychological disorder wh...  ...   \n41065  Shane Ryan's sequel to the disturbing Amateur ...  ...   \n41066  Australian film about a fictional sub-par Aust...  ...   \n41736  Olaf and his mother run a boarding house and a...  ...   \n42171  A man who returns home to find his wife cheati...  ...   \n44251  An American scientific research facility opens...  ...   \n\n                                 spoken_languages         status  \\\n19679   [{'iso_639_1': 'it', 'name': 'Italiano'}]       Released   \n28914    [{'iso_639_1': 'en', 'name': 'English'}]       Released   \n32142  [{'iso_639_1': 'cn', 'name': '广州话 / 廣州話'}]       Released   \n32321    [{'iso_639_1': 'es', 'name': 'Español'}]       Released   \n41065    [{'iso_639_1': 'en', 'name': 'English'}]       Released   \n41066    [{'iso_639_1': 'en', 'name': 'English'}]       Released   \n41736    [{'iso_639_1': 'en', 'name': 'English'}]       Released   \n42171    [{'iso_639_1': 'en', 'name': 'English'}]       Released   \n44251    [{'iso_639_1': 'en', 'name': 'English'}]  In Production   \n\n                                              tagline  \\\n19679                                             NaN   \n28914                       Trust Will Get You Killed   \n32142                                             NaN   \n32321       Comedy, food, drama and sex, a lot of sex   \n41065  Humiliation. Rape. Murder. You know the drill.   \n41066                     Sex, drugs and Rock 'n Roll   \n41736       The Mother of all Dwarfsploitation films!   \n42171                       Love. Betrayal. Vengeance   \n44251                                             NaN   \n\n                                  title  video  vote_average  vote_count  \\\n19679  Erotic Nights of the Living Dead  False           2.2         7.0   \n28914                          Standoff  False           4.8         5.0   \n32142                   Electrical Girl  False           0.0         0.0   \n32321                       Diet of Sex  False           4.0        12.0   \n41065        Amateur Porn Star Killer 2  False           6.3         8.0   \n41066                          The Band  False           3.3         7.0   \n41736                  The Sinful Dwarf  False           5.8        13.0   \n42171                        Adulterers  False           5.2        16.0   \n44251                        Half -Life  False           3.7         3.0   \n\n                                                    cast  \\\n19679  [{'cast_id': 1, 'character': 'Luna', 'credit_i...   \n28914  [{'cast_id': 1, 'character': 'Agent Jamie Dool...   \n32142  [{'cast_id': 3, 'character': 'Jan Fong', 'cred...   \n32321  [{'cast_id': 0, 'character': 'Hardik', 'credit...   \n41065                                                 []   \n41066  [{'cast_id': 1002, 'character': 'Candy Morgan'...   \n41736  [{'cast_id': 1002, 'character': 'Mary, Wife', ...   \n42171  [{'cast_id': 1, 'character': 'Samuel Deuprey',...   \n44251                                                 []   \n\n                                                    crew  \\\n19679  [{'credit_id': '582dee71925141095a00acc9', 'de...   \n28914  [{'credit_id': '52fe4cdcc3a36847f824204b', 'de...   \n32142  [{'credit_id': '52fe469bc3a36847f810843f', 'de...   \n32321  [{'credit_id': '54d6658e9251415f750024e7', 'de...   \n41065                                                 []   \n41066  [{'credit_id': '52fe48dfc3a36847f817dfdd', 'de...   \n41736  [{'credit_id': '52fe473e9251416c9106ede5', 'de...   \n42171  [{'credit_id': '568b1f8ac3a368607502ca87', 'de...   \n44251  [{'credit_id': '58ed3d15c3a36872ee0a2637', 'de...   \n\n                                                keywords  \n19679  [{'id': 572, 'name': 'sex'}, {'id': 596, 'name...  \n28914  [{'id': 3419, 'name': 'fanatic'}, {'id': 4063,...  \n32142                                                 []  \n32321  [{'id': 2483, 'name': 'nudity'}, {'id': 12420,...  \n41065  [{'id': 12420, 'name': 'unsimulated sex'}, {'i...  \n41066         [{'id': 12420, 'name': 'unsimulated sex'}]  \n41736  [{'id': 570, 'name': 'rape'}, {'id': 604, 'nam...  \n42171                                                 []  \n44251     [{'id': 41645, 'name': 'based on video game'}]  \n\n[9 rows x 27 columns]"
     },
     "execution_count": 14,
     "metadata": {},
     "output_type": "execute_result"
    }
   ],
   "source": [
    "# examining the 'adult' column\n",
    "movie_stats['adult'].value_counts() # only 9 with True value\n",
    "movie_stats[movie_stats['adult'] == 'True'] # mostly sex related films with low popularity scores and low 'vote_counts'"
   ]
  },
  {
   "cell_type": "markdown",
   "metadata": {},
   "source": [
    "Looks like the 'adult' column can be dropped."
   ]
  },
  {
   "cell_type": "code",
   "execution_count": 15,
   "metadata": {},
   "outputs": [
    {
     "data": {
      "text/plain": "Released           44984\nRumored              229\nPost Production       98\nIn Production         20\nPlanned               15\nCanceled               2\nName: status, dtype: int64"
     },
     "execution_count": 15,
     "metadata": {},
     "output_type": "execute_result"
    }
   ],
   "source": [
    "#checking out the 'status' column to see how many films are unreleased\n",
    "\n",
    "movie_stats['status'].value_counts() "
   ]
  },
  {
   "cell_type": "markdown",
   "metadata": {},
   "source": [
    "Around 350 movies on the list haven't been released, seeing as we cannot recommend an unreleased film, we will drop them and also drop the 'staus' column."
   ]
  },
  {
   "cell_type": "code",
   "execution_count": 16,
   "metadata": {},
   "outputs": [],
   "source": [
    "#drop entries that have not been released\n",
    "unreleased = movie_stats[movie_stats['status'] != 'Released'].index\n",
    "movie_stats.drop(unreleased, inplace=True)"
   ]
  },
  {
   "cell_type": "code",
   "execution_count": 17,
   "metadata": {},
   "outputs": [
    {
     "data": {
      "text/plain": "0        tt0114709\n1        tt0113497\n2        tt0113228\n3        tt0114885\n4        tt0113041\n           ...    \n46619    tt6209470\n46620    tt2028550\n46621    tt0303758\n46622    tt0008536\n46623    tt6980792\nName: imdb_id, Length: 44984, dtype: object"
     },
     "execution_count": 17,
     "metadata": {},
     "output_type": "execute_result"
    }
   ],
   "source": [
    "# examine final suspicious columns\n",
    "movie_stats['video'].value_counts()  # only 93 films have a 'True' value for video. Doesn't seem like a useful metric  \n",
    "movie_stats['poster_path'].value_counts() #looks like a link to  film poster. Won't be relevant.\n",
    "movie_stats['original_title'] # mostly similar to the final and known title. Won't be relevant.\n",
    "movie_stats['imdb_id'] # Anothe unique ID. Doesn't seem useful as we already have a unique ID for each film. "
   ]
  },
  {
   "cell_type": "markdown",
   "metadata": {},
   "source": [
    "There are a total of 9 columns we have deemed unnecessary and thus will be dropped from our dataset."
   ]
  },
  {
   "cell_type": "code",
   "execution_count": 18,
   "metadata": {},
   "outputs": [],
   "source": [
    "# drop sunnecessary columns \n",
    "movie_stats.drop(['adult', 'homepage', 'status', 'video', 'poster_path', 'original_title', 'imdb_id', 'belongs_to_collection', 'tagline'], axis=1, inplace=True)"
   ]
  },
  {
   "cell_type": "markdown",
   "metadata": {},
   "source": [
    "5. Lets examine and clean our features to be more legible "
   ]
  },
  {
   "cell_type": "code",
   "execution_count": 19,
   "metadata": {},
   "outputs": [
    {
     "data": {
      "text/plain": "Index(['budget', 'genres', 'id', 'original_language', 'overview', 'popularity',\n       'production_companies', 'production_countries', 'release_date',\n       'revenue', 'runtime', 'spoken_languages', 'title', 'vote_average',\n       'vote_count', 'cast', 'crew', 'keywords'],\n      dtype='object')"
     },
     "execution_count": 19,
     "metadata": {},
     "output_type": "execute_result"
    }
   ],
   "source": [
    "# view our dataset\n",
    "movie_stats.columns"
   ]
  },
  {
   "cell_type": "markdown",
   "metadata": {},
   "source": [
    "Rearrange the columns with more ordinality (title and id first, etc.)"
   ]
  },
  {
   "cell_type": "code",
   "execution_count": 20,
   "metadata": {},
   "outputs": [
    {
     "data": {
      "text/html": "<div>\n<style scoped>\n    .dataframe tbody tr th:only-of-type {\n        vertical-align: middle;\n    }\n\n    .dataframe tbody tr th {\n        vertical-align: top;\n    }\n\n    .dataframe thead th {\n        text-align: right;\n    }\n</style>\n<table border=\"1\" class=\"dataframe\">\n  <thead>\n    <tr style=\"text-align: right;\">\n      <th></th>\n      <th>id</th>\n      <th>title</th>\n      <th>genres</th>\n      <th>keywords</th>\n      <th>cast</th>\n      <th>crew</th>\n      <th>overview</th>\n      <th>popularity</th>\n      <th>runtime</th>\n      <th>release_date</th>\n      <th>budget</th>\n      <th>revenue</th>\n      <th>original_language</th>\n      <th>spoken_languages</th>\n      <th>production_companies</th>\n      <th>production_countries</th>\n      <th>vote_average</th>\n      <th>vote_count</th>\n    </tr>\n  </thead>\n  <tbody>\n    <tr>\n      <th>0</th>\n      <td>862</td>\n      <td>Toy Story</td>\n      <td>[{'id': 16, 'name': 'Animation'}, {'id': 35, '...</td>\n      <td>[{'id': 931, 'name': 'jealousy'}, {'id': 4290,...</td>\n      <td>[{'cast_id': 14, 'character': 'Woody (voice)',...</td>\n      <td>[{'credit_id': '52fe4284c3a36847f8024f49', 'de...</td>\n      <td>Led by Woody, Andy's toys live happily in his ...</td>\n      <td>21.946943</td>\n      <td>81.0</td>\n      <td>1995-10-30</td>\n      <td>30000000</td>\n      <td>373554033.0</td>\n      <td>en</td>\n      <td>[{'iso_639_1': 'en', 'name': 'English'}]</td>\n      <td>[{'name': 'Pixar Animation Studios', 'id': 3}]</td>\n      <td>[{'iso_3166_1': 'US', 'name': 'United States o...</td>\n      <td>7.7</td>\n      <td>5415.0</td>\n    </tr>\n    <tr>\n      <th>1</th>\n      <td>8844</td>\n      <td>Jumanji</td>\n      <td>[{'id': 12, 'name': 'Adventure'}, {'id': 14, '...</td>\n      <td>[{'id': 10090, 'name': 'board game'}, {'id': 1...</td>\n      <td>[{'cast_id': 1, 'character': 'Alan Parrish', '...</td>\n      <td>[{'credit_id': '52fe44bfc3a36847f80a7cd1', 'de...</td>\n      <td>When siblings Judy and Peter discover an encha...</td>\n      <td>17.015539</td>\n      <td>104.0</td>\n      <td>1995-12-15</td>\n      <td>65000000</td>\n      <td>262797249.0</td>\n      <td>en</td>\n      <td>[{'iso_639_1': 'en', 'name': 'English'}, {'iso...</td>\n      <td>[{'name': 'TriStar Pictures', 'id': 559}, {'na...</td>\n      <td>[{'iso_3166_1': 'US', 'name': 'United States o...</td>\n      <td>6.9</td>\n      <td>2413.0</td>\n    </tr>\n    <tr>\n      <th>2</th>\n      <td>15602</td>\n      <td>Grumpier Old Men</td>\n      <td>[{'id': 10749, 'name': 'Romance'}, {'id': 35, ...</td>\n      <td>[{'id': 1495, 'name': 'fishing'}, {'id': 12392...</td>\n      <td>[{'cast_id': 2, 'character': 'Max Goldman', 'c...</td>\n      <td>[{'credit_id': '52fe466a9251416c75077a89', 'de...</td>\n      <td>A family wedding reignites the ancient feud be...</td>\n      <td>11.7129</td>\n      <td>101.0</td>\n      <td>1995-12-22</td>\n      <td>0</td>\n      <td>0.0</td>\n      <td>en</td>\n      <td>[{'iso_639_1': 'en', 'name': 'English'}]</td>\n      <td>[{'name': 'Warner Bros.', 'id': 6194}, {'name'...</td>\n      <td>[{'iso_3166_1': 'US', 'name': 'United States o...</td>\n      <td>6.5</td>\n      <td>92.0</td>\n    </tr>\n  </tbody>\n</table>\n</div>",
      "text/plain": "      id             title                                             genres  \\\n0    862         Toy Story  [{'id': 16, 'name': 'Animation'}, {'id': 35, '...   \n1   8844           Jumanji  [{'id': 12, 'name': 'Adventure'}, {'id': 14, '...   \n2  15602  Grumpier Old Men  [{'id': 10749, 'name': 'Romance'}, {'id': 35, ...   \n\n                                            keywords  \\\n0  [{'id': 931, 'name': 'jealousy'}, {'id': 4290,...   \n1  [{'id': 10090, 'name': 'board game'}, {'id': 1...   \n2  [{'id': 1495, 'name': 'fishing'}, {'id': 12392...   \n\n                                                cast  \\\n0  [{'cast_id': 14, 'character': 'Woody (voice)',...   \n1  [{'cast_id': 1, 'character': 'Alan Parrish', '...   \n2  [{'cast_id': 2, 'character': 'Max Goldman', 'c...   \n\n                                                crew  \\\n0  [{'credit_id': '52fe4284c3a36847f8024f49', 'de...   \n1  [{'credit_id': '52fe44bfc3a36847f80a7cd1', 'de...   \n2  [{'credit_id': '52fe466a9251416c75077a89', 'de...   \n\n                                            overview popularity  runtime  \\\n0  Led by Woody, Andy's toys live happily in his ...  21.946943     81.0   \n1  When siblings Judy and Peter discover an encha...  17.015539    104.0   \n2  A family wedding reignites the ancient feud be...    11.7129    101.0   \n\n  release_date    budget      revenue original_language  \\\n0   1995-10-30  30000000  373554033.0                en   \n1   1995-12-15  65000000  262797249.0                en   \n2   1995-12-22         0          0.0                en   \n\n                                    spoken_languages  \\\n0           [{'iso_639_1': 'en', 'name': 'English'}]   \n1  [{'iso_639_1': 'en', 'name': 'English'}, {'iso...   \n2           [{'iso_639_1': 'en', 'name': 'English'}]   \n\n                                production_companies  \\\n0     [{'name': 'Pixar Animation Studios', 'id': 3}]   \n1  [{'name': 'TriStar Pictures', 'id': 559}, {'na...   \n2  [{'name': 'Warner Bros.', 'id': 6194}, {'name'...   \n\n                                production_countries  vote_average  vote_count  \n0  [{'iso_3166_1': 'US', 'name': 'United States o...           7.7      5415.0  \n1  [{'iso_3166_1': 'US', 'name': 'United States o...           6.9      2413.0  \n2  [{'iso_3166_1': 'US', 'name': 'United States o...           6.5        92.0  "
     },
     "execution_count": 20,
     "metadata": {},
     "output_type": "execute_result"
    }
   ],
   "source": [
    "movie_stats = movie_stats.reindex(['id','title','genres','keywords','cast', 'crew','overview', 'popularity','runtime','release_date','budget','revenue','original_language','spoken_languages', 'production_companies','production_countries','vote_average','vote_count'], axis=1)\n",
    "movie_stats.head(3)"
   ]
  },
  {
   "cell_type": "markdown",
   "metadata": {},
   "source": [
    "Some of our columns are dictionaries packed in to lists and need to be unpacked."
   ]
  },
  {
   "cell_type": "code",
   "execution_count": 21,
   "metadata": {},
   "outputs": [],
   "source": [
    "# cleaning some columns that contain hard to read descriptions \n",
    "import ast\n",
    "def clean(hard):\n",
    "    lst = []\n",
    "    for i in ast.literal_eval(hard):\n",
    "        lst.append(i['name'])\n",
    "    return lst \n",
    "\n",
    "movie_stats['production_companies'] = movie_stats['production_companies'].apply(clean)\n",
    "movie_stats['production_countries'] = movie_stats['production_countries'].apply(clean)\n",
    "movie_stats['spoken_languages'] = movie_stats['spoken_languages'].apply(clean)\n",
    "movie_stats['genres'] = movie_stats['genres'].apply(clean)\n",
    "movie_stats['keywords'] = movie_stats['keywords'].apply(clean)\n",
    "movie_stats['cast'] = movie_stats['cast'].apply(clean)"
   ]
  },
  {
   "cell_type": "markdown",
   "metadata": {},
   "source": [
    "The 'crew' feature will list dozens of people so lets refine that column and select just the director."
   ]
  },
  {
   "cell_type": "code",
   "execution_count": 22,
   "metadata": {},
   "outputs": [],
   "source": [
    "# function for retrieving 'director' from crew list \n",
    "def get_director(obj):\n",
    "    lst = []\n",
    "    count = 0\n",
    "    for i in ast.literal_eval(obj):\n",
    "        if i['job'] == 'Director':\n",
    "            lst.append(i['name'])\n",
    "            break\n",
    "    return lst\n",
    "\n",
    "movie_stats['crew'] = movie_stats['crew'].apply(get_director)"
   ]
  },
  {
   "cell_type": "code",
   "execution_count": 23,
   "metadata": {},
   "outputs": [],
   "source": [
    "#rename 'crew' column to 'driector'\n",
    " \n",
    "movie_stats.rename(columns={'crew': 'director'}, inplace=True)"
   ]
  },
  {
   "cell_type": "code",
   "execution_count": 24,
   "metadata": {},
   "outputs": [
    {
     "data": {
      "text/plain": "id                        int64\ntitle                    object\ngenres                   object\nkeywords                 object\ncast                     object\ndirector                 object\noverview                 object\npopularity               object\nruntime                 float64\nrelease_date             object\nbudget                   object\nrevenue                 float64\noriginal_language        object\nspoken_languages         object\nproduction_companies     object\nproduction_countries     object\nvote_average            float64\nvote_count              float64\ndtype: object"
     },
     "execution_count": 24,
     "metadata": {},
     "output_type": "execute_result"
    }
   ],
   "source": [
    "# viewing our cleaned 'movie stats' data frame \n",
    "movie_stats.dtypes\n"
   ]
  },
  {
   "cell_type": "markdown",
   "metadata": {},
   "source": [
    "6. Time to convert some datatypes"
   ]
  },
  {
   "cell_type": "markdown",
   "metadata": {},
   "source": [
    "Lets convert our 'popularity' and 'budget' columns to float datatypes, being that it is a number ranking. "
   ]
  },
  {
   "cell_type": "code",
   "execution_count": 25,
   "metadata": {},
   "outputs": [],
   "source": [
    "movie_stats['popularity'] = pd.to_numeric(movie_stats['popularity'])\n",
    "movie_stats['budget'] = pd.to_numeric(movie_stats['budget'])\n"
   ]
  },
  {
   "cell_type": "markdown",
   "metadata": {},
   "source": [
    "Our 'release_date' column can be refined to just 'year'."
   ]
  },
  {
   "cell_type": "code",
   "execution_count": 26,
   "metadata": {},
   "outputs": [],
   "source": [
    "#convert 'release_date' column to datetime datatype\n",
    "movie_stats['release_date'] = pd.to_datetime(movie_stats['release_date'])\n",
    "\n",
    "#extract year from date\n",
    "movie_stats['year'] = movie_stats['release_date'].dt.year\n"
   ]
  },
  {
   "cell_type": "code",
   "execution_count": 27,
   "metadata": {},
   "outputs": [],
   "source": [
    "# 78 films have missing  value for release year, enter 0 for those \n",
    "movie_stats.year.fillna(0, inplace=True)\n",
    "\n",
    "# convert years to int with no decimal place \n",
    "movie_stats['year'] = movie_stats['year'].astype('int')"
   ]
  },
  {
   "cell_type": "code",
   "execution_count": 28,
   "metadata": {},
   "outputs": [],
   "source": [
    "# retitle 'year' to 'release year'\n",
    "movie_stats['release year'] = movie_stats['year']"
   ]
  },
  {
   "cell_type": "code",
   "execution_count": 29,
   "metadata": {},
   "outputs": [],
   "source": [
    "# drop 'release_date' and 'year' columns \n",
    "movie_stats.drop(['release_date', 'year'], axis=1, inplace=True)\n"
   ]
  },
  {
   "cell_type": "code",
   "execution_count": 30,
   "metadata": {},
   "outputs": [],
   "source": [
    "#convert some column dtypes from float to int\n",
    "movie_stats['revenue'] = movie_stats['revenue'].astype('int')\n",
    "movie_stats['vote_count'] = movie_stats['vote_count'].astype('int')"
   ]
  },
  {
   "cell_type": "code",
   "execution_count": 31,
   "metadata": {},
   "outputs": [
    {
     "data": {
      "text/plain": "id                        int64\ntitle                    object\ngenres                   object\nkeywords                 object\ncast                     object\ndirector                 object\noverview                 object\npopularity              float64\nruntime                 float64\nbudget                    int64\nrevenue                   int64\noriginal_language        object\nspoken_languages         object\nproduction_companies     object\nproduction_countries     object\nvote_average            float64\nvote_count                int64\nrelease year              int64\ndtype: object"
     },
     "execution_count": 31,
     "metadata": {},
     "output_type": "execute_result"
    }
   ],
   "source": [
    "movie_stats.dtypes"
   ]
  },
  {
   "cell_type": "markdown",
   "metadata": {},
   "source": [
    "Here we have a pretty cleaned up dataset. We are now going to make a couple copies of our dataset to prepare for different modeling approaches. "
   ]
  },
  {
   "cell_type": "code",
   "execution_count": 32,
   "metadata": {},
   "outputs": [],
   "source": [
    "movie_num = movie_stats.copy()\n",
    "movie_text = movie_stats.copy()"
   ]
  },
  {
   "cell_type": "markdown",
   "metadata": {},
   "source": [
    "First we are going to focus on a features that we can 'one-hot-encode' - trasforming categeories into numerical representations. "
   ]
  },
  {
   "cell_type": "markdown",
   "metadata": {},
   "source": [
    "Pt. 2 One-hot-encoding values"
   ]
  },
  {
   "cell_type": "markdown",
   "metadata": {},
   "source": [
    "Lets take a look at the 'original_language' and 'spoken_langue' columns to see if we need both."
   ]
  },
  {
   "cell_type": "code",
   "execution_count": null,
   "metadata": {},
   "outputs": [],
   "source": [
    "movie_num['original_language'].value_counts().head(20) # ~32,000 films are originally in English\n",
    "movie_num['spoken_languages'].value_counts().head(30) # ~22,000 are English only, and several thousand more include english as a language.  "
   ]
  },
  {
   "cell_type": "code",
   "execution_count": 34,
   "metadata": {},
   "outputs": [
    {
     "data": {
      "text/plain": "list"
     },
     "execution_count": 34,
     "metadata": {},
     "output_type": "execute_result"
    }
   ],
   "source": [
    "type(movie_num.loc[0, 'production_countries'])"
   ]
  },
  {
   "cell_type": "markdown",
   "metadata": {},
   "source": [
    "After doing some research, we discovered that any language spoken in the film can count as a 'spoken language'. What is more important for our sake is whether or not the movie is a foreign film. So we will drop the 'spoken_languages' column. "
   ]
  },
  {
   "cell_type": "markdown",
   "metadata": {},
   "source": [
    "1. Drop 'spoken languages' column"
   ]
  },
  {
   "cell_type": "code",
   "execution_count": 35,
   "metadata": {},
   "outputs": [],
   "source": [
    "# drop 'spoken languages' column\n",
    "movie_num.drop(['spoken_languages'], axis=1, inplace=True)"
   ]
  },
  {
   "cell_type": "markdown",
   "metadata": {},
   "source": []
  },
  {
   "cell_type": "code",
   "execution_count": null,
   "metadata": {},
   "outputs": [],
   "source": [
    "# checking which movies have missing original lang value\n",
    "movie_num[movie_num['original_language'].isna()]"
   ]
  },
  {
   "cell_type": "code",
   "execution_count": 37,
   "metadata": {},
   "outputs": [],
   "source": [
    "# imputing missing language value\n",
    "movie_num.loc[19764, 'original_language'] = 'de'\n",
    "movie_num.loc[21800, 'original_language'] = 'en'\n",
    "movie_num.loc[23028, 'original_language'] = 'en'\n",
    "movie_num.loc[32349, 'original_language'] = 'en'\n",
    "movie_num.loc[38572, 'original_language'] = 'cs'\n",
    "movie_num.loc[42209, 'original_language'] = 'en'\n",
    "movie_num.loc[43034, 'original_language'] = 'en'\n",
    "movie_num.loc[45218, 'original_language'] = 'fr'\n",
    "movie_num.loc[45571, 'original_language'] = 'en'\n",
    "movie_num.loc[45737, 'original_language'] = 'de'"
   ]
  },
  {
   "cell_type": "markdown",
   "metadata": {},
   "source": [
    "3. Make a copy of dataset to focus soley on features dealing with language and country "
   ]
  },
  {
   "cell_type": "code",
   "execution_count": 38,
   "metadata": {},
   "outputs": [
    {
     "data": {
      "text/html": "<div>\n<style scoped>\n    .dataframe tbody tr th:only-of-type {\n        vertical-align: middle;\n    }\n\n    .dataframe tbody tr th {\n        vertical-align: top;\n    }\n\n    .dataframe thead th {\n        text-align: right;\n    }\n</style>\n<table border=\"1\" class=\"dataframe\">\n  <thead>\n    <tr style=\"text-align: right;\">\n      <th></th>\n      <th>id</th>\n      <th>title</th>\n      <th>original_language</th>\n      <th>production_countries</th>\n    </tr>\n  </thead>\n  <tbody>\n    <tr>\n      <th>0</th>\n      <td>862</td>\n      <td>Toy Story</td>\n      <td>en</td>\n      <td>[United States of America]</td>\n    </tr>\n    <tr>\n      <th>1</th>\n      <td>8844</td>\n      <td>Jumanji</td>\n      <td>en</td>\n      <td>[United States of America]</td>\n    </tr>\n    <tr>\n      <th>2</th>\n      <td>15602</td>\n      <td>Grumpier Old Men</td>\n      <td>en</td>\n      <td>[United States of America]</td>\n    </tr>\n    <tr>\n      <th>3</th>\n      <td>31357</td>\n      <td>Waiting to Exhale</td>\n      <td>en</td>\n      <td>[United States of America]</td>\n    </tr>\n    <tr>\n      <th>4</th>\n      <td>11862</td>\n      <td>Father of the Bride Part II</td>\n      <td>en</td>\n      <td>[United States of America]</td>\n    </tr>\n    <tr>\n      <th>...</th>\n      <td>...</td>\n      <td>...</td>\n      <td>...</td>\n      <td>...</td>\n    </tr>\n    <tr>\n      <th>46619</th>\n      <td>439050</td>\n      <td>Subdue</td>\n      <td>fa</td>\n      <td>[Iran]</td>\n    </tr>\n    <tr>\n      <th>46620</th>\n      <td>111109</td>\n      <td>Century of Birthing</td>\n      <td>tl</td>\n      <td>[Philippines]</td>\n    </tr>\n    <tr>\n      <th>46621</th>\n      <td>67758</td>\n      <td>Betrayal</td>\n      <td>en</td>\n      <td>[United States of America]</td>\n    </tr>\n    <tr>\n      <th>46622</th>\n      <td>227506</td>\n      <td>Satan Triumphant</td>\n      <td>en</td>\n      <td>[Russia]</td>\n    </tr>\n    <tr>\n      <th>46623</th>\n      <td>461257</td>\n      <td>Queerama</td>\n      <td>en</td>\n      <td>[United Kingdom]</td>\n    </tr>\n  </tbody>\n</table>\n<p>44984 rows × 4 columns</p>\n</div>",
      "text/plain": "           id                        title original_language  \\\n0         862                    Toy Story                en   \n1        8844                      Jumanji                en   \n2       15602             Grumpier Old Men                en   \n3       31357            Waiting to Exhale                en   \n4       11862  Father of the Bride Part II                en   \n...       ...                          ...               ...   \n46619  439050                       Subdue                fa   \n46620  111109          Century of Birthing                tl   \n46621   67758                     Betrayal                en   \n46622  227506             Satan Triumphant                en   \n46623  461257                     Queerama                en   \n\n             production_countries  \n0      [United States of America]  \n1      [United States of America]  \n2      [United States of America]  \n3      [United States of America]  \n4      [United States of America]  \n...                           ...  \n46619                      [Iran]  \n46620               [Philippines]  \n46621  [United States of America]  \n46622                    [Russia]  \n46623            [United Kingdom]  \n\n[44984 rows x 4 columns]"
     },
     "execution_count": 38,
     "metadata": {},
     "output_type": "execute_result"
    }
   ],
   "source": [
    "# make a copy of our dataset \n",
    "movie_nati = movie_num[['id', 'title', 'original_language', 'production_countries']]\n",
    "movie_nati"
   ]
  },
  {
   "cell_type": "markdown",
   "metadata": {},
   "source": [
    "Let's take a look at all the languages we will list as 'foreign', without any US bias (lol)"
   ]
  },
  {
   "cell_type": "code",
   "execution_count": 39,
   "metadata": {},
   "outputs": [
    {
     "data": {
      "text/plain": "['fr', 'zh', 'it', 'fa', 'nl', 'de', 'cn', 'ar', 'es', 'ru']"
     },
     "execution_count": 39,
     "metadata": {},
     "output_type": "execute_result"
    }
   ],
   "source": [
    "# list of foreign languages (sans english)\n",
    "for_lan_list = list(movie_nati['original_language'].unique())\n",
    "for_lan_list.remove('en')\n",
    "for_lan_list[:10]"
   ]
  },
  {
   "cell_type": "markdown",
   "metadata": {},
   "source": [
    "4. Create new columns for 'english language' and 'foreign language'"
   ]
  },
  {
   "cell_type": "code",
   "execution_count": 40,
   "metadata": {},
   "outputs": [],
   "source": [
    "#create new column that has '1' if original language is English, '0' if not.\n",
    "movie_nati['english_lang'] = np.where(movie_nati['original_language'] == 'en', 1, 0)\n",
    "\n",
    "#create new column that has '1' if original language is not English, '0' if it is.\n",
    "movie_nati['foreign_lang'] = np.where(movie_nati['original_language'] != 'en', 1, 0)"
   ]
  },
  {
   "cell_type": "markdown",
   "metadata": {},
   "source": [
    "The step above may be redundant, but now we have two new features; one for English language films and one for foreign language films."
   ]
  },
  {
   "cell_type": "code",
   "execution_count": 41,
   "metadata": {},
   "outputs": [],
   "source": [
    "# now we can drop 'original_language' column\n",
    "movie_nati.drop(['original_language'], axis=1, inplace=True)"
   ]
  },
  {
   "cell_type": "markdown",
   "metadata": {},
   "source": [
    "5. Now we'll look at the 'production_countries' column"
   ]
  },
  {
   "cell_type": "code",
   "execution_count": 42,
   "metadata": {},
   "outputs": [
    {
     "data": {
      "text/html": "<div>\n<style scoped>\n    .dataframe tbody tr th:only-of-type {\n        vertical-align: middle;\n    }\n\n    .dataframe tbody tr th {\n        vertical-align: top;\n    }\n\n    .dataframe thead th {\n        text-align: right;\n    }\n</style>\n<table border=\"1\" class=\"dataframe\">\n  <thead>\n    <tr style=\"text-align: right;\">\n      <th></th>\n      <th>id</th>\n      <th>title</th>\n      <th>production_countries</th>\n      <th>english_lang</th>\n      <th>foreign_lang</th>\n    </tr>\n  </thead>\n  <tbody>\n    <tr>\n      <th>0</th>\n      <td>862</td>\n      <td>Toy Story</td>\n      <td>United States of America</td>\n      <td>1</td>\n      <td>0</td>\n    </tr>\n    <tr>\n      <th>1</th>\n      <td>8844</td>\n      <td>Jumanji</td>\n      <td>United States of America</td>\n      <td>1</td>\n      <td>0</td>\n    </tr>\n    <tr>\n      <th>2</th>\n      <td>15602</td>\n      <td>Grumpier Old Men</td>\n      <td>United States of America</td>\n      <td>1</td>\n      <td>0</td>\n    </tr>\n    <tr>\n      <th>3</th>\n      <td>31357</td>\n      <td>Waiting to Exhale</td>\n      <td>United States of America</td>\n      <td>1</td>\n      <td>0</td>\n    </tr>\n    <tr>\n      <th>4</th>\n      <td>11862</td>\n      <td>Father of the Bride Part II</td>\n      <td>United States of America</td>\n      <td>1</td>\n      <td>0</td>\n    </tr>\n    <tr>\n      <th>...</th>\n      <td>...</td>\n      <td>...</td>\n      <td>...</td>\n      <td>...</td>\n      <td>...</td>\n    </tr>\n    <tr>\n      <th>46614</th>\n      <td>84419</td>\n      <td>House of Horrors</td>\n      <td>United States of America</td>\n      <td>1</td>\n      <td>0</td>\n    </tr>\n    <tr>\n      <th>46616</th>\n      <td>289923</td>\n      <td>The Burkittsville 7</td>\n      <td>United States of America</td>\n      <td>1</td>\n      <td>0</td>\n    </tr>\n    <tr>\n      <th>46617</th>\n      <td>222848</td>\n      <td>Caged Heat 3000</td>\n      <td>United States of America</td>\n      <td>1</td>\n      <td>0</td>\n    </tr>\n    <tr>\n      <th>46618</th>\n      <td>30840</td>\n      <td>Robin Hood</td>\n      <td>United States of America</td>\n      <td>1</td>\n      <td>0</td>\n    </tr>\n    <tr>\n      <th>46621</th>\n      <td>67758</td>\n      <td>Betrayal</td>\n      <td>United States of America</td>\n      <td>1</td>\n      <td>0</td>\n    </tr>\n  </tbody>\n</table>\n<p>21005 rows × 5 columns</p>\n</div>",
      "text/plain": "           id                        title      production_countries  \\\n0         862                    Toy Story  United States of America   \n1        8844                      Jumanji  United States of America   \n2       15602             Grumpier Old Men  United States of America   \n3       31357            Waiting to Exhale  United States of America   \n4       11862  Father of the Bride Part II  United States of America   \n...       ...                          ...                       ...   \n46614   84419             House of Horrors  United States of America   \n46616  289923          The Burkittsville 7  United States of America   \n46617  222848              Caged Heat 3000  United States of America   \n46618   30840                   Robin Hood  United States of America   \n46621   67758                     Betrayal  United States of America   \n\n       english_lang  foreign_lang  \n0                 1             0  \n1                 1             0  \n2                 1             0  \n3                 1             0  \n4                 1             0  \n...             ...           ...  \n46614             1             0  \n46616             1             0  \n46617             1             0  \n46618             1             0  \n46621             1             0  \n\n[21005 rows x 5 columns]"
     },
     "execution_count": 42,
     "metadata": {},
     "output_type": "execute_result"
    }
   ],
   "source": [
    "# breaking out the 'production_countries' list and filter for films that have 'United States of America' in the list\n",
    "unique_country = movie_nati.explode('production_countries')\n",
    "uniq_country = unique_country[unique_country['production_countries'] == 'United States of America']\n",
    "uniq_country"
   ]
  },
  {
   "cell_type": "code",
   "execution_count": 43,
   "metadata": {},
   "outputs": [
    {
     "data": {
      "text/plain": "United States of America    21005\nUnited Kingdom               4074\nFrance                       3893\nGermany                      2235\nItaly                        2144\ndtype: int64"
     },
     "execution_count": 43,
     "metadata": {},
     "output_type": "execute_result"
    }
   ],
   "source": [
    "# create function to count instances of countries in 'production_countries' column\n",
    "\n",
    "def to_1D(series):\n",
    " return pd.Series([x for _list in series for x in _list])\n",
    "\n",
    "to_1D(movie_nati['production_countries']).value_counts().head()"
   ]
  },
  {
   "cell_type": "markdown",
   "metadata": {},
   "source": [
    "6. Now we will create 3 new columns; 'US_film' , 'foreign_film', 'international' (which means more than one country listen in 'production_countries')"
   ]
  },
  {
   "cell_type": "code",
   "execution_count": 44,
   "metadata": {},
   "outputs": [],
   "source": [
    "# using lambda functions to break down 'production countrie' column \n",
    "movie_nati['US_film'] = movie_nati['production_countries'].apply(lambda x: 1 if x[0:1] == ['United States of America'] else 0)\n",
    "movie_nati['foreign_film'] = movie_nati['production_countries'].apply(lambda x: 1 if x[0:1] != ['United States of America'] and len(x) == 1 else 0)\n",
    "movie_nati['international'] = movie_nati['production_countries'].apply(lambda x: 1 if len(x) > 1 else 0)\n"
   ]
  },
  {
   "cell_type": "markdown",
   "metadata": {},
   "source": [
    "7. Now lets drop the 'production countries' column "
   ]
  },
  {
   "cell_type": "code",
   "execution_count": 45,
   "metadata": {},
   "outputs": [],
   "source": [
    "movie_nati.drop(['production_countries'], axis=1, inplace=True)"
   ]
  },
  {
   "cell_type": "code",
   "execution_count": 46,
   "metadata": {},
   "outputs": [
    {
     "data": {
      "text/html": "<div>\n<style scoped>\n    .dataframe tbody tr th:only-of-type {\n        vertical-align: middle;\n    }\n\n    .dataframe tbody tr th {\n        vertical-align: top;\n    }\n\n    .dataframe thead th {\n        text-align: right;\n    }\n</style>\n<table border=\"1\" class=\"dataframe\">\n  <thead>\n    <tr style=\"text-align: right;\">\n      <th></th>\n      <th>id</th>\n      <th>title</th>\n      <th>english_lang</th>\n      <th>foreign_lang</th>\n      <th>US_film</th>\n      <th>foreign_film</th>\n      <th>international</th>\n    </tr>\n  </thead>\n  <tbody>\n    <tr>\n      <th>0</th>\n      <td>862</td>\n      <td>Toy Story</td>\n      <td>1</td>\n      <td>0</td>\n      <td>1</td>\n      <td>0</td>\n      <td>0</td>\n    </tr>\n    <tr>\n      <th>1</th>\n      <td>8844</td>\n      <td>Jumanji</td>\n      <td>1</td>\n      <td>0</td>\n      <td>1</td>\n      <td>0</td>\n      <td>0</td>\n    </tr>\n    <tr>\n      <th>2</th>\n      <td>15602</td>\n      <td>Grumpier Old Men</td>\n      <td>1</td>\n      <td>0</td>\n      <td>1</td>\n      <td>0</td>\n      <td>0</td>\n    </tr>\n    <tr>\n      <th>3</th>\n      <td>31357</td>\n      <td>Waiting to Exhale</td>\n      <td>1</td>\n      <td>0</td>\n      <td>1</td>\n      <td>0</td>\n      <td>0</td>\n    </tr>\n    <tr>\n      <th>4</th>\n      <td>11862</td>\n      <td>Father of the Bride Part II</td>\n      <td>1</td>\n      <td>0</td>\n      <td>1</td>\n      <td>0</td>\n      <td>0</td>\n    </tr>\n  </tbody>\n</table>\n</div>",
      "text/plain": "      id                        title  english_lang  foreign_lang  US_film  \\\n0    862                    Toy Story             1             0        1   \n1   8844                      Jumanji             1             0        1   \n2  15602             Grumpier Old Men             1             0        1   \n3  31357            Waiting to Exhale             1             0        1   \n4  11862  Father of the Bride Part II             1             0        1   \n\n   foreign_film  international  \n0             0              0  \n1             0              0  \n2             0              0  \n3             0              0  \n4             0              0  "
     },
     "execution_count": 46,
     "metadata": {},
     "output_type": "execute_result"
    }
   ],
   "source": [
    "# lets take a look at our dateframe\n",
    "movie_nati.head(5)"
   ]
  },
  {
   "cell_type": "markdown",
   "metadata": {},
   "source": [
    "Looks good!"
   ]
  },
  {
   "cell_type": "markdown",
   "metadata": {},
   "source": [
    "8. Now lets merge our newly created US/foreign dataframe with our movie_num dataframe"
   ]
  },
  {
   "cell_type": "code",
   "execution_count": 47,
   "metadata": {},
   "outputs": [],
   "source": [
    "movie_nums = pd.merge(movie_num, movie_nati, how='inner', left_on=['id','title'], right_on=['id','title'])"
   ]
  },
  {
   "cell_type": "code",
   "execution_count": 48,
   "metadata": {},
   "outputs": [],
   "source": [
    "movie_nums.drop(['original_language', 'production_countries'], axis=1, inplace=True)"
   ]
  },
  {
   "cell_type": "code",
   "execution_count": 49,
   "metadata": {},
   "outputs": [
    {
     "data": {
      "text/html": "<div>\n<style scoped>\n    .dataframe tbody tr th:only-of-type {\n        vertical-align: middle;\n    }\n\n    .dataframe tbody tr th {\n        vertical-align: top;\n    }\n\n    .dataframe thead th {\n        text-align: right;\n    }\n</style>\n<table border=\"1\" class=\"dataframe\">\n  <thead>\n    <tr style=\"text-align: right;\">\n      <th></th>\n      <th>id</th>\n      <th>title</th>\n      <th>genres</th>\n      <th>keywords</th>\n      <th>cast</th>\n      <th>director</th>\n      <th>overview</th>\n      <th>popularity</th>\n      <th>runtime</th>\n      <th>budget</th>\n      <th>revenue</th>\n      <th>production_companies</th>\n      <th>vote_average</th>\n      <th>vote_count</th>\n      <th>release year</th>\n      <th>english_lang</th>\n      <th>foreign_lang</th>\n      <th>US_film</th>\n      <th>foreign_film</th>\n      <th>international</th>\n    </tr>\n  </thead>\n  <tbody>\n    <tr>\n      <th>0</th>\n      <td>862</td>\n      <td>Toy Story</td>\n      <td>[Animation, Comedy, Family]</td>\n      <td>[jealousy, toy, boy, friendship, friends, riva...</td>\n      <td>[Tom Hanks, Tim Allen, Don Rickles, Jim Varney...</td>\n      <td>[John Lasseter]</td>\n      <td>Led by Woody, Andy's toys live happily in his ...</td>\n      <td>21.946943</td>\n      <td>81.0</td>\n      <td>30000000</td>\n      <td>373554033</td>\n      <td>[Pixar Animation Studios]</td>\n      <td>7.7</td>\n      <td>5415</td>\n      <td>1995</td>\n      <td>1</td>\n      <td>0</td>\n      <td>1</td>\n      <td>0</td>\n      <td>0</td>\n    </tr>\n    <tr>\n      <th>1</th>\n      <td>8844</td>\n      <td>Jumanji</td>\n      <td>[Adventure, Fantasy, Family]</td>\n      <td>[board game, disappearance, based on children'...</td>\n      <td>[Robin Williams, Jonathan Hyde, Kirsten Dunst,...</td>\n      <td>[Joe Johnston]</td>\n      <td>When siblings Judy and Peter discover an encha...</td>\n      <td>17.015539</td>\n      <td>104.0</td>\n      <td>65000000</td>\n      <td>262797249</td>\n      <td>[TriStar Pictures, Teitler Film, Interscope Co...</td>\n      <td>6.9</td>\n      <td>2413</td>\n      <td>1995</td>\n      <td>1</td>\n      <td>0</td>\n      <td>1</td>\n      <td>0</td>\n      <td>0</td>\n    </tr>\n  </tbody>\n</table>\n</div>",
      "text/plain": "     id      title                        genres  \\\n0   862  Toy Story   [Animation, Comedy, Family]   \n1  8844    Jumanji  [Adventure, Fantasy, Family]   \n\n                                            keywords  \\\n0  [jealousy, toy, boy, friendship, friends, riva...   \n1  [board game, disappearance, based on children'...   \n\n                                                cast         director  \\\n0  [Tom Hanks, Tim Allen, Don Rickles, Jim Varney...  [John Lasseter]   \n1  [Robin Williams, Jonathan Hyde, Kirsten Dunst,...   [Joe Johnston]   \n\n                                            overview  popularity  runtime  \\\n0  Led by Woody, Andy's toys live happily in his ...   21.946943     81.0   \n1  When siblings Judy and Peter discover an encha...   17.015539    104.0   \n\n     budget    revenue                               production_companies  \\\n0  30000000  373554033                          [Pixar Animation Studios]   \n1  65000000  262797249  [TriStar Pictures, Teitler Film, Interscope Co...   \n\n   vote_average  vote_count  release year  english_lang  foreign_lang  \\\n0           7.7        5415          1995             1             0   \n1           6.9        2413          1995             1             0   \n\n   US_film  foreign_film  international  \n0        1             0              0  \n1        1             0              0  "
     },
     "execution_count": 49,
     "metadata": {},
     "output_type": "execute_result"
    }
   ],
   "source": [
    "movie_nums.head(2)"
   ]
  },
  {
   "cell_type": "markdown",
   "metadata": {},
   "source": [
    "Pt. 3 Let's one-hot-encode the 'production companies' feature!"
   ]
  },
  {
   "cell_type": "markdown",
   "metadata": {},
   "source": [
    "1. Create new dataframe with only two features of interest"
   ]
  },
  {
   "cell_type": "code",
   "execution_count": 50,
   "metadata": {},
   "outputs": [],
   "source": [
    "movie_comp = movie_nums[['id', 'title', 'production_companies']]"
   ]
  },
  {
   "cell_type": "code",
   "execution_count": 51,
   "metadata": {},
   "outputs": [
    {
     "data": {
      "text/html": "<div>\n<style scoped>\n    .dataframe tbody tr th:only-of-type {\n        vertical-align: middle;\n    }\n\n    .dataframe tbody tr th {\n        vertical-align: top;\n    }\n\n    .dataframe thead th {\n        text-align: right;\n    }\n</style>\n<table border=\"1\" class=\"dataframe\">\n  <thead>\n    <tr style=\"text-align: right;\">\n      <th></th>\n      <th>id</th>\n      <th>title</th>\n      <th>production_companies</th>\n    </tr>\n  </thead>\n  <tbody>\n    <tr>\n      <th>0</th>\n      <td>862</td>\n      <td>Toy Story</td>\n      <td>[Pixar Animation Studios]</td>\n    </tr>\n    <tr>\n      <th>1</th>\n      <td>8844</td>\n      <td>Jumanji</td>\n      <td>[TriStar Pictures, Teitler Film, Interscope Co...</td>\n    </tr>\n    <tr>\n      <th>2</th>\n      <td>15602</td>\n      <td>Grumpier Old Men</td>\n      <td>[Warner Bros., Lancaster Gate]</td>\n    </tr>\n    <tr>\n      <th>3</th>\n      <td>31357</td>\n      <td>Waiting to Exhale</td>\n      <td>[Twentieth Century Fox Film Corporation]</td>\n    </tr>\n    <tr>\n      <th>4</th>\n      <td>11862</td>\n      <td>Father of the Bride Part II</td>\n      <td>[Sandollar Productions, Touchstone Pictures]</td>\n    </tr>\n    <tr>\n      <th>...</th>\n      <td>...</td>\n      <td>...</td>\n      <td>...</td>\n    </tr>\n    <tr>\n      <th>44979</th>\n      <td>439050</td>\n      <td>Subdue</td>\n      <td>[]</td>\n    </tr>\n    <tr>\n      <th>44980</th>\n      <td>111109</td>\n      <td>Century of Birthing</td>\n      <td>[Sine Olivia]</td>\n    </tr>\n    <tr>\n      <th>44981</th>\n      <td>67758</td>\n      <td>Betrayal</td>\n      <td>[American World Pictures]</td>\n    </tr>\n    <tr>\n      <th>44982</th>\n      <td>227506</td>\n      <td>Satan Triumphant</td>\n      <td>[Yermoliev]</td>\n    </tr>\n    <tr>\n      <th>44983</th>\n      <td>461257</td>\n      <td>Queerama</td>\n      <td>[]</td>\n    </tr>\n  </tbody>\n</table>\n<p>44984 rows × 3 columns</p>\n</div>",
      "text/plain": "           id                        title  \\\n0         862                    Toy Story   \n1        8844                      Jumanji   \n2       15602             Grumpier Old Men   \n3       31357            Waiting to Exhale   \n4       11862  Father of the Bride Part II   \n...       ...                          ...   \n44979  439050                       Subdue   \n44980  111109          Century of Birthing   \n44981   67758                     Betrayal   \n44982  227506             Satan Triumphant   \n44983  461257                     Queerama   \n\n                                    production_companies  \n0                              [Pixar Animation Studios]  \n1      [TriStar Pictures, Teitler Film, Interscope Co...  \n2                         [Warner Bros., Lancaster Gate]  \n3               [Twentieth Century Fox Film Corporation]  \n4           [Sandollar Productions, Touchstone Pictures]  \n...                                                  ...  \n44979                                                 []  \n44980                                      [Sine Olivia]  \n44981                          [American World Pictures]  \n44982                                        [Yermoliev]  \n44983                                                 []  \n\n[44984 rows x 3 columns]"
     },
     "execution_count": 51,
     "metadata": {},
     "output_type": "execute_result"
    }
   ],
   "source": [
    "movie_comp"
   ]
  },
  {
   "cell_type": "markdown",
   "metadata": {},
   "source": [
    "2. Lets grab the top 2 production companies for each film"
   ]
  },
  {
   "cell_type": "code",
   "execution_count": 52,
   "metadata": {},
   "outputs": [],
   "source": [
    "#create two new columns for top 2 production companies \n",
    "movie_comp['prod_comp1'] = movie_comp['production_companies'].apply(lambda x: x[0:1])\n",
    "movie_comp['prod_comp2'] = movie_comp['production_companies'].apply(lambda x: x[1:2])"
   ]
  },
  {
   "cell_type": "code",
   "execution_count": 53,
   "metadata": {},
   "outputs": [],
   "source": [
    "# convert list to string\n",
    "movie_comp['prod_comp1'] = movie_comp['prod_comp1'].str.get(0)\n",
    "movie_comp['prod_comp2'] = movie_comp['prod_comp2'].str.get(0)"
   ]
  },
  {
   "cell_type": "code",
   "execution_count": 54,
   "metadata": {},
   "outputs": [
    {
     "data": {
      "text/plain": "Warner Bros.                              1248\nMetro-Goldwyn-Mayer (MGM)                 1073\nParamount Pictures                         996\nTwentieth Century Fox Film Corporation     834\nUniversal Pictures                         827\nColumbia Pictures Corporation              447\nCanal+                                     433\nColumbia Pictures                          429\nRKO Radio Pictures                         290\nUnited Artists                             276\nName: production_companies, dtype: int64"
     },
     "execution_count": 54,
     "metadata": {},
     "output_type": "execute_result"
    }
   ],
   "source": [
    "#lets check out the top most listed production companies \n",
    "prod_comps = movie_comp['production_companies'].explode()\n",
    "prod_comps.value_counts().head(10)"
   ]
  },
  {
   "cell_type": "markdown",
   "metadata": {},
   "source": [
    "3. Now we create feature columns for the top 10(ish) production companies "
   ]
  },
  {
   "cell_type": "code",
   "execution_count": 55,
   "metadata": {},
   "outputs": [],
   "source": [
    "# create function to find values in prod_comp1 and prod_comp2 columns\n",
    "def prod_comp(row, studio, altname):\n",
    "    if row['prod_comp1'] == studio or row['prod_comp2'] == studio: return 1\n",
    "    elif row['prod_comp1'] == altname or row['prod_comp2'] == altname: return 1\n",
    "    else: return 0\n"
   ]
  },
  {
   "cell_type": "code",
   "execution_count": 56,
   "metadata": {},
   "outputs": [],
   "source": [
    "# envoking above function to create 14 new columns for top production companies and assign 1 or 0 if movie was made by said company\n",
    "\n",
    "movie_comp['Paramount Pictures'] = movie_comp.apply(lambda x: prod_comp(x,'Paramount Pictures','x'), axis=1)\n",
    "movie_comp['MGM'] = movie_comp.apply(lambda x: prod_comp(x,'Metro-Goldwyn-Mayer (MGM)','x'), axis=1)\n",
    "movie_comp['20th Century Fox'] = movie_comp.apply(lambda x: prod_comp(x,'Twentieth Century Fox Film Corporation', 'Fox Searchlight Pictures'), axis=1)\n",
    "movie_comp['Warner Bros.'] = movie_comp.apply(lambda x: prod_comp(x,'Warner Bros.','x'), axis=1)\n",
    "movie_comp['Universal Pictures'] =movie_comp.apply(lambda x: prod_comp(x,'Universal Pictures','x'), axis=1)\n",
    "movie_comp['Columbia Pictures'] = movie_comp.apply(lambda x: prod_comp(x,'Columbia Pictures', 'Columbia Pictures Corporation'), axis=1)\n",
    "movie_comp['Disney'] = movie_comp.apply(lambda x: prod_comp(x,'Walt Disney Pictures', 'Walt Disney Productions'), axis=1)\n",
    "movie_comp['Pixar'] = movie_comp.apply(lambda x: prod_comp(x,'Pixar Animation Studios','x'), axis=1)\n",
    "movie_comp['New Line Cinema'] = movie_comp.apply(lambda x: prod_comp(x,'New Line Cinema','x'), axis=1)\n",
    "movie_comp['United Artists'] = movie_comp.apply(lambda x: prod_comp(x,'United Artists','x'), axis=1)\n",
    "movie_comp['Canal+'] = movie_comp.apply(lambda x: prod_comp(x,'Canal+', 'StudioCanal'), axis=1)\n",
    "movie_comp['RKO Radio Pictures'] = movie_comp.apply(lambda x: prod_comp(x,'RKO Radio Pictures', 'x'), axis=1)\n",
    "movie_comp['Touchstone Pictures'] = movie_comp.apply(lambda x: prod_comp(x,'Touchstone Pictures', 'x'), axis=1)\n",
    "movie_comp['BBC Films'] = movie_comp.apply(lambda x: prod_comp(x,'BBC Films','British Broadcasting Corporation (BBC)'), axis=1)"
   ]
  },
  {
   "cell_type": "markdown",
   "metadata": {},
   "source": [
    "4. Now lets drop the uneeded columns relating to production companies"
   ]
  },
  {
   "cell_type": "code",
   "execution_count": 57,
   "metadata": {},
   "outputs": [],
   "source": [
    "# drop unneeded columns\n",
    "movie_comp.drop(['production_companies', 'prod_comp1', 'prod_comp2'], axis=1, inplace=True)"
   ]
  },
  {
   "cell_type": "code",
   "execution_count": 58,
   "metadata": {},
   "outputs": [
    {
     "data": {
      "text/html": "<div>\n<style scoped>\n    .dataframe tbody tr th:only-of-type {\n        vertical-align: middle;\n    }\n\n    .dataframe tbody tr th {\n        vertical-align: top;\n    }\n\n    .dataframe thead th {\n        text-align: right;\n    }\n</style>\n<table border=\"1\" class=\"dataframe\">\n  <thead>\n    <tr style=\"text-align: right;\">\n      <th></th>\n      <th>id</th>\n      <th>title</th>\n      <th>Paramount Pictures</th>\n      <th>MGM</th>\n      <th>20th Century Fox</th>\n      <th>Warner Bros.</th>\n      <th>Universal Pictures</th>\n      <th>Columbia Pictures</th>\n      <th>Disney</th>\n      <th>Pixar</th>\n      <th>New Line Cinema</th>\n      <th>United Artists</th>\n      <th>Canal+</th>\n      <th>RKO Radio Pictures</th>\n      <th>Touchstone Pictures</th>\n      <th>BBC Films</th>\n    </tr>\n  </thead>\n  <tbody>\n    <tr>\n      <th>0</th>\n      <td>862</td>\n      <td>Toy Story</td>\n      <td>0</td>\n      <td>0</td>\n      <td>0</td>\n      <td>0</td>\n      <td>0</td>\n      <td>0</td>\n      <td>0</td>\n      <td>1</td>\n      <td>0</td>\n      <td>0</td>\n      <td>0</td>\n      <td>0</td>\n      <td>0</td>\n      <td>0</td>\n    </tr>\n    <tr>\n      <th>1</th>\n      <td>8844</td>\n      <td>Jumanji</td>\n      <td>0</td>\n      <td>0</td>\n      <td>0</td>\n      <td>0</td>\n      <td>0</td>\n      <td>0</td>\n      <td>0</td>\n      <td>0</td>\n      <td>0</td>\n      <td>0</td>\n      <td>0</td>\n      <td>0</td>\n      <td>0</td>\n      <td>0</td>\n    </tr>\n    <tr>\n      <th>2</th>\n      <td>15602</td>\n      <td>Grumpier Old Men</td>\n      <td>0</td>\n      <td>0</td>\n      <td>0</td>\n      <td>1</td>\n      <td>0</td>\n      <td>0</td>\n      <td>0</td>\n      <td>0</td>\n      <td>0</td>\n      <td>0</td>\n      <td>0</td>\n      <td>0</td>\n      <td>0</td>\n      <td>0</td>\n    </tr>\n    <tr>\n      <th>3</th>\n      <td>31357</td>\n      <td>Waiting to Exhale</td>\n      <td>0</td>\n      <td>0</td>\n      <td>1</td>\n      <td>0</td>\n      <td>0</td>\n      <td>0</td>\n      <td>0</td>\n      <td>0</td>\n      <td>0</td>\n      <td>0</td>\n      <td>0</td>\n      <td>0</td>\n      <td>0</td>\n      <td>0</td>\n    </tr>\n    <tr>\n      <th>4</th>\n      <td>11862</td>\n      <td>Father of the Bride Part II</td>\n      <td>0</td>\n      <td>0</td>\n      <td>0</td>\n      <td>0</td>\n      <td>0</td>\n      <td>0</td>\n      <td>0</td>\n      <td>0</td>\n      <td>0</td>\n      <td>0</td>\n      <td>0</td>\n      <td>0</td>\n      <td>1</td>\n      <td>0</td>\n    </tr>\n    <tr>\n      <th>...</th>\n      <td>...</td>\n      <td>...</td>\n      <td>...</td>\n      <td>...</td>\n      <td>...</td>\n      <td>...</td>\n      <td>...</td>\n      <td>...</td>\n      <td>...</td>\n      <td>...</td>\n      <td>...</td>\n      <td>...</td>\n      <td>...</td>\n      <td>...</td>\n      <td>...</td>\n      <td>...</td>\n    </tr>\n    <tr>\n      <th>44979</th>\n      <td>439050</td>\n      <td>Subdue</td>\n      <td>0</td>\n      <td>0</td>\n      <td>0</td>\n      <td>0</td>\n      <td>0</td>\n      <td>0</td>\n      <td>0</td>\n      <td>0</td>\n      <td>0</td>\n      <td>0</td>\n      <td>0</td>\n      <td>0</td>\n      <td>0</td>\n      <td>0</td>\n    </tr>\n    <tr>\n      <th>44980</th>\n      <td>111109</td>\n      <td>Century of Birthing</td>\n      <td>0</td>\n      <td>0</td>\n      <td>0</td>\n      <td>0</td>\n      <td>0</td>\n      <td>0</td>\n      <td>0</td>\n      <td>0</td>\n      <td>0</td>\n      <td>0</td>\n      <td>0</td>\n      <td>0</td>\n      <td>0</td>\n      <td>0</td>\n    </tr>\n    <tr>\n      <th>44981</th>\n      <td>67758</td>\n      <td>Betrayal</td>\n      <td>0</td>\n      <td>0</td>\n      <td>0</td>\n      <td>0</td>\n      <td>0</td>\n      <td>0</td>\n      <td>0</td>\n      <td>0</td>\n      <td>0</td>\n      <td>0</td>\n      <td>0</td>\n      <td>0</td>\n      <td>0</td>\n      <td>0</td>\n    </tr>\n    <tr>\n      <th>44982</th>\n      <td>227506</td>\n      <td>Satan Triumphant</td>\n      <td>0</td>\n      <td>0</td>\n      <td>0</td>\n      <td>0</td>\n      <td>0</td>\n      <td>0</td>\n      <td>0</td>\n      <td>0</td>\n      <td>0</td>\n      <td>0</td>\n      <td>0</td>\n      <td>0</td>\n      <td>0</td>\n      <td>0</td>\n    </tr>\n    <tr>\n      <th>44983</th>\n      <td>461257</td>\n      <td>Queerama</td>\n      <td>0</td>\n      <td>0</td>\n      <td>0</td>\n      <td>0</td>\n      <td>0</td>\n      <td>0</td>\n      <td>0</td>\n      <td>0</td>\n      <td>0</td>\n      <td>0</td>\n      <td>0</td>\n      <td>0</td>\n      <td>0</td>\n      <td>0</td>\n    </tr>\n  </tbody>\n</table>\n<p>44984 rows × 16 columns</p>\n</div>",
      "text/plain": "           id                        title  Paramount Pictures  MGM  \\\n0         862                    Toy Story                   0    0   \n1        8844                      Jumanji                   0    0   \n2       15602             Grumpier Old Men                   0    0   \n3       31357            Waiting to Exhale                   0    0   \n4       11862  Father of the Bride Part II                   0    0   \n...       ...                          ...                 ...  ...   \n44979  439050                       Subdue                   0    0   \n44980  111109          Century of Birthing                   0    0   \n44981   67758                     Betrayal                   0    0   \n44982  227506             Satan Triumphant                   0    0   \n44983  461257                     Queerama                   0    0   \n\n       20th Century Fox  Warner Bros.  Universal Pictures  Columbia Pictures  \\\n0                     0             0                   0                  0   \n1                     0             0                   0                  0   \n2                     0             1                   0                  0   \n3                     1             0                   0                  0   \n4                     0             0                   0                  0   \n...                 ...           ...                 ...                ...   \n44979                 0             0                   0                  0   \n44980                 0             0                   0                  0   \n44981                 0             0                   0                  0   \n44982                 0             0                   0                  0   \n44983                 0             0                   0                  0   \n\n       Disney  Pixar  New Line Cinema  United Artists  Canal+  \\\n0           0      1                0               0       0   \n1           0      0                0               0       0   \n2           0      0                0               0       0   \n3           0      0                0               0       0   \n4           0      0                0               0       0   \n...       ...    ...              ...             ...     ...   \n44979       0      0                0               0       0   \n44980       0      0                0               0       0   \n44981       0      0                0               0       0   \n44982       0      0                0               0       0   \n44983       0      0                0               0       0   \n\n       RKO Radio Pictures  Touchstone Pictures  BBC Films  \n0                       0                    0          0  \n1                       0                    0          0  \n2                       0                    0          0  \n3                       0                    0          0  \n4                       0                    1          0  \n...                   ...                  ...        ...  \n44979                   0                    0          0  \n44980                   0                    0          0  \n44981                   0                    0          0  \n44982                   0                    0          0  \n44983                   0                    0          0  \n\n[44984 rows x 16 columns]"
     },
     "execution_count": 58,
     "metadata": {},
     "output_type": "execute_result"
    }
   ],
   "source": [
    "movie_comp"
   ]
  },
  {
   "cell_type": "code",
   "execution_count": 59,
   "metadata": {},
   "outputs": [],
   "source": [
    "movie_nums = pd.merge(movie_nums, movie_comp, how='inner', left_on=['id','title'], right_on=['id','title'])"
   ]
  },
  {
   "cell_type": "markdown",
   "metadata": {},
   "source": [
    "5. Looking good! Time to explore the genres column"
   ]
  },
  {
   "cell_type": "markdown",
   "metadata": {},
   "source": [
    "Pt. 4 Encode the 'genres' feature"
   ]
  },
  {
   "cell_type": "code",
   "execution_count": 60,
   "metadata": {},
   "outputs": [],
   "source": [
    "#make dataset with just genres\n",
    "movie_genres = movie_nums[['id', 'title', 'genres']]"
   ]
  },
  {
   "cell_type": "code",
   "execution_count": 61,
   "metadata": {},
   "outputs": [
    {
     "data": {
      "text/plain": "Drama              20058\nComedy             13073\nThriller            7566\nRomance             6663\nAction              6542\nHorror              4634\nCrime               4283\nDocumentary         3872\nAdventure           3468\nScience Fiction     3013\nFamily              2740\nMystery             2453\nFantasy             2290\nAnimation           1912\nMusic               1587\nForeign             1586\nHistory             1391\nWar                 1317\nWestern             1038\nTV Movie             758\nName: genres, dtype: int64"
     },
     "execution_count": 61,
     "metadata": {},
     "output_type": "execute_result"
    }
   ],
   "source": [
    "# explore the amount of genres \n",
    "genres = movie_genres['genres'].explode()\n",
    "genres.value_counts()"
   ]
  },
  {
   "cell_type": "markdown",
   "metadata": {},
   "source": [
    "There are 20 different genres."
   ]
  },
  {
   "cell_type": "markdown",
   "metadata": {},
   "source": [
    "6. Time to one-hot-encode the genres "
   ]
  },
  {
   "cell_type": "code",
   "execution_count": 62,
   "metadata": {},
   "outputs": [],
   "source": [
    "from sklearn.preprocessing import MultiLabelBinarizer"
   ]
  },
  {
   "cell_type": "markdown",
   "metadata": {},
   "source": [
    "7. Implement our sklearn function to one-hot-encode our 'genres' column"
   ]
  },
  {
   "cell_type": "code",
   "execution_count": 63,
   "metadata": {},
   "outputs": [],
   "source": [
    "mlb = MultiLabelBinarizer(sparse_output=True)\n",
    "\n",
    "movie_genres = movie_genres.join(\n",
    "            pd.DataFrame.sparse.from_spmatrix(\n",
    "                mlb.fit_transform(movie_genres.pop('genres')),\n",
    "                index=movie_genres.index,\n",
    "                columns=mlb.classes_))"
   ]
  },
  {
   "cell_type": "code",
   "execution_count": 64,
   "metadata": {},
   "outputs": [
    {
     "data": {
      "text/html": "<div>\n<style scoped>\n    .dataframe tbody tr th:only-of-type {\n        vertical-align: middle;\n    }\n\n    .dataframe tbody tr th {\n        vertical-align: top;\n    }\n\n    .dataframe thead th {\n        text-align: right;\n    }\n</style>\n<table border=\"1\" class=\"dataframe\">\n  <thead>\n    <tr style=\"text-align: right;\">\n      <th></th>\n      <th>id</th>\n      <th>title</th>\n      <th>Action</th>\n      <th>Adventure</th>\n      <th>Animation</th>\n      <th>Comedy</th>\n      <th>Crime</th>\n      <th>Documentary</th>\n      <th>Drama</th>\n      <th>Family</th>\n      <th>...</th>\n      <th>History</th>\n      <th>Horror</th>\n      <th>Music</th>\n      <th>Mystery</th>\n      <th>Romance</th>\n      <th>Science Fiction</th>\n      <th>TV Movie</th>\n      <th>Thriller</th>\n      <th>War</th>\n      <th>Western</th>\n    </tr>\n  </thead>\n  <tbody>\n    <tr>\n      <th>0</th>\n      <td>862</td>\n      <td>Toy Story</td>\n      <td>0</td>\n      <td>0</td>\n      <td>1</td>\n      <td>1</td>\n      <td>0</td>\n      <td>0</td>\n      <td>0</td>\n      <td>1</td>\n      <td>...</td>\n      <td>0</td>\n      <td>0</td>\n      <td>0</td>\n      <td>0</td>\n      <td>0</td>\n      <td>0</td>\n      <td>0</td>\n      <td>0</td>\n      <td>0</td>\n      <td>0</td>\n    </tr>\n    <tr>\n      <th>1</th>\n      <td>8844</td>\n      <td>Jumanji</td>\n      <td>0</td>\n      <td>1</td>\n      <td>0</td>\n      <td>0</td>\n      <td>0</td>\n      <td>0</td>\n      <td>0</td>\n      <td>1</td>\n      <td>...</td>\n      <td>0</td>\n      <td>0</td>\n      <td>0</td>\n      <td>0</td>\n      <td>0</td>\n      <td>0</td>\n      <td>0</td>\n      <td>0</td>\n      <td>0</td>\n      <td>0</td>\n    </tr>\n    <tr>\n      <th>2</th>\n      <td>15602</td>\n      <td>Grumpier Old Men</td>\n      <td>0</td>\n      <td>0</td>\n      <td>0</td>\n      <td>1</td>\n      <td>0</td>\n      <td>0</td>\n      <td>0</td>\n      <td>0</td>\n      <td>...</td>\n      <td>0</td>\n      <td>0</td>\n      <td>0</td>\n      <td>0</td>\n      <td>1</td>\n      <td>0</td>\n      <td>0</td>\n      <td>0</td>\n      <td>0</td>\n      <td>0</td>\n    </tr>\n    <tr>\n      <th>3</th>\n      <td>31357</td>\n      <td>Waiting to Exhale</td>\n      <td>0</td>\n      <td>0</td>\n      <td>0</td>\n      <td>1</td>\n      <td>0</td>\n      <td>0</td>\n      <td>1</td>\n      <td>0</td>\n      <td>...</td>\n      <td>0</td>\n      <td>0</td>\n      <td>0</td>\n      <td>0</td>\n      <td>1</td>\n      <td>0</td>\n      <td>0</td>\n      <td>0</td>\n      <td>0</td>\n      <td>0</td>\n    </tr>\n    <tr>\n      <th>4</th>\n      <td>11862</td>\n      <td>Father of the Bride Part II</td>\n      <td>0</td>\n      <td>0</td>\n      <td>0</td>\n      <td>1</td>\n      <td>0</td>\n      <td>0</td>\n      <td>0</td>\n      <td>0</td>\n      <td>...</td>\n      <td>0</td>\n      <td>0</td>\n      <td>0</td>\n      <td>0</td>\n      <td>0</td>\n      <td>0</td>\n      <td>0</td>\n      <td>0</td>\n      <td>0</td>\n      <td>0</td>\n    </tr>\n    <tr>\n      <th>...</th>\n      <td>...</td>\n      <td>...</td>\n      <td>...</td>\n      <td>...</td>\n      <td>...</td>\n      <td>...</td>\n      <td>...</td>\n      <td>...</td>\n      <td>...</td>\n      <td>...</td>\n      <td>...</td>\n      <td>...</td>\n      <td>...</td>\n      <td>...</td>\n      <td>...</td>\n      <td>...</td>\n      <td>...</td>\n      <td>...</td>\n      <td>...</td>\n      <td>...</td>\n      <td>...</td>\n    </tr>\n    <tr>\n      <th>44979</th>\n      <td>439050</td>\n      <td>Subdue</td>\n      <td>0</td>\n      <td>0</td>\n      <td>0</td>\n      <td>0</td>\n      <td>0</td>\n      <td>0</td>\n      <td>1</td>\n      <td>1</td>\n      <td>...</td>\n      <td>0</td>\n      <td>0</td>\n      <td>0</td>\n      <td>0</td>\n      <td>0</td>\n      <td>0</td>\n      <td>0</td>\n      <td>0</td>\n      <td>0</td>\n      <td>0</td>\n    </tr>\n    <tr>\n      <th>44980</th>\n      <td>111109</td>\n      <td>Century of Birthing</td>\n      <td>0</td>\n      <td>0</td>\n      <td>0</td>\n      <td>0</td>\n      <td>0</td>\n      <td>0</td>\n      <td>1</td>\n      <td>0</td>\n      <td>...</td>\n      <td>0</td>\n      <td>0</td>\n      <td>0</td>\n      <td>0</td>\n      <td>0</td>\n      <td>0</td>\n      <td>0</td>\n      <td>0</td>\n      <td>0</td>\n      <td>0</td>\n    </tr>\n    <tr>\n      <th>44981</th>\n      <td>67758</td>\n      <td>Betrayal</td>\n      <td>1</td>\n      <td>0</td>\n      <td>0</td>\n      <td>0</td>\n      <td>0</td>\n      <td>0</td>\n      <td>1</td>\n      <td>0</td>\n      <td>...</td>\n      <td>0</td>\n      <td>0</td>\n      <td>0</td>\n      <td>0</td>\n      <td>0</td>\n      <td>0</td>\n      <td>0</td>\n      <td>1</td>\n      <td>0</td>\n      <td>0</td>\n    </tr>\n    <tr>\n      <th>44982</th>\n      <td>227506</td>\n      <td>Satan Triumphant</td>\n      <td>0</td>\n      <td>0</td>\n      <td>0</td>\n      <td>0</td>\n      <td>0</td>\n      <td>0</td>\n      <td>0</td>\n      <td>0</td>\n      <td>...</td>\n      <td>0</td>\n      <td>0</td>\n      <td>0</td>\n      <td>0</td>\n      <td>0</td>\n      <td>0</td>\n      <td>0</td>\n      <td>0</td>\n      <td>0</td>\n      <td>0</td>\n    </tr>\n    <tr>\n      <th>44983</th>\n      <td>461257</td>\n      <td>Queerama</td>\n      <td>0</td>\n      <td>0</td>\n      <td>0</td>\n      <td>0</td>\n      <td>0</td>\n      <td>0</td>\n      <td>0</td>\n      <td>0</td>\n      <td>...</td>\n      <td>0</td>\n      <td>0</td>\n      <td>0</td>\n      <td>0</td>\n      <td>0</td>\n      <td>0</td>\n      <td>0</td>\n      <td>0</td>\n      <td>0</td>\n      <td>0</td>\n    </tr>\n  </tbody>\n</table>\n<p>44984 rows × 22 columns</p>\n</div>",
      "text/plain": "           id                        title  Action  Adventure  Animation  \\\n0         862                    Toy Story       0          0          1   \n1        8844                      Jumanji       0          1          0   \n2       15602             Grumpier Old Men       0          0          0   \n3       31357            Waiting to Exhale       0          0          0   \n4       11862  Father of the Bride Part II       0          0          0   \n...       ...                          ...     ...        ...        ...   \n44979  439050                       Subdue       0          0          0   \n44980  111109          Century of Birthing       0          0          0   \n44981   67758                     Betrayal       1          0          0   \n44982  227506             Satan Triumphant       0          0          0   \n44983  461257                     Queerama       0          0          0   \n\n       Comedy  Crime  Documentary  Drama  Family  ...  History  Horror  Music  \\\n0           1      0            0      0       1  ...        0       0      0   \n1           0      0            0      0       1  ...        0       0      0   \n2           1      0            0      0       0  ...        0       0      0   \n3           1      0            0      1       0  ...        0       0      0   \n4           1      0            0      0       0  ...        0       0      0   \n...       ...    ...          ...    ...     ...  ...      ...     ...    ...   \n44979       0      0            0      1       1  ...        0       0      0   \n44980       0      0            0      1       0  ...        0       0      0   \n44981       0      0            0      1       0  ...        0       0      0   \n44982       0      0            0      0       0  ...        0       0      0   \n44983       0      0            0      0       0  ...        0       0      0   \n\n       Mystery  Romance  Science Fiction  TV Movie  Thriller  War  Western  \n0            0        0                0         0         0    0        0  \n1            0        0                0         0         0    0        0  \n2            0        1                0         0         0    0        0  \n3            0        1                0         0         0    0        0  \n4            0        0                0         0         0    0        0  \n...        ...      ...              ...       ...       ...  ...      ...  \n44979        0        0                0         0         0    0        0  \n44980        0        0                0         0         0    0        0  \n44981        0        0                0         0         1    0        0  \n44982        0        0                0         0         0    0        0  \n44983        0        0                0         0         0    0        0  \n\n[44984 rows x 22 columns]"
     },
     "execution_count": 64,
     "metadata": {},
     "output_type": "execute_result"
    }
   ],
   "source": [
    "movie_genres"
   ]
  },
  {
   "cell_type": "markdown",
   "metadata": {},
   "source": [
    "Pt. 5 Dealing with 'director' and 'cast' "
   ]
  },
  {
   "cell_type": "code",
   "execution_count": 65,
   "metadata": {},
   "outputs": [],
   "source": [
    "# make new column with 'cast' and 'director'\n",
    "\n",
    "movie_folks = movie_nums[['id','title', 'cast', 'director']]"
   ]
  },
  {
   "cell_type": "code",
   "execution_count": 66,
   "metadata": {},
   "outputs": [],
   "source": [
    "# create new column with top 3 actors from ech film \n",
    "\n",
    "movie_folks['leads'] = movie_folks['cast'].apply(lambda x: x[:3])"
   ]
  },
  {
   "cell_type": "code",
   "execution_count": 67,
   "metadata": {},
   "outputs": [
    {
     "data": {
      "text/html": "<div>\n<style scoped>\n    .dataframe tbody tr th:only-of-type {\n        vertical-align: middle;\n    }\n\n    .dataframe tbody tr th {\n        vertical-align: top;\n    }\n\n    .dataframe thead th {\n        text-align: right;\n    }\n</style>\n<table border=\"1\" class=\"dataframe\">\n  <thead>\n    <tr style=\"text-align: right;\">\n      <th></th>\n      <th>id</th>\n      <th>title</th>\n      <th>cast</th>\n      <th>director</th>\n      <th>leads</th>\n    </tr>\n  </thead>\n  <tbody>\n    <tr>\n      <th>0</th>\n      <td>862</td>\n      <td>Toy Story</td>\n      <td>[Tom Hanks, Tim Allen, Don Rickles, Jim Varney...</td>\n      <td>[John Lasseter]</td>\n      <td>[Tom Hanks, Tim Allen, Don Rickles]</td>\n    </tr>\n    <tr>\n      <th>1</th>\n      <td>8844</td>\n      <td>Jumanji</td>\n      <td>[Robin Williams, Jonathan Hyde, Kirsten Dunst,...</td>\n      <td>[Joe Johnston]</td>\n      <td>[Robin Williams, Jonathan Hyde, Kirsten Dunst]</td>\n    </tr>\n    <tr>\n      <th>2</th>\n      <td>15602</td>\n      <td>Grumpier Old Men</td>\n      <td>[Walter Matthau, Jack Lemmon, Ann-Margret, Sop...</td>\n      <td>[Howard Deutch]</td>\n      <td>[Walter Matthau, Jack Lemmon, Ann-Margret]</td>\n    </tr>\n    <tr>\n      <th>3</th>\n      <td>31357</td>\n      <td>Waiting to Exhale</td>\n      <td>[Whitney Houston, Angela Bassett, Loretta Devi...</td>\n      <td>[Forest Whitaker]</td>\n      <td>[Whitney Houston, Angela Bassett, Loretta Devine]</td>\n    </tr>\n    <tr>\n      <th>4</th>\n      <td>11862</td>\n      <td>Father of the Bride Part II</td>\n      <td>[Steve Martin, Diane Keaton, Martin Short, Kim...</td>\n      <td>[Charles Shyer]</td>\n      <td>[Steve Martin, Diane Keaton, Martin Short]</td>\n    </tr>\n    <tr>\n      <th>...</th>\n      <td>...</td>\n      <td>...</td>\n      <td>...</td>\n      <td>...</td>\n      <td>...</td>\n    </tr>\n    <tr>\n      <th>44979</th>\n      <td>439050</td>\n      <td>Subdue</td>\n      <td>[Leila Hatami, Kourosh Tahami, Elham Korda]</td>\n      <td>[Hamid Nematollah]</td>\n      <td>[Leila Hatami, Kourosh Tahami, Elham Korda]</td>\n    </tr>\n    <tr>\n      <th>44980</th>\n      <td>111109</td>\n      <td>Century of Birthing</td>\n      <td>[Angel Aquino, Perry Dizon, Hazel Orencio, Joe...</td>\n      <td>[Lav Diaz]</td>\n      <td>[Angel Aquino, Perry Dizon, Hazel Orencio]</td>\n    </tr>\n    <tr>\n      <th>44981</th>\n      <td>67758</td>\n      <td>Betrayal</td>\n      <td>[Erika Eleniak, Adam Baldwin, Julie du Page, J...</td>\n      <td>[Mark L. Lester]</td>\n      <td>[Erika Eleniak, Adam Baldwin, Julie du Page]</td>\n    </tr>\n    <tr>\n      <th>44982</th>\n      <td>227506</td>\n      <td>Satan Triumphant</td>\n      <td>[Iwan Mosschuchin, Nathalie Lissenko, Pavel Pa...</td>\n      <td>[Yakov Protazanov]</td>\n      <td>[Iwan Mosschuchin, Nathalie Lissenko, Pavel Pa...</td>\n    </tr>\n    <tr>\n      <th>44983</th>\n      <td>461257</td>\n      <td>Queerama</td>\n      <td>[]</td>\n      <td>[Daisy Asquith]</td>\n      <td>[]</td>\n    </tr>\n  </tbody>\n</table>\n<p>44984 rows × 5 columns</p>\n</div>",
      "text/plain": "           id                        title  \\\n0         862                    Toy Story   \n1        8844                      Jumanji   \n2       15602             Grumpier Old Men   \n3       31357            Waiting to Exhale   \n4       11862  Father of the Bride Part II   \n...       ...                          ...   \n44979  439050                       Subdue   \n44980  111109          Century of Birthing   \n44981   67758                     Betrayal   \n44982  227506             Satan Triumphant   \n44983  461257                     Queerama   \n\n                                                    cast            director  \\\n0      [Tom Hanks, Tim Allen, Don Rickles, Jim Varney...     [John Lasseter]   \n1      [Robin Williams, Jonathan Hyde, Kirsten Dunst,...      [Joe Johnston]   \n2      [Walter Matthau, Jack Lemmon, Ann-Margret, Sop...     [Howard Deutch]   \n3      [Whitney Houston, Angela Bassett, Loretta Devi...   [Forest Whitaker]   \n4      [Steve Martin, Diane Keaton, Martin Short, Kim...     [Charles Shyer]   \n...                                                  ...                 ...   \n44979        [Leila Hatami, Kourosh Tahami, Elham Korda]  [Hamid Nematollah]   \n44980  [Angel Aquino, Perry Dizon, Hazel Orencio, Joe...          [Lav Diaz]   \n44981  [Erika Eleniak, Adam Baldwin, Julie du Page, J...    [Mark L. Lester]   \n44982  [Iwan Mosschuchin, Nathalie Lissenko, Pavel Pa...  [Yakov Protazanov]   \n44983                                                 []     [Daisy Asquith]   \n\n                                                   leads  \n0                    [Tom Hanks, Tim Allen, Don Rickles]  \n1         [Robin Williams, Jonathan Hyde, Kirsten Dunst]  \n2             [Walter Matthau, Jack Lemmon, Ann-Margret]  \n3      [Whitney Houston, Angela Bassett, Loretta Devine]  \n4             [Steve Martin, Diane Keaton, Martin Short]  \n...                                                  ...  \n44979        [Leila Hatami, Kourosh Tahami, Elham Korda]  \n44980         [Angel Aquino, Perry Dizon, Hazel Orencio]  \n44981       [Erika Eleniak, Adam Baldwin, Julie du Page]  \n44982  [Iwan Mosschuchin, Nathalie Lissenko, Pavel Pa...  \n44983                                                 []  \n\n[44984 rows x 5 columns]"
     },
     "execution_count": 67,
     "metadata": {},
     "output_type": "execute_result"
    }
   ],
   "source": [
    "movie_folks"
   ]
  },
  {
   "cell_type": "markdown",
   "metadata": {},
   "source": [
    "We don't need more than the top actors for each film so let's drop the cast column, keep just the 'leads' column "
   ]
  },
  {
   "cell_type": "code",
   "execution_count": 68,
   "metadata": {},
   "outputs": [],
   "source": [
    "# drop 'cast' column\n",
    "\n",
    "movie_folks.drop(['cast'],axis=1,inplace=True)"
   ]
  },
  {
   "cell_type": "code",
   "execution_count": 69,
   "metadata": {},
   "outputs": [
    {
     "data": {
      "text/plain": "John Wayne           106\nJackie Chan           89\nMichael Caine         86\nRobert De Niro        84\nGérard Depardieu      82\nChristopher Lee       74\nNicolas Cage          71\nBette Davis           68\nJames Mason           67\nSamuel L. Jackson     67\nBruce Willis          64\ndtype: int64"
     },
     "execution_count": 69,
     "metadata": {},
     "output_type": "execute_result"
    }
   ],
   "source": [
    "# examine 'leads' counts \n",
    "\n",
    "to_1D(movie_folks['leads']).value_counts().head(11)"
   ]
  },
  {
   "cell_type": "code",
   "execution_count": 70,
   "metadata": {},
   "outputs": [
    {
     "data": {
      "text/plain": "John Ford           66\nMichael Curtiz      65\nWerner Herzog       54\nAlfred Hitchcock    53\nGeorges Méliès      49\nWoody Allen         49\nSidney Lumet        46\nJean-Luc Godard     46\nCharlie Chaplin     44\nRaoul Walsh         43\ndtype: int64"
     },
     "execution_count": 70,
     "metadata": {},
     "output_type": "execute_result"
    }
   ],
   "source": [
    "# examine 'director' counts  \n",
    "\n",
    "to_1D(movie_folks['director']).value_counts().head(10)"
   ]
  },
  {
   "cell_type": "code",
   "execution_count": 71,
   "metadata": {},
   "outputs": [],
   "source": [
    "# create copy of df to break down 'director' and 'leads' columns\n",
    "one_df = movie_folks.copy()"
   ]
  },
  {
   "cell_type": "code",
   "execution_count": 72,
   "metadata": {},
   "outputs": [],
   "source": [
    "# 'explodel 'leads' column to get a list of top actors \n",
    "explode_leads = one_df.explode('leads')\n"
   ]
  },
  {
   "cell_type": "code",
   "execution_count": 73,
   "metadata": {},
   "outputs": [],
   "source": [
    "# convert 'director' column to string, (take out of list)\n",
    "one_df['director'] = one_df['director'].str.get(0)"
   ]
  },
  {
   "cell_type": "code",
   "execution_count": 74,
   "metadata": {},
   "outputs": [],
   "source": [
    "# create lists for the top actors and directors mentioned \n",
    "\n",
    "top_leads = [x for x in explode_leads.leads.value_counts().sort_values(ascending=False).head(100).index]\n",
    "top_direct = [x for x in one_df.director.value_counts().sort_values(ascending=False).head(100).index]"
   ]
  },
  {
   "cell_type": "code",
   "execution_count": 75,
   "metadata": {},
   "outputs": [],
   "source": [
    "# make new one-hot-encoded dataframe that will have 100 columns for the top 100 directors \n",
    "\n",
    "one_hot_director = one_df.copy()\n",
    "for i in top_direct:\n",
    "    one_hot_director[i] = np.where(one_hot_director['director']== i,1,0)\n",
    "    "
   ]
  },
  {
   "cell_type": "code",
   "execution_count": 76,
   "metadata": {},
   "outputs": [
    {
     "data": {
      "text/html": "<div>\n<style scoped>\n    .dataframe tbody tr th:only-of-type {\n        vertical-align: middle;\n    }\n\n    .dataframe tbody tr th {\n        vertical-align: top;\n    }\n\n    .dataframe thead th {\n        text-align: right;\n    }\n</style>\n<table border=\"1\" class=\"dataframe\">\n  <thead>\n    <tr style=\"text-align: right;\">\n      <th></th>\n      <th>id</th>\n      <th>John Ford</th>\n      <th>Michael Curtiz</th>\n      <th>Werner Herzog</th>\n      <th>Alfred Hitchcock</th>\n      <th>Georges Méliès</th>\n      <th>Woody Allen</th>\n      <th>Sidney Lumet</th>\n      <th>Jean-Luc Godard</th>\n      <th>Charlie Chaplin</th>\n      <th>...</th>\n      <th>Sidney J. Furie</th>\n      <th>Antonio Margheriti</th>\n      <th>Mario Bava</th>\n      <th>Bruce Beresford</th>\n      <th>Frank Borzage</th>\n      <th>Ken Loach</th>\n      <th>David Butler</th>\n      <th>James Ivory</th>\n      <th>Gerald Thomas</th>\n      <th>Jean Renoir</th>\n    </tr>\n  </thead>\n  <tbody>\n    <tr>\n      <th>0</th>\n      <td>862</td>\n      <td>0</td>\n      <td>0</td>\n      <td>0</td>\n      <td>0</td>\n      <td>0</td>\n      <td>0</td>\n      <td>0</td>\n      <td>0</td>\n      <td>0</td>\n      <td>...</td>\n      <td>0</td>\n      <td>0</td>\n      <td>0</td>\n      <td>0</td>\n      <td>0</td>\n      <td>0</td>\n      <td>0</td>\n      <td>0</td>\n      <td>0</td>\n      <td>0</td>\n    </tr>\n    <tr>\n      <th>1</th>\n      <td>8844</td>\n      <td>0</td>\n      <td>0</td>\n      <td>0</td>\n      <td>0</td>\n      <td>0</td>\n      <td>0</td>\n      <td>0</td>\n      <td>0</td>\n      <td>0</td>\n      <td>...</td>\n      <td>0</td>\n      <td>0</td>\n      <td>0</td>\n      <td>0</td>\n      <td>0</td>\n      <td>0</td>\n      <td>0</td>\n      <td>0</td>\n      <td>0</td>\n      <td>0</td>\n    </tr>\n    <tr>\n      <th>2</th>\n      <td>15602</td>\n      <td>0</td>\n      <td>0</td>\n      <td>0</td>\n      <td>0</td>\n      <td>0</td>\n      <td>0</td>\n      <td>0</td>\n      <td>0</td>\n      <td>0</td>\n      <td>...</td>\n      <td>0</td>\n      <td>0</td>\n      <td>0</td>\n      <td>0</td>\n      <td>0</td>\n      <td>0</td>\n      <td>0</td>\n      <td>0</td>\n      <td>0</td>\n      <td>0</td>\n    </tr>\n  </tbody>\n</table>\n<p>3 rows × 101 columns</p>\n</div>",
      "text/plain": "      id  John Ford  Michael Curtiz  Werner Herzog  Alfred Hitchcock  \\\n0    862          0               0              0                 0   \n1   8844          0               0              0                 0   \n2  15602          0               0              0                 0   \n\n   Georges Méliès  Woody Allen  Sidney Lumet  Jean-Luc Godard  \\\n0               0            0             0                0   \n1               0            0             0                0   \n2               0            0             0                0   \n\n   Charlie Chaplin  ...  Sidney J. Furie  Antonio Margheriti  Mario Bava  \\\n0                0  ...                0                   0           0   \n1                0  ...                0                   0           0   \n2                0  ...                0                   0           0   \n\n   Bruce Beresford  Frank Borzage  Ken Loach  David Butler  James Ivory  \\\n0                0              0          0             0            0   \n1                0              0          0             0            0   \n2                0              0          0             0            0   \n\n   Gerald Thomas  Jean Renoir  \n0              0            0  \n1              0            0  \n2              0            0  \n\n[3 rows x 101 columns]"
     },
     "execution_count": 76,
     "metadata": {},
     "output_type": "execute_result"
    }
   ],
   "source": [
    "# drop everything aside from 100 actor columns and movie id\n",
    "\n",
    "one_hot_director.drop(['leads', 'director', 'title'],axis=1,inplace=True)\n",
    "one_hot_director.head(3)"
   ]
  },
  {
   "cell_type": "markdown",
   "metadata": {},
   "source": [
    "Now let's one-hot the 'leads' feature "
   ]
  },
  {
   "cell_type": "code",
   "execution_count": 77,
   "metadata": {},
   "outputs": [],
   "source": [
    "# reduce features to just include the 'leads' we're encoding \n",
    "one_df = one_df[['id', 'title', 'leads']] "
   ]
  },
  {
   "cell_type": "code",
   "execution_count": 78,
   "metadata": {},
   "outputs": [],
   "source": [
    "# use list comprehension in for loop to one-hot encode \n",
    "\n",
    "one_hot_actor = one_df.copy()\n",
    "for i in top_leads:\n",
    "    one_hot_actor[i] = [1 if i in lst else 0 for lst in one_hot_actor.leads] "
   ]
  },
  {
   "cell_type": "code",
   "execution_count": 79,
   "metadata": {},
   "outputs": [],
   "source": [
    "# drop 'leads' column \n",
    "\n",
    "one_hot_actor.drop(['leads'],axis=1,inplace=True)"
   ]
  },
  {
   "cell_type": "code",
   "execution_count": null,
   "metadata": {},
   "outputs": [],
   "source": [
    "# check out dataframe \n",
    "\n",
    "one_hot_actor[one_hot_actor['Tom Hanks'] == 1]"
   ]
  },
  {
   "cell_type": "markdown",
   "metadata": {},
   "source": [
    "Pt. 6 Encoding the 'key words' column "
   ]
  },
  {
   "cell_type": "code",
   "execution_count": 81,
   "metadata": {},
   "outputs": [],
   "source": [
    "# create data frame with just keywords\n",
    "movie_tags = movie_num[['title', 'id', 'keywords']]"
   ]
  },
  {
   "cell_type": "code",
   "execution_count": 82,
   "metadata": {},
   "outputs": [
    {
     "data": {
      "text/plain": "woman director      3011\nindependent film    1894\nmurder              1279\nbased on novel       815\nmusical              718\nsex                  677\nviolence             646\nnudity               628\nrevenge              616\nbiography            608\ndtype: int64"
     },
     "execution_count": 82,
     "metadata": {},
     "output_type": "execute_result"
    }
   ],
   "source": [
    "# examine keyword value counts \n",
    "to_1D(movie_tags['keywords']).value_counts().head(10)\n"
   ]
  },
  {
   "cell_type": "code",
   "execution_count": 83,
   "metadata": {},
   "outputs": [],
   "source": [
    "# use explode function again to break out the values of 'keywords' column into new rows\n",
    "explode_tags = movie_tags.explode('keywords')"
   ]
  },
  {
   "cell_type": "code",
   "execution_count": 84,
   "metadata": {},
   "outputs": [],
   "source": [
    "# create list of top 1000 tags\n",
    "top_tags = [x for x in explode_tags.keywords.value_counts().sort_values(ascending=False).head(100).index]"
   ]
  },
  {
   "cell_type": "code",
   "execution_count": 85,
   "metadata": {},
   "outputs": [],
   "source": [
    "# create new data frame of tags one-hot-encoded \n",
    "\n",
    "one_hot_tags = movie_tags.copy()\n",
    "for i in top_tags:\n",
    "    one_hot_tags[i] = [1 if i in lst else 0 for lst in movie_tags.keywords] "
   ]
  },
  {
   "cell_type": "code",
   "execution_count": 86,
   "metadata": {},
   "outputs": [],
   "source": [
    "# drop 'keywords' column \n",
    "\n",
    "one_hot_tags.drop(['keywords'], axis=1,inplace=True)"
   ]
  },
  {
   "cell_type": "code",
   "execution_count": 87,
   "metadata": {},
   "outputs": [
    {
     "data": {
      "text/html": "<div>\n<style scoped>\n    .dataframe tbody tr th:only-of-type {\n        vertical-align: middle;\n    }\n\n    .dataframe tbody tr th {\n        vertical-align: top;\n    }\n\n    .dataframe thead th {\n        text-align: right;\n    }\n</style>\n<table border=\"1\" class=\"dataframe\">\n  <thead>\n    <tr style=\"text-align: right;\">\n      <th></th>\n      <th>title</th>\n      <th>id</th>\n      <th>woman director</th>\n      <th>independent film</th>\n      <th>murder</th>\n      <th>based on novel</th>\n      <th>musical</th>\n      <th>sex</th>\n      <th>violence</th>\n      <th>nudity</th>\n      <th>...</th>\n      <th>slasher</th>\n      <th>wife husband relationship</th>\n      <th>lawyer</th>\n      <th>supernatural</th>\n      <th>friends</th>\n      <th>dark comedy</th>\n      <th>college</th>\n      <th>student</th>\n      <th>comedy</th>\n      <th>fight</th>\n    </tr>\n  </thead>\n  <tbody>\n    <tr>\n      <th>0</th>\n      <td>Toy Story</td>\n      <td>862</td>\n      <td>0</td>\n      <td>0</td>\n      <td>0</td>\n      <td>0</td>\n      <td>0</td>\n      <td>0</td>\n      <td>0</td>\n      <td>0</td>\n      <td>...</td>\n      <td>0</td>\n      <td>0</td>\n      <td>0</td>\n      <td>0</td>\n      <td>1</td>\n      <td>0</td>\n      <td>0</td>\n      <td>0</td>\n      <td>0</td>\n      <td>0</td>\n    </tr>\n    <tr>\n      <th>1</th>\n      <td>Jumanji</td>\n      <td>8844</td>\n      <td>0</td>\n      <td>0</td>\n      <td>0</td>\n      <td>0</td>\n      <td>0</td>\n      <td>0</td>\n      <td>0</td>\n      <td>0</td>\n      <td>...</td>\n      <td>0</td>\n      <td>0</td>\n      <td>0</td>\n      <td>0</td>\n      <td>0</td>\n      <td>0</td>\n      <td>0</td>\n      <td>0</td>\n      <td>0</td>\n      <td>0</td>\n    </tr>\n  </tbody>\n</table>\n<p>2 rows × 102 columns</p>\n</div>",
      "text/plain": "       title    id  woman director  independent film  murder  based on novel  \\\n0  Toy Story   862               0                 0       0               0   \n1    Jumanji  8844               0                 0       0               0   \n\n   musical  sex  violence  nudity  ...  slasher  wife husband relationship  \\\n0        0    0         0       0  ...        0                          0   \n1        0    0         0       0  ...        0                          0   \n\n   lawyer  supernatural  friends  dark comedy  college  student  comedy  fight  \n0       0             0        1            0        0        0       0      0  \n1       0             0        0            0        0        0       0      0  \n\n[2 rows x 102 columns]"
     },
     "execution_count": 87,
     "metadata": {},
     "output_type": "execute_result"
    }
   ],
   "source": [
    "# check out new df \n",
    "one_hot_tags.head(2)"
   ]
  },
  {
   "cell_type": "markdown",
   "metadata": {},
   "source": [
    "Pt. 7 Examine the features that are natively numerical "
   ]
  },
  {
   "cell_type": "code",
   "execution_count": 88,
   "metadata": {},
   "outputs": [],
   "source": [
    "movie_ints = movie_num[['id', 'title', 'release year', 'runtime', 'budget', 'revenue', 'vote_average', 'vote_count', 'popularity']]"
   ]
  },
  {
   "cell_type": "code",
   "execution_count": 89,
   "metadata": {},
   "outputs": [
    {
     "data": {
      "text/plain": "False    44733\nTrue       251\nName: runtime, dtype: int64"
     },
     "execution_count": 89,
     "metadata": {},
     "output_type": "execute_result"
    }
   ],
   "source": [
    "# check if any values are null\n",
    "\n",
    "movie_ints.runtime.isnull().value_counts()\n"
   ]
  },
  {
   "cell_type": "markdown",
   "metadata": {},
   "source": [
    "The 'runtime' column is the only one with null values(251). Let's see how many have '0' as the value"
   ]
  },
  {
   "cell_type": "code",
   "execution_count": 90,
   "metadata": {},
   "outputs": [
    {
     "data": {
      "text/html": "<div>\n<style scoped>\n    .dataframe tbody tr th:only-of-type {\n        vertical-align: middle;\n    }\n\n    .dataframe tbody tr th {\n        vertical-align: top;\n    }\n\n    .dataframe thead th {\n        text-align: right;\n    }\n</style>\n<table border=\"1\" class=\"dataframe\">\n  <thead>\n    <tr style=\"text-align: right;\">\n      <th></th>\n      <th>id</th>\n      <th>title</th>\n      <th>release year</th>\n      <th>runtime</th>\n      <th>budget</th>\n      <th>revenue</th>\n      <th>vote_average</th>\n      <th>vote_count</th>\n      <th>popularity</th>\n    </tr>\n  </thead>\n  <tbody>\n    <tr>\n      <th>222</th>\n      <td>61813</td>\n      <td>Dream Man</td>\n      <td>1995</td>\n      <td>0.0</td>\n      <td>0</td>\n      <td>0</td>\n      <td>2.5</td>\n      <td>1</td>\n      <td>0.155859</td>\n    </tr>\n    <tr>\n      <th>224</th>\n      <td>62488</td>\n      <td>Destiny Turns on the Radio</td>\n      <td>1995</td>\n      <td>0.0</td>\n      <td>0</td>\n      <td>0</td>\n      <td>5.3</td>\n      <td>9</td>\n      <td>0.710671</td>\n    </tr>\n    <tr>\n      <th>398</th>\n      <td>172923</td>\n      <td>Dos Crímenes</td>\n      <td>1995</td>\n      <td>0.0</td>\n      <td>0</td>\n      <td>0</td>\n      <td>5.0</td>\n      <td>1</td>\n      <td>0.233376</td>\n    </tr>\n    <tr>\n      <th>554</th>\n      <td>218473</td>\n      <td>The Beans of Egypt, Maine</td>\n      <td>1994</td>\n      <td>0.0</td>\n      <td>0</td>\n      <td>0</td>\n      <td>0.0</td>\n      <td>1</td>\n      <td>0.382470</td>\n    </tr>\n    <tr>\n      <th>667</th>\n      <td>221917</td>\n      <td>The Run of the Country</td>\n      <td>1995</td>\n      <td>0.0</td>\n      <td>0</td>\n      <td>0</td>\n      <td>8.0</td>\n      <td>2</td>\n      <td>0.117662</td>\n    </tr>\n    <tr>\n      <th>...</th>\n      <td>...</td>\n      <td>...</td>\n      <td>...</td>\n      <td>...</td>\n      <td>...</td>\n      <td>...</td>\n      <td>...</td>\n      <td>...</td>\n      <td>...</td>\n    </tr>\n    <tr>\n      <th>46528</th>\n      <td>374764</td>\n      <td>How Most Things Work</td>\n      <td>2015</td>\n      <td>0.0</td>\n      <td>0</td>\n      <td>0</td>\n      <td>6.8</td>\n      <td>2</td>\n      <td>0.274793</td>\n    </tr>\n    <tr>\n      <th>46529</th>\n      <td>460135</td>\n      <td>LEGO DC Super Hero Girls: Brain Drain</td>\n      <td>2017</td>\n      <td>0.0</td>\n      <td>0</td>\n      <td>0</td>\n      <td>10.0</td>\n      <td>2</td>\n      <td>8.413734</td>\n    </tr>\n    <tr>\n      <th>46557</th>\n      <td>280422</td>\n      <td>All at Once</td>\n      <td>2014</td>\n      <td>0.0</td>\n      <td>750000</td>\n      <td>3</td>\n      <td>6.0</td>\n      <td>4</td>\n      <td>0.201582</td>\n    </tr>\n    <tr>\n      <th>46574</th>\n      <td>282308</td>\n      <td>Whiffles, Cubic Artist</td>\n      <td>1912</td>\n      <td>0.0</td>\n      <td>0</td>\n      <td>0</td>\n      <td>0.0</td>\n      <td>0</td>\n      <td>0.003732</td>\n    </tr>\n    <tr>\n      <th>46588</th>\n      <td>222872</td>\n      <td>Starquest II</td>\n      <td>1996</td>\n      <td>0.0</td>\n      <td>0</td>\n      <td>0</td>\n      <td>2.0</td>\n      <td>1</td>\n      <td>1.188052</td>\n    </tr>\n  </tbody>\n</table>\n<p>1495 rows × 9 columns</p>\n</div>",
      "text/plain": "           id                                  title  release year  runtime  \\\n222     61813                              Dream Man          1995      0.0   \n224     62488             Destiny Turns on the Radio          1995      0.0   \n398    172923                           Dos Crímenes          1995      0.0   \n554    218473              The Beans of Egypt, Maine          1994      0.0   \n667    221917                 The Run of the Country          1995      0.0   \n...       ...                                    ...           ...      ...   \n46528  374764                   How Most Things Work          2015      0.0   \n46529  460135  LEGO DC Super Hero Girls: Brain Drain          2017      0.0   \n46557  280422                            All at Once          2014      0.0   \n46574  282308                 Whiffles, Cubic Artist          1912      0.0   \n46588  222872                           Starquest II          1996      0.0   \n\n       budget  revenue  vote_average  vote_count  popularity  \n222         0        0           2.5           1    0.155859  \n224         0        0           5.3           9    0.710671  \n398         0        0           5.0           1    0.233376  \n554         0        0           0.0           1    0.382470  \n667         0        0           8.0           2    0.117662  \n...       ...      ...           ...         ...         ...  \n46528       0        0           6.8           2    0.274793  \n46529       0        0          10.0           2    8.413734  \n46557  750000        3           6.0           4    0.201582  \n46574       0        0           0.0           0    0.003732  \n46588       0        0           2.0           1    1.188052  \n\n[1495 rows x 9 columns]"
     },
     "execution_count": 90,
     "metadata": {},
     "output_type": "execute_result"
    }
   ],
   "source": [
    "movie_ints[movie_ints['runtime'] == 0.0]"
   ]
  },
  {
   "cell_type": "markdown",
   "metadata": {},
   "source": [
    "1,495 movies have zero for the runtime. Let's convert the '0' values to 'null' and impute them. "
   ]
  },
  {
   "cell_type": "code",
   "execution_count": 91,
   "metadata": {},
   "outputs": [],
   "source": [
    "# impute 'null' values \n",
    "\n",
    "movie_ints['runtime'] =  movie_ints['runtime'].replace(0, np.nan)"
   ]
  },
  {
   "cell_type": "code",
   "execution_count": 92,
   "metadata": {},
   "outputs": [],
   "source": [
    "#impute missing runtimes with the average movie runtime \n",
    "\n",
    "movie_ints['runtime'].fillna(movie_ints['runtime'].mean(), inplace = True)"
   ]
  },
  {
   "cell_type": "markdown",
   "metadata": {},
   "source": [
    "Let's take a look at the 'year' column. "
   ]
  },
  {
   "cell_type": "code",
   "execution_count": 93,
   "metadata": {},
   "outputs": [],
   "source": [
    "# create df with just release year\n",
    "\n",
    "release_year = movie_ints[['id', 'release year']]\n",
    "\n",
    "#drop 'release year' from num movie_ints\n",
    "\n",
    "movie_ints.drop('release year', axis=1, inplace=True)"
   ]
  },
  {
   "cell_type": "code",
   "execution_count": 94,
   "metadata": {},
   "outputs": [
    {
     "data": {
      "text/html": "<div>\n<style scoped>\n    .dataframe tbody tr th:only-of-type {\n        vertical-align: middle;\n    }\n\n    .dataframe tbody tr th {\n        vertical-align: top;\n    }\n\n    .dataframe thead th {\n        text-align: right;\n    }\n</style>\n<table border=\"1\" class=\"dataframe\">\n  <thead>\n    <tr style=\"text-align: right;\">\n      <th></th>\n      <th>id</th>\n      <th>release year</th>\n    </tr>\n  </thead>\n  <tbody>\n    <tr>\n      <th>944</th>\n      <td>85638</td>\n      <td>1926</td>\n    </tr>\n    <tr>\n      <th>1321</th>\n      <td>653</td>\n      <td>1922</td>\n    </tr>\n    <tr>\n      <th>1836</th>\n      <td>28966</td>\n      <td>1927</td>\n    </tr>\n    <tr>\n      <th>1837</th>\n      <td>65203</td>\n      <td>1929</td>\n    </tr>\n    <tr>\n      <th>1921</th>\n      <td>19</td>\n      <td>1927</td>\n    </tr>\n    <tr>\n      <th>...</th>\n      <td>...</td>\n      <td>...</td>\n    </tr>\n    <tr>\n      <th>46605</th>\n      <td>44324</td>\n      <td>1904</td>\n    </tr>\n    <tr>\n      <th>46606</th>\n      <td>122036</td>\n      <td>1904</td>\n    </tr>\n    <tr>\n      <th>46608</th>\n      <td>49280</td>\n      <td>1900</td>\n    </tr>\n    <tr>\n      <th>46609</th>\n      <td>106807</td>\n      <td>1900</td>\n    </tr>\n    <tr>\n      <th>46622</th>\n      <td>227506</td>\n      <td>1917</td>\n    </tr>\n  </tbody>\n</table>\n<p>768 rows × 2 columns</p>\n</div>",
      "text/plain": "           id  release year\n944     85638          1926\n1321      653          1922\n1836    28966          1927\n1837    65203          1929\n1921       19          1927\n...       ...           ...\n46605   44324          1904\n46606  122036          1904\n46608   49280          1900\n46609  106807          1900\n46622  227506          1917\n\n[768 rows x 2 columns]"
     },
     "execution_count": 94,
     "metadata": {},
     "output_type": "execute_result"
    }
   ],
   "source": [
    "# Examining how many films are dated from the early 20th century or late 19th century \n",
    "  \n",
    "early_century = release_year[(release_year['release year'] < 1930) & (release_year['release year'] > 0)]\n",
    "early_century"
   ]
  },
  {
   "cell_type": "markdown",
   "metadata": {},
   "source": [
    "There are 80 films from before the year 1900. 71 films in the first decade of the 1900's. 169 films from the 1910's. 398 films from tge 1920's. 1228 films from the 30's. \n",
    "\n",
    "I am going to group all films from before 1930 into one date range (a total of 768 films). From 1930 onward, go by decades."
   ]
  },
  {
   "cell_type": "code",
   "execution_count": 95,
   "metadata": {},
   "outputs": [
    {
     "data": {
      "text/html": "<div>\n<style scoped>\n    .dataframe tbody tr th:only-of-type {\n        vertical-align: middle;\n    }\n\n    .dataframe tbody tr th {\n        vertical-align: top;\n    }\n\n    .dataframe thead th {\n        text-align: right;\n    }\n</style>\n<table border=\"1\" class=\"dataframe\">\n  <thead>\n    <tr style=\"text-align: right;\">\n      <th></th>\n      <th>id</th>\n      <th>release year</th>\n    </tr>\n  </thead>\n  <tbody>\n    <tr>\n      <th>718</th>\n      <td>365371</td>\n      <td>0</td>\n    </tr>\n    <tr>\n      <th>741</th>\n      <td>215107</td>\n      <td>0</td>\n    </tr>\n    <tr>\n      <th>3655</th>\n      <td>207731</td>\n      <td>0</td>\n    </tr>\n    <tr>\n      <th>5948</th>\n      <td>99885</td>\n      <td>0</td>\n    </tr>\n    <tr>\n      <th>13990</th>\n      <td>91205</td>\n      <td>0</td>\n    </tr>\n    <tr>\n      <th>...</th>\n      <td>...</td>\n      <td>...</td>\n    </tr>\n    <tr>\n      <th>46307</th>\n      <td>438910</td>\n      <td>0</td>\n    </tr>\n    <tr>\n      <th>46362</th>\n      <td>433711</td>\n      <td>0</td>\n    </tr>\n    <tr>\n      <th>46496</th>\n      <td>335251</td>\n      <td>0</td>\n    </tr>\n    <tr>\n      <th>46568</th>\n      <td>449131</td>\n      <td>0</td>\n    </tr>\n    <tr>\n      <th>46619</th>\n      <td>439050</td>\n      <td>0</td>\n    </tr>\n  </tbody>\n</table>\n<p>78 rows × 2 columns</p>\n</div>",
      "text/plain": "           id  release year\n718    365371             0\n741    215107             0\n3655   207731             0\n5948    99885             0\n13990   91205             0\n...       ...           ...\n46307  438910             0\n46362  433711             0\n46496  335251             0\n46568  449131             0\n46619  439050             0\n\n[78 rows x 2 columns]"
     },
     "execution_count": 95,
     "metadata": {},
     "output_type": "execute_result"
    }
   ],
   "source": [
    "# How many films have no info for release year? \n",
    "\n",
    "release_year[release_year['release year'] == 0]"
   ]
  },
  {
   "cell_type": "markdown",
   "metadata": {},
   "source": [
    "78 films are missing the release year info. Lets impute these '0' values"
   ]
  },
  {
   "cell_type": "code",
   "execution_count": 96,
   "metadata": {},
   "outputs": [],
   "source": [
    "from sklearn.impute import IterativeImputer"
   ]
  },
  {
   "cell_type": "code",
   "execution_count": 97,
   "metadata": {},
   "outputs": [
    {
     "data": {
      "text/html": "<div>\n<style scoped>\n    .dataframe tbody tr th:only-of-type {\n        vertical-align: middle;\n    }\n\n    .dataframe tbody tr th {\n        vertical-align: top;\n    }\n\n    .dataframe thead th {\n        text-align: right;\n    }\n</style>\n<table border=\"1\" class=\"dataframe\">\n  <thead>\n    <tr style=\"text-align: right;\">\n      <th></th>\n      <th>id</th>\n      <th>release year</th>\n    </tr>\n  </thead>\n  <tbody>\n    <tr>\n      <th>0</th>\n      <td>862</td>\n      <td>1995.0</td>\n    </tr>\n    <tr>\n      <th>1</th>\n      <td>8844</td>\n      <td>1995.0</td>\n    </tr>\n    <tr>\n      <th>2</th>\n      <td>15602</td>\n      <td>1995.0</td>\n    </tr>\n    <tr>\n      <th>3</th>\n      <td>31357</td>\n      <td>1995.0</td>\n    </tr>\n    <tr>\n      <th>4</th>\n      <td>11862</td>\n      <td>1995.0</td>\n    </tr>\n    <tr>\n      <th>...</th>\n      <td>...</td>\n      <td>...</td>\n    </tr>\n    <tr>\n      <th>46619</th>\n      <td>439050</td>\n      <td>NaN</td>\n    </tr>\n    <tr>\n      <th>46620</th>\n      <td>111109</td>\n      <td>2011.0</td>\n    </tr>\n    <tr>\n      <th>46621</th>\n      <td>67758</td>\n      <td>2003.0</td>\n    </tr>\n    <tr>\n      <th>46622</th>\n      <td>227506</td>\n      <td>1917.0</td>\n    </tr>\n    <tr>\n      <th>46623</th>\n      <td>461257</td>\n      <td>2017.0</td>\n    </tr>\n  </tbody>\n</table>\n<p>44984 rows × 2 columns</p>\n</div>",
      "text/plain": "           id  release year\n0         862        1995.0\n1        8844        1995.0\n2       15602        1995.0\n3       31357        1995.0\n4       11862        1995.0\n...       ...           ...\n46619  439050           NaN\n46620  111109        2011.0\n46621   67758        2003.0\n46622  227506        1917.0\n46623  461257        2017.0\n\n[44984 rows x 2 columns]"
     },
     "execution_count": 97,
     "metadata": {},
     "output_type": "execute_result"
    }
   ],
   "source": [
    "# convert '0' to NaN value \n",
    "\n",
    "year_impute = release_year[['id', 'release year']]\n",
    "\n",
    "year_impute['release year'] = year_impute['release year'].replace(0, np.nan)\n",
    "\n",
    "# year_impute = year_impute.loc[710:750]\n",
    "year_impute"
   ]
  },
  {
   "cell_type": "code",
   "execution_count": 98,
   "metadata": {},
   "outputs": [
    {
     "data": {
      "text/html": "<div>\n<style scoped>\n    .dataframe tbody tr th:only-of-type {\n        vertical-align: middle;\n    }\n\n    .dataframe tbody tr th {\n        vertical-align: top;\n    }\n\n    .dataframe thead th {\n        text-align: right;\n    }\n</style>\n<table border=\"1\" class=\"dataframe\">\n  <thead>\n    <tr style=\"text-align: right;\">\n      <th></th>\n      <th>id</th>\n      <th>release year</th>\n    </tr>\n  </thead>\n  <tbody>\n    <tr>\n      <th>718</th>\n      <td>365371</td>\n      <td>NaN</td>\n    </tr>\n    <tr>\n      <th>741</th>\n      <td>215107</td>\n      <td>NaN</td>\n    </tr>\n    <tr>\n      <th>3655</th>\n      <td>207731</td>\n      <td>NaN</td>\n    </tr>\n    <tr>\n      <th>5948</th>\n      <td>99885</td>\n      <td>NaN</td>\n    </tr>\n    <tr>\n      <th>13990</th>\n      <td>91205</td>\n      <td>NaN</td>\n    </tr>\n    <tr>\n      <th>...</th>\n      <td>...</td>\n      <td>...</td>\n    </tr>\n    <tr>\n      <th>46307</th>\n      <td>438910</td>\n      <td>NaN</td>\n    </tr>\n    <tr>\n      <th>46362</th>\n      <td>433711</td>\n      <td>NaN</td>\n    </tr>\n    <tr>\n      <th>46496</th>\n      <td>335251</td>\n      <td>NaN</td>\n    </tr>\n    <tr>\n      <th>46568</th>\n      <td>449131</td>\n      <td>NaN</td>\n    </tr>\n    <tr>\n      <th>46619</th>\n      <td>439050</td>\n      <td>NaN</td>\n    </tr>\n  </tbody>\n</table>\n<p>78 rows × 2 columns</p>\n</div>",
      "text/plain": "           id  release year\n718    365371           NaN\n741    215107           NaN\n3655   207731           NaN\n5948    99885           NaN\n13990   91205           NaN\n...       ...           ...\n46307  438910           NaN\n46362  433711           NaN\n46496  335251           NaN\n46568  449131           NaN\n46619  439050           NaN\n\n[78 rows x 2 columns]"
     },
     "execution_count": 98,
     "metadata": {},
     "output_type": "execute_result"
    }
   ],
   "source": [
    "# view list of \"NaN\" for release year\n",
    "year_impute[year_impute['release year'].isna()]"
   ]
  },
  {
   "cell_type": "markdown",
   "metadata": {},
   "source": [
    "We are going to use fancy imputer's 'Iterative Imputer' feature to fill in missing year values"
   ]
  },
  {
   "cell_type": "code",
   "execution_count": 99,
   "metadata": {},
   "outputs": [],
   "source": [
    "imputer = fancy.IterativeImputer() # IterativeImputer is ok and KNN \n",
    "df = imputer.fit_transform(year_impute)"
   ]
  },
  {
   "cell_type": "code",
   "execution_count": 100,
   "metadata": {},
   "outputs": [],
   "source": [
    "# convert our imputed array back into a data frame\n",
    "year_impute = pd.DataFrame(df)\n",
    "\n",
    "# name columns \n",
    "year_impute.columns = ['id', 'release year']\n",
    "\n",
    "#make sure values are 'int' type \n",
    "year_impute[['id', 'release year']] = year_impute[[ 'id', 'release year']].astype(int)\n"
   ]
  },
  {
   "cell_type": "markdown",
   "metadata": {},
   "source": [
    "Now lets join the imputed years df back with out release years df"
   ]
  },
  {
   "cell_type": "code",
   "execution_count": 101,
   "metadata": {},
   "outputs": [],
   "source": [
    "release_year = year_impute.copy()\n"
   ]
  },
  {
   "cell_type": "code",
   "execution_count": 102,
   "metadata": {},
   "outputs": [],
   "source": [
    "# convert 'release year' to string datatype\n",
    "\n",
    "release_year['release year'] = release_year['release year'].astype(str)"
   ]
  },
  {
   "cell_type": "code",
   "execution_count": 103,
   "metadata": {},
   "outputs": [],
   "source": [
    "#create new decade column based on films release year \n",
    "\n",
    "conditons = [release_year['release year'].str.contains('201'), \n",
    "            release_year['release year'].str.contains('200'),\n",
    "            release_year['release year'].str.contains('199'),\n",
    "            release_year['release year'].str.contains('198'),\n",
    "            release_year['release year'].str.contains('197'),\n",
    "            release_year['release year'].str.contains('196'),\n",
    "            release_year['release year'].str.contains('195'),\n",
    "            release_year['release year'].str.contains('194'),\n",
    "            release_year['release year'].str.contains('193')]\n",
    "\n",
    "choices = ['2010s', '2000s', '1990s', '1980s', '1970s', '1960s', '1950s', '1940s', '1930s']\n",
    "\n",
    "release_year['decade'] = np.select(conditons, choices, default='Pre_1930')"
   ]
  },
  {
   "cell_type": "code",
   "execution_count": 104,
   "metadata": {},
   "outputs": [],
   "source": [
    "# one hot encode the decade column \n",
    "\n",
    "decade_dummies = pd.get_dummies(release_year['decade'])\n",
    "release_year = release_year.join(decade_dummies)"
   ]
  },
  {
   "cell_type": "code",
   "execution_count": 105,
   "metadata": {},
   "outputs": [],
   "source": [
    "# drop 'decade' column \n",
    "\n",
    "release_year.drop(['decade'], axis=1,inplace=True)"
   ]
  },
  {
   "cell_type": "code",
   "execution_count": 106,
   "metadata": {},
   "outputs": [
    {
     "data": {
      "text/html": "<div>\n<style scoped>\n    .dataframe tbody tr th:only-of-type {\n        vertical-align: middle;\n    }\n\n    .dataframe tbody tr th {\n        vertical-align: top;\n    }\n\n    .dataframe thead th {\n        text-align: right;\n    }\n</style>\n<table border=\"1\" class=\"dataframe\">\n  <thead>\n    <tr style=\"text-align: right;\">\n      <th></th>\n      <th>id</th>\n      <th>release year</th>\n      <th>1930s</th>\n      <th>1940s</th>\n      <th>1950s</th>\n      <th>1960s</th>\n      <th>1970s</th>\n      <th>1980s</th>\n      <th>1990s</th>\n      <th>2000s</th>\n      <th>2010s</th>\n      <th>Pre_1930</th>\n    </tr>\n  </thead>\n  <tbody>\n    <tr>\n      <th>0</th>\n      <td>862</td>\n      <td>1995</td>\n      <td>0</td>\n      <td>0</td>\n      <td>0</td>\n      <td>0</td>\n      <td>0</td>\n      <td>0</td>\n      <td>1</td>\n      <td>0</td>\n      <td>0</td>\n      <td>0</td>\n    </tr>\n    <tr>\n      <th>1</th>\n      <td>8844</td>\n      <td>1995</td>\n      <td>0</td>\n      <td>0</td>\n      <td>0</td>\n      <td>0</td>\n      <td>0</td>\n      <td>0</td>\n      <td>1</td>\n      <td>0</td>\n      <td>0</td>\n      <td>0</td>\n    </tr>\n    <tr>\n      <th>2</th>\n      <td>15602</td>\n      <td>1995</td>\n      <td>0</td>\n      <td>0</td>\n      <td>0</td>\n      <td>0</td>\n      <td>0</td>\n      <td>0</td>\n      <td>1</td>\n      <td>0</td>\n      <td>0</td>\n      <td>0</td>\n    </tr>\n    <tr>\n      <th>3</th>\n      <td>31357</td>\n      <td>1995</td>\n      <td>0</td>\n      <td>0</td>\n      <td>0</td>\n      <td>0</td>\n      <td>0</td>\n      <td>0</td>\n      <td>1</td>\n      <td>0</td>\n      <td>0</td>\n      <td>0</td>\n    </tr>\n    <tr>\n      <th>4</th>\n      <td>11862</td>\n      <td>1995</td>\n      <td>0</td>\n      <td>0</td>\n      <td>0</td>\n      <td>0</td>\n      <td>0</td>\n      <td>0</td>\n      <td>1</td>\n      <td>0</td>\n      <td>0</td>\n      <td>0</td>\n    </tr>\n  </tbody>\n</table>\n</div>",
      "text/plain": "      id release year  1930s  1940s  1950s  1960s  1970s  1980s  1990s  2000s  \\\n0    862         1995      0      0      0      0      0      0      1      0   \n1   8844         1995      0      0      0      0      0      0      1      0   \n2  15602         1995      0      0      0      0      0      0      1      0   \n3  31357         1995      0      0      0      0      0      0      1      0   \n4  11862         1995      0      0      0      0      0      0      1      0   \n\n   2010s  Pre_1930  \n0      0         0  \n1      0         0  \n2      0         0  \n3      0         0  \n4      0         0  "
     },
     "execution_count": 106,
     "metadata": {},
     "output_type": "execute_result"
    }
   ],
   "source": [
    "# view our final 'release year' df with years binned by decade\n",
    "release_year.head(5)"
   ]
  },
  {
   "cell_type": "markdown",
   "metadata": {},
   "source": [
    "Let's take a look at the dataframes we've created "
   ]
  },
  {
   "cell_type": "code",
   "execution_count": null,
   "metadata": {},
   "outputs": [],
   "source": [
    "movie_nati # df with nationality/language info\n",
    "movie_comp # df with production companies \n",
    "movie_genres # df with genres\n",
    "one_hot_director # top 1000 directors encoded\n",
    "one_hot_actor # top 1000 actors encoded\n",
    "one_hot_tags # top 1000 keywords encoded \n",
    "release_year # decade when the movie was released\n",
    "movie_ints # native numerical stats for each movie"
   ]
  },
  {
   "cell_type": "markdown",
   "metadata": {},
   "source": [
    "Now let's save each of these to a .csv file "
   ]
  },
  {
   "cell_type": "code",
   "execution_count": 108,
   "metadata": {},
   "outputs": [],
   "source": [
    "# save datasets\n",
    "\n",
    "movie_nati.to_csv('/Users/spence/Documents/GitHub/Movie Recommender System/Saved Datasets/movie_nat_lang.csv')\n",
    "movie_comp.to_csv('/Users/spence/Documents/GitHub/Movie Recommender System/Saved Datasets/movie_prodcomp.csv') \n",
    "movie_genres.to_csv('/Users/spence/Documents/GitHub/Movie Recommender System/Saved Datasets/movie_genres.csv') \n",
    "one_hot_director.to_csv('/Users/spence/Documents/GitHub/Movie Recommender System/Saved Datasets/movie_directors.csv') \n",
    "one_hot_actor.to_csv('/Users/spence/Documents/GitHub/Movie Recommender System/Saved Datasets/movie_actors.csv') \n",
    "one_hot_tags.to_csv('/Users/spence/Documents/GitHub/Movie Recommender System/Saved Datasets/movie_tags.csv') \n",
    "release_year.to_csv('/Users/spence/Documents/GitHub/Movie Recommender System/Saved Datasets/release_year.csv')\n",
    "movie_ints.to_csv('/Users/spence/Documents/GitHub/Movie Recommender System/Saved Datasets/movie_ints.csv')"
   ]
  },
  {
   "cell_type": "markdown",
   "metadata": {},
   "source": [
    "Pt. 8 Moving on to the Text Dataset"
   ]
  },
  {
   "cell_type": "code",
   "execution_count": 109,
   "metadata": {},
   "outputs": [
    {
     "data": {
      "text/html": "<div>\n<style scoped>\n    .dataframe tbody tr th:only-of-type {\n        vertical-align: middle;\n    }\n\n    .dataframe tbody tr th {\n        vertical-align: top;\n    }\n\n    .dataframe thead th {\n        text-align: right;\n    }\n</style>\n<table border=\"1\" class=\"dataframe\">\n  <thead>\n    <tr style=\"text-align: right;\">\n      <th></th>\n      <th>id</th>\n      <th>title</th>\n      <th>genres</th>\n      <th>keywords</th>\n      <th>cast</th>\n      <th>director</th>\n      <th>overview</th>\n      <th>popularity</th>\n      <th>runtime</th>\n      <th>budget</th>\n      <th>revenue</th>\n      <th>original_language</th>\n      <th>spoken_languages</th>\n      <th>production_companies</th>\n      <th>production_countries</th>\n      <th>vote_average</th>\n      <th>vote_count</th>\n      <th>release year</th>\n    </tr>\n  </thead>\n  <tbody>\n    <tr>\n      <th>0</th>\n      <td>862</td>\n      <td>Toy Story</td>\n      <td>[Animation, Comedy, Family]</td>\n      <td>[jealousy, toy, boy, friendship, friends, riva...</td>\n      <td>[Tom Hanks, Tim Allen, Don Rickles, Jim Varney...</td>\n      <td>[John Lasseter]</td>\n      <td>Led by Woody, Andy's toys live happily in his ...</td>\n      <td>21.946943</td>\n      <td>81.0</td>\n      <td>30000000</td>\n      <td>373554033</td>\n      <td>en</td>\n      <td>[English]</td>\n      <td>[Pixar Animation Studios]</td>\n      <td>[United States of America]</td>\n      <td>7.7</td>\n      <td>5415</td>\n      <td>1995</td>\n    </tr>\n    <tr>\n      <th>1</th>\n      <td>8844</td>\n      <td>Jumanji</td>\n      <td>[Adventure, Fantasy, Family]</td>\n      <td>[board game, disappearance, based on children'...</td>\n      <td>[Robin Williams, Jonathan Hyde, Kirsten Dunst,...</td>\n      <td>[Joe Johnston]</td>\n      <td>When siblings Judy and Peter discover an encha...</td>\n      <td>17.015539</td>\n      <td>104.0</td>\n      <td>65000000</td>\n      <td>262797249</td>\n      <td>en</td>\n      <td>[English, Français]</td>\n      <td>[TriStar Pictures, Teitler Film, Interscope Co...</td>\n      <td>[United States of America]</td>\n      <td>6.9</td>\n      <td>2413</td>\n      <td>1995</td>\n    </tr>\n  </tbody>\n</table>\n</div>",
      "text/plain": "     id      title                        genres  \\\n0   862  Toy Story   [Animation, Comedy, Family]   \n1  8844    Jumanji  [Adventure, Fantasy, Family]   \n\n                                            keywords  \\\n0  [jealousy, toy, boy, friendship, friends, riva...   \n1  [board game, disappearance, based on children'...   \n\n                                                cast         director  \\\n0  [Tom Hanks, Tim Allen, Don Rickles, Jim Varney...  [John Lasseter]   \n1  [Robin Williams, Jonathan Hyde, Kirsten Dunst,...   [Joe Johnston]   \n\n                                            overview  popularity  runtime  \\\n0  Led by Woody, Andy's toys live happily in his ...   21.946943     81.0   \n1  When siblings Judy and Peter discover an encha...   17.015539    104.0   \n\n     budget    revenue original_language     spoken_languages  \\\n0  30000000  373554033                en            [English]   \n1  65000000  262797249                en  [English, Français]   \n\n                                production_companies  \\\n0                          [Pixar Animation Studios]   \n1  [TriStar Pictures, Teitler Film, Interscope Co...   \n\n         production_countries  vote_average  vote_count  release year  \n0  [United States of America]           7.7        5415          1995  \n1  [United States of America]           6.9        2413          1995  "
     },
     "execution_count": 109,
     "metadata": {},
     "output_type": "execute_result"
    }
   ],
   "source": [
    "movie_text.head(2)"
   ]
  },
  {
   "cell_type": "markdown",
   "metadata": {},
   "source": [
    "1. Lets grab only the features that will be text-vectorized"
   ]
  },
  {
   "cell_type": "code",
   "execution_count": 110,
   "metadata": {},
   "outputs": [],
   "source": [
    "movie_cats = movie_text[['id', 'title', 'genres', 'keywords', 'cast', 'director', 'production_companies']]"
   ]
  },
  {
   "cell_type": "code",
   "execution_count": 111,
   "metadata": {},
   "outputs": [
    {
     "data": {
      "text/html": "<div>\n<style scoped>\n    .dataframe tbody tr th:only-of-type {\n        vertical-align: middle;\n    }\n\n    .dataframe tbody tr th {\n        vertical-align: top;\n    }\n\n    .dataframe thead th {\n        text-align: right;\n    }\n</style>\n<table border=\"1\" class=\"dataframe\">\n  <thead>\n    <tr style=\"text-align: right;\">\n      <th></th>\n      <th>id</th>\n      <th>title</th>\n      <th>genres</th>\n      <th>keywords</th>\n      <th>cast</th>\n      <th>director</th>\n      <th>production_companies</th>\n    </tr>\n  </thead>\n  <tbody>\n    <tr>\n      <th>0</th>\n      <td>862</td>\n      <td>Toy Story</td>\n      <td>[Animation, Comedy, Family]</td>\n      <td>[jealousy, toy, boy, friendship, friends, riva...</td>\n      <td>[Tom Hanks, Tim Allen, Don Rickles, Jim Varney...</td>\n      <td>[John Lasseter]</td>\n      <td>[Pixar Animation Studios]</td>\n    </tr>\n    <tr>\n      <th>1</th>\n      <td>8844</td>\n      <td>Jumanji</td>\n      <td>[Adventure, Fantasy, Family]</td>\n      <td>[board game, disappearance, based on children'...</td>\n      <td>[Robin Williams, Jonathan Hyde, Kirsten Dunst,...</td>\n      <td>[Joe Johnston]</td>\n      <td>[TriStar Pictures, Teitler Film, Interscope Co...</td>\n    </tr>\n    <tr>\n      <th>2</th>\n      <td>15602</td>\n      <td>Grumpier Old Men</td>\n      <td>[Romance, Comedy]</td>\n      <td>[fishing, best friend, duringcreditsstinger, o...</td>\n      <td>[Walter Matthau, Jack Lemmon, Ann-Margret, Sop...</td>\n      <td>[Howard Deutch]</td>\n      <td>[Warner Bros., Lancaster Gate]</td>\n    </tr>\n    <tr>\n      <th>3</th>\n      <td>31357</td>\n      <td>Waiting to Exhale</td>\n      <td>[Comedy, Drama, Romance]</td>\n      <td>[based on novel, interracial relationship, sin...</td>\n      <td>[Whitney Houston, Angela Bassett, Loretta Devi...</td>\n      <td>[Forest Whitaker]</td>\n      <td>[Twentieth Century Fox Film Corporation]</td>\n    </tr>\n    <tr>\n      <th>4</th>\n      <td>11862</td>\n      <td>Father of the Bride Part II</td>\n      <td>[Comedy]</td>\n      <td>[baby, midlife crisis, confidence, aging, daug...</td>\n      <td>[Steve Martin, Diane Keaton, Martin Short, Kim...</td>\n      <td>[Charles Shyer]</td>\n      <td>[Sandollar Productions, Touchstone Pictures]</td>\n    </tr>\n    <tr>\n      <th>...</th>\n      <td>...</td>\n      <td>...</td>\n      <td>...</td>\n      <td>...</td>\n      <td>...</td>\n      <td>...</td>\n      <td>...</td>\n    </tr>\n    <tr>\n      <th>46619</th>\n      <td>439050</td>\n      <td>Subdue</td>\n      <td>[Drama, Family]</td>\n      <td>[tragic love]</td>\n      <td>[Leila Hatami, Kourosh Tahami, Elham Korda]</td>\n      <td>[Hamid Nematollah]</td>\n      <td>[]</td>\n    </tr>\n    <tr>\n      <th>46620</th>\n      <td>111109</td>\n      <td>Century of Birthing</td>\n      <td>[Drama]</td>\n      <td>[artist, play, pinoy]</td>\n      <td>[Angel Aquino, Perry Dizon, Hazel Orencio, Joe...</td>\n      <td>[Lav Diaz]</td>\n      <td>[Sine Olivia]</td>\n    </tr>\n    <tr>\n      <th>46621</th>\n      <td>67758</td>\n      <td>Betrayal</td>\n      <td>[Action, Drama, Thriller]</td>\n      <td>[]</td>\n      <td>[Erika Eleniak, Adam Baldwin, Julie du Page, J...</td>\n      <td>[Mark L. Lester]</td>\n      <td>[American World Pictures]</td>\n    </tr>\n    <tr>\n      <th>46622</th>\n      <td>227506</td>\n      <td>Satan Triumphant</td>\n      <td>[]</td>\n      <td>[]</td>\n      <td>[Iwan Mosschuchin, Nathalie Lissenko, Pavel Pa...</td>\n      <td>[Yakov Protazanov]</td>\n      <td>[Yermoliev]</td>\n    </tr>\n    <tr>\n      <th>46623</th>\n      <td>461257</td>\n      <td>Queerama</td>\n      <td>[]</td>\n      <td>[]</td>\n      <td>[]</td>\n      <td>[Daisy Asquith]</td>\n      <td>[]</td>\n    </tr>\n  </tbody>\n</table>\n<p>44984 rows × 7 columns</p>\n</div>",
      "text/plain": "           id                        title                        genres  \\\n0         862                    Toy Story   [Animation, Comedy, Family]   \n1        8844                      Jumanji  [Adventure, Fantasy, Family]   \n2       15602             Grumpier Old Men             [Romance, Comedy]   \n3       31357            Waiting to Exhale      [Comedy, Drama, Romance]   \n4       11862  Father of the Bride Part II                      [Comedy]   \n...       ...                          ...                           ...   \n46619  439050                       Subdue               [Drama, Family]   \n46620  111109          Century of Birthing                       [Drama]   \n46621   67758                     Betrayal     [Action, Drama, Thriller]   \n46622  227506             Satan Triumphant                            []   \n46623  461257                     Queerama                            []   \n\n                                                keywords  \\\n0      [jealousy, toy, boy, friendship, friends, riva...   \n1      [board game, disappearance, based on children'...   \n2      [fishing, best friend, duringcreditsstinger, o...   \n3      [based on novel, interracial relationship, sin...   \n4      [baby, midlife crisis, confidence, aging, daug...   \n...                                                  ...   \n46619                                      [tragic love]   \n46620                              [artist, play, pinoy]   \n46621                                                 []   \n46622                                                 []   \n46623                                                 []   \n\n                                                    cast            director  \\\n0      [Tom Hanks, Tim Allen, Don Rickles, Jim Varney...     [John Lasseter]   \n1      [Robin Williams, Jonathan Hyde, Kirsten Dunst,...      [Joe Johnston]   \n2      [Walter Matthau, Jack Lemmon, Ann-Margret, Sop...     [Howard Deutch]   \n3      [Whitney Houston, Angela Bassett, Loretta Devi...   [Forest Whitaker]   \n4      [Steve Martin, Diane Keaton, Martin Short, Kim...     [Charles Shyer]   \n...                                                  ...                 ...   \n46619        [Leila Hatami, Kourosh Tahami, Elham Korda]  [Hamid Nematollah]   \n46620  [Angel Aquino, Perry Dizon, Hazel Orencio, Joe...          [Lav Diaz]   \n46621  [Erika Eleniak, Adam Baldwin, Julie du Page, J...    [Mark L. Lester]   \n46622  [Iwan Mosschuchin, Nathalie Lissenko, Pavel Pa...  [Yakov Protazanov]   \n46623                                                 []     [Daisy Asquith]   \n\n                                    production_companies  \n0                              [Pixar Animation Studios]  \n1      [TriStar Pictures, Teitler Film, Interscope Co...  \n2                         [Warner Bros., Lancaster Gate]  \n3               [Twentieth Century Fox Film Corporation]  \n4           [Sandollar Productions, Touchstone Pictures]  \n...                                                  ...  \n46619                                                 []  \n46620                                      [Sine Olivia]  \n46621                          [American World Pictures]  \n46622                                        [Yermoliev]  \n46623                                                 []  \n\n[44984 rows x 7 columns]"
     },
     "execution_count": 111,
     "metadata": {},
     "output_type": "execute_result"
    }
   ],
   "source": [
    "movie_cats"
   ]
  },
  {
   "cell_type": "markdown",
   "metadata": {},
   "source": [
    "2. Time to process some specific columns"
   ]
  },
  {
   "cell_type": "code",
   "execution_count": 112,
   "metadata": {},
   "outputs": [],
   "source": [
    "#select top 3 actors from 'cast' column \n",
    "movie_cats['cast'] = movie_cats['cast'].apply(lambda x: x[:3] if len(x) >=3 else x)"
   ]
  },
  {
   "cell_type": "code",
   "execution_count": 113,
   "metadata": {},
   "outputs": [],
   "source": [
    "# get ride of spaces in the 'cast' column and convert each word to lower case\n",
    "movie_cats['cast'] = movie_cats['cast'].apply(lambda x: [str.lower(i.replace(\" \", \"\")) for i in x])"
   ]
  },
  {
   "cell_type": "code",
   "execution_count": 114,
   "metadata": {},
   "outputs": [],
   "source": [
    "movie_cats['director'] = movie_cats['director'].apply(lambda x: x*3)"
   ]
  },
  {
   "cell_type": "code",
   "execution_count": 115,
   "metadata": {},
   "outputs": [],
   "source": [
    "# get ride of spaces in the 'director' column and convert each word to lower case\n",
    "movie_cats['director'] = movie_cats['director'].apply(lambda x: [str.lower(i.replace(\" \", \"\")) for i in x])"
   ]
  },
  {
   "cell_type": "code",
   "execution_count": 116,
   "metadata": {},
   "outputs": [],
   "source": [
    "# Strip spaces and make genre names lower case \n",
    "movie_cats['genres'] = movie_cats['genres'].apply(lambda x: [str.lower(i.replace(\" \", \"\")) for i in x])\n",
    "\n",
    "# same for 'production companies'\n",
    "movie_cats['production_companies'] = movie_cats['production_companies'].apply(lambda x: [str.lower(i.replace(\" \", \"\")) for i in x])"
   ]
  },
  {
   "cell_type": "markdown",
   "metadata": {},
   "source": [
    "3. Our 'keywords' column has a lot of variability and needs some special processing "
   ]
  },
  {
   "cell_type": "code",
   "execution_count": 117,
   "metadata": {},
   "outputs": [],
   "source": [
    "# We will convert our 'keywords' column to a 'series' \n",
    "s = movie_cats.apply(lambda x: pd.Series(x['keywords']),axis=1).stack().reset_index(level=1, drop=True)\n",
    "s.name = 'keyword'"
   ]
  },
  {
   "cell_type": "code",
   "execution_count": 118,
   "metadata": {},
   "outputs": [
    {
     "data": {
      "text/plain": "woman director      3011\nindependent film    1894\nmurder              1279\nbased on novel       815\nmusical              718\nsex                  677\nviolence             646\nnudity               628\nrevenge              616\nbiography            608\nName: keyword, dtype: int64"
     },
     "execution_count": 118,
     "metadata": {},
     "output_type": "execute_result"
    }
   ],
   "source": [
    "#examine our keywords \n",
    "s = s.value_counts()\n",
    "s[:10]"
   ]
  },
  {
   "cell_type": "code",
   "execution_count": 119,
   "metadata": {},
   "outputs": [],
   "source": [
    "# key words that occur once have no use, so we will eliminate them from the list \n",
    "s = s[s >1]"
   ]
  },
  {
   "cell_type": "code",
   "execution_count": 120,
   "metadata": {},
   "outputs": [],
   "source": [
    "# defining a function that puts the keywords into a list \n",
    "def filter_keywords(x):\n",
    "    words = []\n",
    "    for i in x:\n",
    "        if i in s:\n",
    "            words.append(i)\n",
    "    return words"
   ]
  },
  {
   "cell_type": "code",
   "execution_count": 121,
   "metadata": {},
   "outputs": [
    {
     "data": {
      "text/plain": "'dog'"
     },
     "execution_count": 121,
     "metadata": {},
     "output_type": "execute_result"
    }
   ],
   "source": [
    "from nltk.stem.snowball import SnowballStemmer\n",
    "stemmer = SnowballStemmer('english')\n",
    "stemmer.stem('dogs')"
   ]
  },
  {
   "cell_type": "code",
   "execution_count": 122,
   "metadata": {},
   "outputs": [],
   "source": [
    "# apply function to convert 'keywords' column to a list of words\n",
    "movie_cats['keywords'] = movie_cats['keywords'].apply(filter_keywords)\n",
    "# Apply stemmer to get the word stem\n",
    "movie_cats['keywords'] = movie_cats['keywords'].apply(lambda x: [stemmer.stem(i) for i in x])\n",
    "# Strip spaces and make keywords lower case \n",
    "movie_cats['keywords'] = movie_cats['keywords'].apply(lambda x: [str.lower(i.replace(\" \", \"\")) for i in x])"
   ]
  },
  {
   "cell_type": "markdown",
   "metadata": {},
   "source": [
    "4. Now that we've processed relevant columns we will merge them all into one column!"
   ]
  },
  {
   "cell_type": "code",
   "execution_count": 123,
   "metadata": {},
   "outputs": [],
   "source": [
    "# create one column that is a combo of our other processed columns \n",
    "movie_cats['text_info'] = movie_cats['keywords'] + movie_cats['cast'] + movie_cats['director'] + movie_cats['genres'] + movie_cats['production_companies']\n",
    "movie_cats['text_info'] = movie_cats['text_info'].apply(lambda x: ' '.join(x))"
   ]
  },
  {
   "cell_type": "code",
   "execution_count": 124,
   "metadata": {},
   "outputs": [],
   "source": [
    "# drop processd columns\n",
    "movie_cats.drop(['genres', 'keywords', 'cast', 'director', 'production_companies'], axis=1, inplace=True)"
   ]
  },
  {
   "cell_type": "code",
   "execution_count": 125,
   "metadata": {},
   "outputs": [
    {
     "data": {
      "text/html": "<div>\n<style scoped>\n    .dataframe tbody tr th:only-of-type {\n        vertical-align: middle;\n    }\n\n    .dataframe tbody tr th {\n        vertical-align: top;\n    }\n\n    .dataframe thead th {\n        text-align: right;\n    }\n</style>\n<table border=\"1\" class=\"dataframe\">\n  <thead>\n    <tr style=\"text-align: right;\">\n      <th></th>\n      <th>id</th>\n      <th>title</th>\n      <th>text_info</th>\n    </tr>\n  </thead>\n  <tbody>\n    <tr>\n      <th>0</th>\n      <td>862</td>\n      <td>Toy Story</td>\n      <td>jealousi toy boy friendship friend rivalri boy...</td>\n    </tr>\n    <tr>\n      <th>1</th>\n      <td>8844</td>\n      <td>Jumanji</td>\n      <td>boardgam disappear basedonchildren'sbook newho...</td>\n    </tr>\n    <tr>\n      <th>2</th>\n      <td>15602</td>\n      <td>Grumpier Old Men</td>\n      <td>fish bestfriend duringcreditssting oldmen walt...</td>\n    </tr>\n    <tr>\n      <th>3</th>\n      <td>31357</td>\n      <td>Waiting to Exhale</td>\n      <td>basedonnovel interracialrelationship singlemot...</td>\n    </tr>\n    <tr>\n      <th>4</th>\n      <td>11862</td>\n      <td>Father of the Bride Part II</td>\n      <td>babi midlifecrisi confid age daughter motherda...</td>\n    </tr>\n    <tr>\n      <th>...</th>\n      <td>...</td>\n      <td>...</td>\n      <td>...</td>\n    </tr>\n    <tr>\n      <th>46619</th>\n      <td>439050</td>\n      <td>Subdue</td>\n      <td>tragiclov leilahatami kouroshtahami elhamkorda...</td>\n    </tr>\n    <tr>\n      <th>46620</th>\n      <td>111109</td>\n      <td>Century of Birthing</td>\n      <td>artist play pinoy angelaquino perrydizon hazel...</td>\n    </tr>\n    <tr>\n      <th>46621</th>\n      <td>67758</td>\n      <td>Betrayal</td>\n      <td>erikaeleniak adambaldwin juliedupage markl.les...</td>\n    </tr>\n    <tr>\n      <th>46622</th>\n      <td>227506</td>\n      <td>Satan Triumphant</td>\n      <td>iwanmosschuchin nathalielissenko pavelpavlov y...</td>\n    </tr>\n    <tr>\n      <th>46623</th>\n      <td>461257</td>\n      <td>Queerama</td>\n      <td>daisyasquith daisyasquith daisyasquith</td>\n    </tr>\n  </tbody>\n</table>\n<p>44984 rows × 3 columns</p>\n</div>",
      "text/plain": "           id                        title  \\\n0         862                    Toy Story   \n1        8844                      Jumanji   \n2       15602             Grumpier Old Men   \n3       31357            Waiting to Exhale   \n4       11862  Father of the Bride Part II   \n...       ...                          ...   \n46619  439050                       Subdue   \n46620  111109          Century of Birthing   \n46621   67758                     Betrayal   \n46622  227506             Satan Triumphant   \n46623  461257                     Queerama   \n\n                                               text_info  \n0      jealousi toy boy friendship friend rivalri boy...  \n1      boardgam disappear basedonchildren'sbook newho...  \n2      fish bestfriend duringcreditssting oldmen walt...  \n3      basedonnovel interracialrelationship singlemot...  \n4      babi midlifecrisi confid age daughter motherda...  \n...                                                  ...  \n46619  tragiclov leilahatami kouroshtahami elhamkorda...  \n46620  artist play pinoy angelaquino perrydizon hazel...  \n46621  erikaeleniak adambaldwin juliedupage markl.les...  \n46622  iwanmosschuchin nathalielissenko pavelpavlov y...  \n46623             daisyasquith daisyasquith daisyasquith  \n\n[44984 rows x 3 columns]"
     },
     "execution_count": 125,
     "metadata": {},
     "output_type": "execute_result"
    }
   ],
   "source": [
    "# take a look at out new condensed column \n",
    "movie_cats"
   ]
  },
  {
   "cell_type": "markdown",
   "metadata": {},
   "source": [
    "Our DataFrame looks good and ready for text vectorization!"
   ]
  },
  {
   "cell_type": "code",
   "execution_count": 126,
   "metadata": {},
   "outputs": [],
   "source": [
    "# save dataset\n",
    "movie_cats.to_csv('/Users/spence/Documents/GitHub/Movie Recommender System/Saved Datasets/movie_cats.csv')\n"
   ]
  },
  {
   "cell_type": "markdown",
   "metadata": {},
   "source": [
    "Pt. 9 User Ratings"
   ]
  },
  {
   "cell_type": "code",
   "execution_count": 127,
   "metadata": {},
   "outputs": [
    {
     "data": {
      "text/html": "<div>\n<style scoped>\n    .dataframe tbody tr th:only-of-type {\n        vertical-align: middle;\n    }\n\n    .dataframe tbody tr th {\n        vertical-align: top;\n    }\n\n    .dataframe thead th {\n        text-align: right;\n    }\n</style>\n<table border=\"1\" class=\"dataframe\">\n  <thead>\n    <tr style=\"text-align: right;\">\n      <th></th>\n      <th>userId</th>\n      <th>movieId</th>\n      <th>rating</th>\n      <th>timestamp</th>\n    </tr>\n  </thead>\n  <tbody>\n    <tr>\n      <th>0</th>\n      <td>1</td>\n      <td>31</td>\n      <td>2.5</td>\n      <td>1260759144</td>\n    </tr>\n    <tr>\n      <th>1</th>\n      <td>1</td>\n      <td>1029</td>\n      <td>3.0</td>\n      <td>1260759179</td>\n    </tr>\n    <tr>\n      <th>2</th>\n      <td>1</td>\n      <td>1061</td>\n      <td>3.0</td>\n      <td>1260759182</td>\n    </tr>\n    <tr>\n      <th>3</th>\n      <td>1</td>\n      <td>1129</td>\n      <td>2.0</td>\n      <td>1260759185</td>\n    </tr>\n    <tr>\n      <th>4</th>\n      <td>1</td>\n      <td>1172</td>\n      <td>4.0</td>\n      <td>1260759205</td>\n    </tr>\n    <tr>\n      <th>...</th>\n      <td>...</td>\n      <td>...</td>\n      <td>...</td>\n      <td>...</td>\n    </tr>\n    <tr>\n      <th>99999</th>\n      <td>671</td>\n      <td>6268</td>\n      <td>2.5</td>\n      <td>1065579370</td>\n    </tr>\n    <tr>\n      <th>100000</th>\n      <td>671</td>\n      <td>6269</td>\n      <td>4.0</td>\n      <td>1065149201</td>\n    </tr>\n    <tr>\n      <th>100001</th>\n      <td>671</td>\n      <td>6365</td>\n      <td>4.0</td>\n      <td>1070940363</td>\n    </tr>\n    <tr>\n      <th>100002</th>\n      <td>671</td>\n      <td>6385</td>\n      <td>2.5</td>\n      <td>1070979663</td>\n    </tr>\n    <tr>\n      <th>100003</th>\n      <td>671</td>\n      <td>6565</td>\n      <td>3.5</td>\n      <td>1074784724</td>\n    </tr>\n  </tbody>\n</table>\n<p>100004 rows × 4 columns</p>\n</div>",
      "text/plain": "        userId  movieId  rating   timestamp\n0            1       31     2.5  1260759144\n1            1     1029     3.0  1260759179\n2            1     1061     3.0  1260759182\n3            1     1129     2.0  1260759185\n4            1     1172     4.0  1260759205\n...        ...      ...     ...         ...\n99999      671     6268     2.5  1065579370\n100000     671     6269     4.0  1065149201\n100001     671     6365     4.0  1070940363\n100002     671     6385     2.5  1070979663\n100003     671     6565     3.5  1074784724\n\n[100004 rows x 4 columns]"
     },
     "execution_count": 127,
     "metadata": {},
     "output_type": "execute_result"
    }
   ],
   "source": [
    "ratings"
   ]
  },
  {
   "cell_type": "code",
   "execution_count": 128,
   "metadata": {},
   "outputs": [
    {
     "data": {
      "text/plain": "userId       0\nmovieId      0\nrating       0\ntimestamp    0\ndtype: int64"
     },
     "execution_count": 128,
     "metadata": {},
     "output_type": "execute_result"
    }
   ],
   "source": [
    "#check for missing values\n",
    "ratings.isnull().sum()"
   ]
  },
  {
   "cell_type": "markdown",
   "metadata": {},
   "source": [
    "There are no missing values in our ratings dataset. In the preproceesing/modeling step we will use 'collaborative filtering' to generate a recommendation for a user based on what they and similar users already like.\n",
    "\n",
    "Looks like our 'wrangling' is done!!"
   ]
  }
 ],
 "metadata": {
  "kernelspec": {
   "display_name": "Python 3.8.8 64-bit ('anaconda3': virtualenv)",
   "name": "python388jvsc74a57bd0dca0ade3e726a953b501b15e8e990130d2b7799f14cfd9f4271676035ebe5511"
  },
  "language_info": {
   "codemirror_mode": {
    "name": "ipython",
    "version": 3
   },
   "file_extension": ".py",
   "mimetype": "text/x-python",
   "name": "python",
   "nbconvert_exporter": "python",
   "pygments_lexer": "ipython3",
   "version": "3.8.8"
  },
  "orig_nbformat": 3
 },
 "nbformat": 4,
 "nbformat_minor": 4
}