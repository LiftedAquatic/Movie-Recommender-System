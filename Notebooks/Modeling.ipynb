{
 "cells": [
  {
   "cell_type": "markdown",
   "metadata": {},
   "source": [
    "# Modeling"
   ]
  },
  {
   "cell_type": "code",
   "execution_count": 1,
   "metadata": {},
   "outputs": [],
   "source": [
    "import pandas as pd\n",
    "import numpy as np\n",
    "import matplotlib.pyplot as plt\n",
    "import warnings\n",
    "warnings.filterwarnings(\"ignore\")"
   ]
  },
  {
   "cell_type": "markdown",
   "metadata": {},
   "source": [
    "# Importing Data"
   ]
  },
  {
   "cell_type": "code",
   "execution_count": 2,
   "metadata": {},
   "outputs": [],
   "source": [
    "user_ratings_s = pd.read_csv('/Users/spence/Documents/GitHub/Movie Recommender System/Original Data/The Movies Dataset/ratings_small.csv')\n",
    "ratings_link = pd.read_csv('/Users/spence/Documents/GitHub/Movie Recommender System/Original Data/The Movies Dataset/links_small.csv')\n",
    "\n",
    "text_df = pd.read_csv('/Users/spence/Documents/GitHub/Movie Recommender System/Saved Datasets/movie_cats.csv', index_col=0)\n",
    "\n",
    "# merged_df = pd.read_csv('/Users/spence/Documents/GitHub/Movie Recommender System/Saved Datasets/df_merged.csv', index_col=0)"
   ]
  },
  {
   "cell_type": "code",
   "execution_count": 4,
   "metadata": {},
   "outputs": [],
   "source": [
    "df_reduce = pd.read_csv('/Users/spence/Documents/GitHub/Movie Recommender System/Saved Datasets/df_redux.csv', index_col=0)\n",
    "\n",
    "df_reduce2 = pd.read_csv('/Users/spence/Documents/GitHub/Movie Recommender System/Saved Datasets/df_merged.csv', index_col=0)"
   ]
  },
  {
   "cell_type": "markdown",
   "metadata": {},
   "source": [
    "# Pt.1  Clustering"
   ]
  },
  {
   "cell_type": "code",
   "execution_count": 5,
   "metadata": {},
   "outputs": [],
   "source": [
    "from sklearn.cluster import KMeans, DBSCAN"
   ]
  },
  {
   "cell_type": "code",
   "execution_count": 6,
   "metadata": {},
   "outputs": [],
   "source": [
    "# original very wide data set \n",
    "\n",
    "# df = merged_df.copy()\n",
    "# df.drop(['id'],axis=1,inplace=True)"
   ]
  },
  {
   "cell_type": "code",
   "execution_count": 7,
   "metadata": {},
   "outputs": [],
   "source": [
    "# created a 'narrower' dataset with fewer features to make 'unsupervised' clustering more managable  \n",
    "\n",
    "df1 = df_reduce.copy()\n",
    "df1.drop(['id'],axis=1,inplace=True)"
   ]
  },
  {
   "cell_type": "code",
   "execution_count": 9,
   "metadata": {},
   "outputs": [],
   "source": [
    "# created a final data set that was inbetween the previous two in terms of wideness \n",
    "\n",
    "df2 = df_reduce2.copy()\n",
    "df2.drop(['id'], axis=1, inplace=True)"
   ]
  },
  {
   "cell_type": "markdown",
   "metadata": {},
   "source": [
    "Convert dataframes to Numpy arrays"
   ]
  },
  {
   "cell_type": "code",
   "execution_count": 14,
   "metadata": {},
   "outputs": [],
   "source": [
    "# create numpy array \n",
    "\n",
    "#small data set\n",
    "df_numpy1 = df1.to_numpy()\n",
    "\n",
    "#medium dataset\n",
    "df_numpy2 = df2.to_numpy()"
   ]
  },
  {
   "cell_type": "code",
   "execution_count": 15,
   "metadata": {},
   "outputs": [],
   "source": [
    "# using the fit and predict methods to generate clusters\n",
    "\n",
    "km = KMeans(n_clusters=300)\n",
    "X_clustered=km.fit_predict(df_numpy2)\n",
    "\n",
    "db = DBSCAN(eps=0.01, algorithm='auto')\n",
    "X_clustered2 = db.fit_predict(df_numpy2)"
   ]
  },
  {
   "cell_type": "code",
   "execution_count": 16,
   "metadata": {},
   "outputs": [],
   "source": [
    "# importing movie titles as a reference so I can observe what movies got grouped by seeing their title.\n",
    "\n",
    "titles_df = pd.read_csv('/Users/spence/Documents/GitHub/Movie Recommender System/Saved Datasets/movie_cats.csv', index_col=0)\n",
    "titles_df.drop(['text_info'], axis=1,inplace=True)"
   ]
  },
  {
   "cell_type": "code",
   "execution_count": 17,
   "metadata": {},
   "outputs": [],
   "source": [
    "# creating new columns containing cluster assigment in the DataFrame \n",
    "\n",
    "# column for KMeans cluster\n",
    "df_reduce2[\"cluster\"] = X_clustered\n",
    "\n",
    "#column for DBSCAN cluster\n",
    "df_reduce2[\"cluster2\"] = X_clustered2"
   ]
  },
  {
   "cell_type": "code",
   "execution_count": 18,
   "metadata": {},
   "outputs": [],
   "source": [
    "# merging the dataframe with titles and cluster assignments \n",
    "\n",
    "df_together = pd.merge(titles_df,df_reduce2, how=\"right\", on=['id'])"
   ]
  },
  {
   "cell_type": "markdown",
   "metadata": {},
   "source": [
    "Examining datasets and how the clustering worked "
   ]
  },
  {
   "cell_type": "code",
   "execution_count": 19,
   "metadata": {},
   "outputs": [
    {
     "data": {
      "text/html": "<div>\n<style scoped>\n    .dataframe tbody tr th:only-of-type {\n        vertical-align: middle;\n    }\n\n    .dataframe tbody tr th {\n        vertical-align: top;\n    }\n\n    .dataframe thead th {\n        text-align: right;\n    }\n</style>\n<table border=\"1\" class=\"dataframe\">\n  <thead>\n    <tr style=\"text-align: right;\">\n      <th></th>\n      <th>id</th>\n      <th>title</th>\n      <th>John Wayne</th>\n      <th>Jackie Chan</th>\n      <th>Michael Caine</th>\n      <th>Robert De Niro</th>\n      <th>Gérard Depardieu</th>\n      <th>Christopher Lee</th>\n      <th>Nicolas Cage</th>\n      <th>Bette Davis</th>\n      <th>...</th>\n      <th>budget</th>\n      <th>revenue</th>\n      <th>vote_average</th>\n      <th>vote_count</th>\n      <th>popularity</th>\n      <th>Charlie Chaplin</th>\n      <th>Clint Eastwood</th>\n      <th>Buster Keaton</th>\n      <th>cluster</th>\n      <th>cluster2</th>\n    </tr>\n  </thead>\n  <tbody>\n    <tr>\n      <th>88</th>\n      <td>2086</td>\n      <td>Nick of Time</td>\n      <td>0</td>\n      <td>0</td>\n      <td>0</td>\n      <td>0</td>\n      <td>0</td>\n      <td>0</td>\n      <td>0</td>\n      <td>0</td>\n      <td>...</td>\n      <td>0.222975</td>\n      <td>-0.048673</td>\n      <td>0.248473</td>\n      <td>0.160130</td>\n      <td>0.648956</td>\n      <td>0</td>\n      <td>0</td>\n      <td>0</td>\n      <td>203</td>\n      <td>-1</td>\n    </tr>\n    <tr>\n      <th>224</th>\n      <td>10531</td>\n      <td>Death and the Maiden</td>\n      <td>0</td>\n      <td>0</td>\n      <td>0</td>\n      <td>0</td>\n      <td>0</td>\n      <td>0</td>\n      <td>0</td>\n      <td>0</td>\n      <td>...</td>\n      <td>-0.243594</td>\n      <td>-0.175109</td>\n      <td>0.770459</td>\n      <td>-0.038338</td>\n      <td>0.422483</td>\n      <td>0</td>\n      <td>0</td>\n      <td>0</td>\n      <td>203</td>\n      <td>-1</td>\n    </tr>\n    <tr>\n      <th>225</th>\n      <td>11929</td>\n      <td>Dolores Claiborne</td>\n      <td>0</td>\n      <td>0</td>\n      <td>0</td>\n      <td>0</td>\n      <td>0</td>\n      <td>0</td>\n      <td>0</td>\n      <td>0</td>\n      <td>...</td>\n      <td>-0.243594</td>\n      <td>-0.175109</td>\n      <td>0.770459</td>\n      <td>0.145954</td>\n      <td>0.475322</td>\n      <td>0</td>\n      <td>0</td>\n      <td>0</td>\n      <td>203</td>\n      <td>-1</td>\n    </tr>\n  </tbody>\n</table>\n<p>3 rows × 354 columns</p>\n</div>",
      "text/plain": "        id                 title  John Wayne  Jackie Chan  Michael Caine  \\\n88    2086          Nick of Time           0            0              0   \n224  10531  Death and the Maiden           0            0              0   \n225  11929     Dolores Claiborne           0            0              0   \n\n     Robert De Niro  Gérard Depardieu  Christopher Lee  Nicolas Cage  \\\n88                0                 0                0             0   \n224               0                 0                0             0   \n225               0                 0                0             0   \n\n     Bette Davis  ...    budget   revenue  vote_average  vote_count  \\\n88             0  ...  0.222975 -0.048673      0.248473    0.160130   \n224            0  ... -0.243594 -0.175109      0.770459   -0.038338   \n225            0  ... -0.243594 -0.175109      0.770459    0.145954   \n\n     popularity  Charlie Chaplin  Clint Eastwood  Buster Keaton  cluster  \\\n88     0.648956                0               0              0      203   \n224    0.422483                0               0              0      203   \n225    0.475322                0               0              0      203   \n\n     cluster2  \n88         -1  \n224        -1  \n225        -1  \n\n[3 rows x 354 columns]"
     },
     "execution_count": 19,
     "metadata": {},
     "output_type": "execute_result"
    }
   ],
   "source": [
    "df_together[df_together['cluster']  == 203].head(3)"
   ]
  },
  {
   "cell_type": "code",
   "execution_count": 20,
   "metadata": {},
   "outputs": [
    {
     "data": {
      "text/html": "<div>\n<style scoped>\n    .dataframe tbody tr th:only-of-type {\n        vertical-align: middle;\n    }\n\n    .dataframe tbody tr th {\n        vertical-align: top;\n    }\n\n    .dataframe thead th {\n        text-align: right;\n    }\n</style>\n<table border=\"1\" class=\"dataframe\">\n  <thead>\n    <tr style=\"text-align: right;\">\n      <th></th>\n      <th>id</th>\n      <th>title</th>\n      <th>John Wayne</th>\n      <th>Jackie Chan</th>\n      <th>Michael Caine</th>\n      <th>Robert De Niro</th>\n      <th>Gérard Depardieu</th>\n      <th>Christopher Lee</th>\n      <th>Nicolas Cage</th>\n      <th>Bette Davis</th>\n      <th>...</th>\n      <th>budget</th>\n      <th>revenue</th>\n      <th>vote_average</th>\n      <th>vote_count</th>\n      <th>popularity</th>\n      <th>Charlie Chaplin</th>\n      <th>Clint Eastwood</th>\n      <th>Buster Keaton</th>\n      <th>cluster</th>\n      <th>cluster2</th>\n    </tr>\n  </thead>\n  <tbody>\n    <tr>\n      <th>51</th>\n      <td>11448</td>\n      <td>Mighty Aphrodite</td>\n      <td>0</td>\n      <td>0</td>\n      <td>0</td>\n      <td>0</td>\n      <td>0</td>\n      <td>0</td>\n      <td>0</td>\n      <td>0</td>\n      <td>...</td>\n      <td>0.613087</td>\n      <td>-0.071490</td>\n      <td>0.561665</td>\n      <td>0.068997</td>\n      <td>2.151199</td>\n      <td>0</td>\n      <td>0</td>\n      <td>0</td>\n      <td>239</td>\n      <td>-1</td>\n    </tr>\n    <tr>\n      <th>342</th>\n      <td>11382</td>\n      <td>Bullets Over Broadway</td>\n      <td>0</td>\n      <td>0</td>\n      <td>0</td>\n      <td>0</td>\n      <td>0</td>\n      <td>0</td>\n      <td>0</td>\n      <td>0</td>\n      <td>...</td>\n      <td>-0.243594</td>\n      <td>-0.175109</td>\n      <td>0.718261</td>\n      <td>0.038619</td>\n      <td>0.462107</td>\n      <td>0</td>\n      <td>0</td>\n      <td>0</td>\n      <td>239</td>\n      <td>-1</td>\n    </tr>\n    <tr>\n      <th>486</th>\n      <td>10440</td>\n      <td>Manhattan Murder Mystery</td>\n      <td>0</td>\n      <td>0</td>\n      <td>0</td>\n      <td>0</td>\n      <td>0</td>\n      <td>0</td>\n      <td>0</td>\n      <td>0</td>\n      <td>...</td>\n      <td>0.527419</td>\n      <td>-0.000572</td>\n      <td>0.770459</td>\n      <td>0.117601</td>\n      <td>0.995997</td>\n      <td>0</td>\n      <td>0</td>\n      <td>0</td>\n      <td>239</td>\n      <td>-1</td>\n    </tr>\n    <tr>\n      <th>1023</th>\n      <td>9716</td>\n      <td>Everyone Says I Love You</td>\n      <td>0</td>\n      <td>0</td>\n      <td>0</td>\n      <td>0</td>\n      <td>0</td>\n      <td>0</td>\n      <td>0</td>\n      <td>0</td>\n      <td>...</td>\n      <td>0.898648</td>\n      <td>-0.175109</td>\n      <td>0.457267</td>\n      <td>0.077098</td>\n      <td>1.113797</td>\n      <td>0</td>\n      <td>0</td>\n      <td>0</td>\n      <td>283</td>\n      <td>-1</td>\n    </tr>\n    <tr>\n      <th>1181</th>\n      <td>703</td>\n      <td>Annie Hall</td>\n      <td>0</td>\n      <td>0</td>\n      <td>0</td>\n      <td>0</td>\n      <td>0</td>\n      <td>0</td>\n      <td>0</td>\n      <td>0</td>\n      <td>...</td>\n      <td>-0.015146</td>\n      <td>0.416469</td>\n      <td>1.135850</td>\n      <td>1.889639</td>\n      <td>2.524149</td>\n      <td>0</td>\n      <td>0</td>\n      <td>0</td>\n      <td>276</td>\n      <td>-1</td>\n    </tr>\n    <tr>\n      <th>1194</th>\n      <td>696</td>\n      <td>Manhattan</td>\n      <td>0</td>\n      <td>0</td>\n      <td>0</td>\n      <td>0</td>\n      <td>0</td>\n      <td>0</td>\n      <td>0</td>\n      <td>0</td>\n      <td>...</td>\n      <td>-0.243594</td>\n      <td>0.442689</td>\n      <td>1.135850</td>\n      <td>0.990456</td>\n      <td>1.512431</td>\n      <td>0</td>\n      <td>0</td>\n      <td>0</td>\n      <td>276</td>\n      <td>-1</td>\n    </tr>\n    <tr>\n      <th>1945</th>\n      <td>10849</td>\n      <td>The Purple Rose of Cairo</td>\n      <td>0</td>\n      <td>0</td>\n      <td>0</td>\n      <td>0</td>\n      <td>0</td>\n      <td>0</td>\n      <td>0</td>\n      <td>0</td>\n      <td>...</td>\n      <td>0.613087</td>\n      <td>-0.010690</td>\n      <td>0.874857</td>\n      <td>0.192533</td>\n      <td>0.530296</td>\n      <td>0</td>\n      <td>0</td>\n      <td>0</td>\n      <td>267</td>\n      <td>-1</td>\n    </tr>\n    <tr>\n      <th>2165</th>\n      <td>11337</td>\n      <td>Stardust Memories</td>\n      <td>0</td>\n      <td>0</td>\n      <td>0</td>\n      <td>0</td>\n      <td>0</td>\n      <td>0</td>\n      <td>0</td>\n      <td>0</td>\n      <td>...</td>\n      <td>0.327527</td>\n      <td>-0.014438</td>\n      <td>0.666062</td>\n      <td>-0.030237</td>\n      <td>0.461718</td>\n      <td>0</td>\n      <td>0</td>\n      <td>0</td>\n      <td>233</td>\n      <td>-1</td>\n    </tr>\n    <tr>\n      <th>2621</th>\n      <td>30890</td>\n      <td>Radio Days</td>\n      <td>0</td>\n      <td>0</td>\n      <td>0</td>\n      <td>0</td>\n      <td>0</td>\n      <td>0</td>\n      <td>0</td>\n      <td>0</td>\n      <td>...</td>\n      <td>0.670200</td>\n      <td>-0.175109</td>\n      <td>0.718261</td>\n      <td>0.040644</td>\n      <td>0.970022</td>\n      <td>0</td>\n      <td>0</td>\n      <td>0</td>\n      <td>267</td>\n      <td>-1</td>\n    </tr>\n    <tr>\n      <th>2843</th>\n      <td>11562</td>\n      <td>Crimes and Misdemeanors</td>\n      <td>0</td>\n      <td>0</td>\n      <td>0</td>\n      <td>0</td>\n      <td>0</td>\n      <td>0</td>\n      <td>0</td>\n      <td>0</td>\n      <td>...</td>\n      <td>0.841536</td>\n      <td>0.107209</td>\n      <td>0.927055</td>\n      <td>0.182407</td>\n      <td>0.615213</td>\n      <td>0</td>\n      <td>0</td>\n      <td>0</td>\n      <td>267</td>\n      <td>-1</td>\n    </tr>\n    <tr>\n      <th>3674</th>\n      <td>15867</td>\n      <td>Interiors</td>\n      <td>0</td>\n      <td>0</td>\n      <td>0</td>\n      <td>0</td>\n      <td>0</td>\n      <td>0</td>\n      <td>0</td>\n      <td>0</td>\n      <td>...</td>\n      <td>-0.243594</td>\n      <td>-0.175109</td>\n      <td>0.561665</td>\n      <td>-0.038338</td>\n      <td>0.261751</td>\n      <td>0</td>\n      <td>0</td>\n      <td>0</td>\n      <td>278</td>\n      <td>-1</td>\n    </tr>\n    <tr>\n      <th>4259</th>\n      <td>19200</td>\n      <td>Shadows and Fog</td>\n      <td>0</td>\n      <td>0</td>\n      <td>0</td>\n      <td>0</td>\n      <td>0</td>\n      <td>0</td>\n      <td>0</td>\n      <td>0</td>\n      <td>...</td>\n      <td>0.555975</td>\n      <td>-0.132800</td>\n      <td>0.718261</td>\n      <td>-0.062640</td>\n      <td>0.952612</td>\n      <td>0</td>\n      <td>0</td>\n      <td>0</td>\n      <td>239</td>\n      <td>-1</td>\n    </tr>\n    <tr>\n      <th>4477</th>\n      <td>9686</td>\n      <td>New York Stories</td>\n      <td>0</td>\n      <td>0</td>\n      <td>0</td>\n      <td>0</td>\n      <td>0</td>\n      <td>0</td>\n      <td>0</td>\n      <td>0</td>\n      <td>...</td>\n      <td>0.613087</td>\n      <td>-0.175109</td>\n      <td>0.300671</td>\n      <td>-0.093018</td>\n      <td>1.120083</td>\n      <td>0</td>\n      <td>0</td>\n      <td>0</td>\n      <td>267</td>\n      <td>-1</td>\n    </tr>\n    <tr>\n      <th>5935</th>\n      <td>8288</td>\n      <td>A Midsummer Night's Sex Comedy</td>\n      <td>0</td>\n      <td>0</td>\n      <td>0</td>\n      <td>0</td>\n      <td>0</td>\n      <td>0</td>\n      <td>0</td>\n      <td>0</td>\n      <td>...</td>\n      <td>-0.243594</td>\n      <td>-0.175109</td>\n      <td>0.457267</td>\n      <td>-0.036313</td>\n      <td>1.373331</td>\n      <td>0</td>\n      <td>0</td>\n      <td>0</td>\n      <td>267</td>\n      <td>-1</td>\n    </tr>\n    <tr>\n      <th>6804</th>\n      <td>5143</td>\n      <td>Hannah and Her Sisters</td>\n      <td>0</td>\n      <td>0</td>\n      <td>1</td>\n      <td>0</td>\n      <td>0</td>\n      <td>0</td>\n      <td>0</td>\n      <td>0</td>\n      <td>...</td>\n      <td>0.121923</td>\n      <td>0.444811</td>\n      <td>1.031453</td>\n      <td>0.228987</td>\n      <td>1.102117</td>\n      <td>0</td>\n      <td>0</td>\n      <td>0</td>\n      <td>267</td>\n      <td>-1</td>\n    </tr>\n    <tr>\n      <th>7485</th>\n      <td>11030</td>\n      <td>Zelig</td>\n      <td>0</td>\n      <td>0</td>\n      <td>0</td>\n      <td>0</td>\n      <td>0</td>\n      <td>0</td>\n      <td>0</td>\n      <td>0</td>\n      <td>...</td>\n      <td>-0.243594</td>\n      <td>0.007363</td>\n      <td>0.927055</td>\n      <td>0.198609</td>\n      <td>0.498442</td>\n      <td>0</td>\n      <td>0</td>\n      <td>0</td>\n      <td>267</td>\n      <td>-1</td>\n    </tr>\n    <tr>\n      <th>7513</th>\n      <td>12762</td>\n      <td>Broadway Danny Rose</td>\n      <td>0</td>\n      <td>0</td>\n      <td>0</td>\n      <td>0</td>\n      <td>0</td>\n      <td>0</td>\n      <td>0</td>\n      <td>0</td>\n      <td>...</td>\n      <td>0.213303</td>\n      <td>-0.011167</td>\n      <td>0.822658</td>\n      <td>-0.014036</td>\n      <td>0.490224</td>\n      <td>0</td>\n      <td>0</td>\n      <td>0</td>\n      <td>267</td>\n      <td>-1</td>\n    </tr>\n  </tbody>\n</table>\n<p>17 rows × 354 columns</p>\n</div>",
      "text/plain": "         id                           title  John Wayne  Jackie Chan  \\\n51    11448                Mighty Aphrodite           0            0   \n342   11382           Bullets Over Broadway           0            0   \n486   10440        Manhattan Murder Mystery           0            0   \n1023   9716        Everyone Says I Love You           0            0   \n1181    703                      Annie Hall           0            0   \n1194    696                       Manhattan           0            0   \n1945  10849        The Purple Rose of Cairo           0            0   \n2165  11337               Stardust Memories           0            0   \n2621  30890                      Radio Days           0            0   \n2843  11562         Crimes and Misdemeanors           0            0   \n3674  15867                       Interiors           0            0   \n4259  19200                 Shadows and Fog           0            0   \n4477   9686                New York Stories           0            0   \n5935   8288  A Midsummer Night's Sex Comedy           0            0   \n6804   5143          Hannah and Her Sisters           0            0   \n7485  11030                           Zelig           0            0   \n7513  12762             Broadway Danny Rose           0            0   \n\n      Michael Caine  Robert De Niro  Gérard Depardieu  Christopher Lee  \\\n51                0               0                 0                0   \n342               0               0                 0                0   \n486               0               0                 0                0   \n1023              0               0                 0                0   \n1181              0               0                 0                0   \n1194              0               0                 0                0   \n1945              0               0                 0                0   \n2165              0               0                 0                0   \n2621              0               0                 0                0   \n2843              0               0                 0                0   \n3674              0               0                 0                0   \n4259              0               0                 0                0   \n4477              0               0                 0                0   \n5935              0               0                 0                0   \n6804              1               0                 0                0   \n7485              0               0                 0                0   \n7513              0               0                 0                0   \n\n      Nicolas Cage  Bette Davis  ...    budget   revenue  vote_average  \\\n51               0            0  ...  0.613087 -0.071490      0.561665   \n342              0            0  ... -0.243594 -0.175109      0.718261   \n486              0            0  ...  0.527419 -0.000572      0.770459   \n1023             0            0  ...  0.898648 -0.175109      0.457267   \n1181             0            0  ... -0.015146  0.416469      1.135850   \n1194             0            0  ... -0.243594  0.442689      1.135850   \n1945             0            0  ...  0.613087 -0.010690      0.874857   \n2165             0            0  ...  0.327527 -0.014438      0.666062   \n2621             0            0  ...  0.670200 -0.175109      0.718261   \n2843             0            0  ...  0.841536  0.107209      0.927055   \n3674             0            0  ... -0.243594 -0.175109      0.561665   \n4259             0            0  ...  0.555975 -0.132800      0.718261   \n4477             0            0  ...  0.613087 -0.175109      0.300671   \n5935             0            0  ... -0.243594 -0.175109      0.457267   \n6804             0            0  ...  0.121923  0.444811      1.031453   \n7485             0            0  ... -0.243594  0.007363      0.927055   \n7513             0            0  ...  0.213303 -0.011167      0.822658   \n\n      vote_count  popularity  Charlie Chaplin  Clint Eastwood  Buster Keaton  \\\n51      0.068997    2.151199                0               0              0   \n342     0.038619    0.462107                0               0              0   \n486     0.117601    0.995997                0               0              0   \n1023    0.077098    1.113797                0               0              0   \n1181    1.889639    2.524149                0               0              0   \n1194    0.990456    1.512431                0               0              0   \n1945    0.192533    0.530296                0               0              0   \n2165   -0.030237    0.461718                0               0              0   \n2621    0.040644    0.970022                0               0              0   \n2843    0.182407    0.615213                0               0              0   \n3674   -0.038338    0.261751                0               0              0   \n4259   -0.062640    0.952612                0               0              0   \n4477   -0.093018    1.120083                0               0              0   \n5935   -0.036313    1.373331                0               0              0   \n6804    0.228987    1.102117                0               0              0   \n7485    0.198609    0.498442                0               0              0   \n7513   -0.014036    0.490224                0               0              0   \n\n      cluster  cluster2  \n51        239        -1  \n342       239        -1  \n486       239        -1  \n1023      283        -1  \n1181      276        -1  \n1194      276        -1  \n1945      267        -1  \n2165      233        -1  \n2621      267        -1  \n2843      267        -1  \n3674      278        -1  \n4259      239        -1  \n4477      267        -1  \n5935      267        -1  \n6804      267        -1  \n7485      267        -1  \n7513      267        -1  \n\n[17 rows x 354 columns]"
     },
     "execution_count": 20,
     "metadata": {},
     "output_type": "execute_result"
    }
   ],
   "source": [
    "df_together[(df_together['cluster']  >= 223) & (df_together['Woody Allen']  == 1) ]"
   ]
  },
  {
   "cell_type": "markdown",
   "metadata": {},
   "source": [
    "It appears as though DBscan created one super large cluster of 44700k films(nearly all)) and several smaller ones.\n",
    "\n",
    "Kmeans seems to have worked better and is more interpretable. As I increase the cluster size the clusters get smaller and contain more similar films. \n",
    "\n",
    "300 clusters seems to be an appropriate amount for KMeans."
   ]
  },
  {
   "cell_type": "markdown",
   "metadata": {},
   "source": [
    "Recommender function based on KMeans clustering!"
   ]
  },
  {
   "cell_type": "code",
   "execution_count": 26,
   "metadata": {},
   "outputs": [],
   "source": [
    "def watchlist(movie):\n",
    "    idx = df_together[df_together['title'] == movie].index[0]\n",
    "    cluster = df_together.loc[idx]['cluster']\n",
    "    sames = df_together[df_together['cluster']== cluster]\n",
    "    lst = list(sames['title'][0:])\n",
    "    for i in lst:\n",
    "        print( i )"
   ]
  },
  {
   "cell_type": "code",
   "execution_count": 27,
   "metadata": {},
   "outputs": [
    {
     "name": "stdout",
     "output_type": "stream",
     "text": [
      "The Matrix\n",
      "Iron Man\n",
      "Inception\n",
      "The Hunger Games\n",
      "Django Unchained\n",
      "Interstellar\n",
      "Guardians of the Galaxy\n",
      "Mad Max: Fury Road\n"
     ]
    }
   ],
   "source": [
    "watchlist('Inception')"
   ]
  },
  {
   "cell_type": "markdown",
   "metadata": {},
   "source": [
    "Decent recommendations, but there are some curveballs on there. Interstellar is another Christopher Nolan film and Guardians of the Galaxy is also about space. There are some other adventure type films which makes sense. "
   ]
  },
  {
   "cell_type": "code",
   "execution_count": 28,
   "metadata": {},
   "outputs": [
    {
     "name": "stdout",
     "output_type": "stream",
     "text": [
      "Pirates of the Caribbean: Dead Man's Chest\n",
      "Spider-Man 3\n",
      "Harry Potter and the Half-Blood Prince\n",
      "Alice in Wonderland\n",
      "Toy Story 3\n",
      "Harry Potter and the Deathly Hallows: Part 1\n",
      "Transformers: Dark of the Moon\n",
      "The Hobbit: The Desolation of Smaug\n",
      "Frozen\n",
      "Transformers: Age of Extinction\n",
      "The Hobbit: The Battle of the Five Armies\n",
      "Spectre\n",
      "Zootopia\n",
      "Finding Dory\n",
      "Rogue One: A Star Wars Story\n",
      "The Fate of the Furious\n"
     ]
    }
   ],
   "source": [
    "watchlist('Spider-Man 3')"
   ]
  },
  {
   "cell_type": "markdown",
   "metadata": {},
   "source": [
    "Not a bad recommendation for 'Spider Man 3'. They are all films that would appeal to kids or folks who enjoy 'fantasy' films. There is also a theme of adevnture and action happening on this list.  "
   ]
  },
  {
   "cell_type": "markdown",
   "metadata": {},
   "source": [
    "# Pt.2 Collaborative Filtering"
   ]
  },
  {
   "cell_type": "code",
   "execution_count": 29,
   "metadata": {},
   "outputs": [],
   "source": [
    "# use the Surpirse library to perform cross-validation \n",
    "\n",
    "from surprise import Reader, Dataset, SVD, KNNWithMeans \n",
    "from surprise.model_selection import cross_validate\n",
    "from surprise.model_selection import GridSearchCV"
   ]
  },
  {
   "cell_type": "code",
   "execution_count": 30,
   "metadata": {},
   "outputs": [],
   "source": [
    "# merge datasets so that our 'movie id' from ratings can sync up with our movie 'id' column in our other datasets\n",
    "user_ratings = pd.merge(user_ratings_s, ratings_link, how='left', on=['movieId'])\n",
    "\n",
    "user_ratings.drop(['movieId', 'timestamp', 'imdbId'], axis=1, inplace=True )\n",
    "\n",
    "user_ratings.rename({'tmdbId':'id'}, axis=1, inplace=True)\n",
    "\n",
    "user_ratings.dropna(how='any', axis=0, inplace=True)\n",
    "\n",
    "user_ratings.id = user_ratings.id.astype(int)\n",
    "\n",
    "user_ratings = user_ratings[['userId', 'id', 'rating']]"
   ]
  },
  {
   "cell_type": "code",
   "execution_count": 31,
   "metadata": {},
   "outputs": [],
   "source": [
    "# instantiate the Reader function\n",
    "reader = Reader()\n",
    "\n",
    "# load our Dataset into the variable 'data' via Surprises 'Dataset.load_from_df' function \n",
    "\n",
    "data = Dataset.load_from_df(user_ratings[['userId', 'id', 'rating']], reader)"
   ]
  },
  {
   "cell_type": "markdown",
   "metadata": {},
   "source": [
    "Now we will use Grid Search Cross Validation to tune our hyperparameters for our models. "
   ]
  },
  {
   "cell_type": "code",
   "execution_count": 32,
   "metadata": {},
   "outputs": [
    {
     "name": "stdout",
     "output_type": "stream",
     "text": [
      "0.9145739525556175\n",
      "{'n_epochs': 10, 'lr_all': 0.005, 'reg_all': 0.4}\n"
     ]
    }
   ],
   "source": [
    "# generate the best hyper parameters using Grid Search CV \n",
    "\n",
    "param_grid = {'n_epochs': [5, 10], 'lr_all': [0.002, 0.005],\n",
    "              'reg_all': [0.4, 0.6]}\n",
    "              \n",
    "gs = GridSearchCV(SVD, param_grid, measures=['rmse', 'mae'], cv=3)\n",
    "\n",
    "gs.fit(data)\n",
    "\n",
    "# best RMSE score\n",
    "print(gs.best_score['rmse'])\n",
    "\n",
    "# combination of parameters that gave the best RMSE score\n",
    "print(gs.best_params['rmse'])"
   ]
  },
  {
   "cell_type": "code",
   "execution_count": null,
   "metadata": {},
   "outputs": [],
   "source": [
    "# generate the best hyper parameters using Grid Search CV \n",
    "\n",
    "sim_options = {\n",
    "    \"name\": [\"msd\", \"cosine\"],\n",
    "    \"min_support\": [3, 4, 5],\n",
    "    \"user_based\": [False, True],\n",
    "}\n",
    "\n",
    "param_grid = {\"sim_options\": sim_options}\n",
    "\n",
    "gs_ = GridSearchCV(KNNWithMeans, param_grid, measures=[\"rmse\", \"mae\"], cv=3)\n",
    "\n",
    "gs_.fit(data)"
   ]
  },
  {
   "cell_type": "code",
   "execution_count": 34,
   "metadata": {},
   "outputs": [
    {
     "name": "stdout",
     "output_type": "stream",
     "text": [
      "0.9264957255757659\n",
      "{'sim_options': {'name': 'msd', 'min_support': 3, 'user_based': True}}\n"
     ]
    }
   ],
   "source": [
    "# best RMSE score\n",
    "print(gs_.best_score[\"rmse\"])\n",
    "# combination of parameters that gave the best RMSE score\n",
    "print(gs_.best_params[\"rmse\"])"
   ]
  },
  {
   "cell_type": "markdown",
   "metadata": {},
   "source": [
    "Now that we have the optimal hyperparameters we will fit the algorithm to our dataset and predict the score a User will give a film."
   ]
  },
  {
   "cell_type": "code",
   "execution_count": 35,
   "metadata": {},
   "outputs": [
    {
     "data": {
      "text/plain": "<surprise.prediction_algorithms.matrix_factorization.SVD at 0x133bc6a60>"
     },
     "execution_count": 35,
     "metadata": {},
     "output_type": "execute_result"
    }
   ],
   "source": [
    "# train and fit our SVD algorithm using the optimal hyperparameters as discovered above \n",
    "\n",
    "algo = gs.best_estimator['rmse']\n",
    "\n",
    "algo.fit(data.build_full_trainset())"
   ]
  },
  {
   "cell_type": "code",
   "execution_count": 36,
   "metadata": {},
   "outputs": [
    {
     "name": "stdout",
     "output_type": "stream",
     "text": [
      "The predicted rating that User 61 would give film 58 is 3.35 \n"
     ]
    }
   ],
   "source": [
    "# predict with SVD\n",
    "pred = algo.predict(61, 58)\n",
    "\n",
    "print(f'The predicted rating that User {pred[0]} would give film {pred[1]} is {round(pred[3], 2)} ')"
   ]
  },
  {
   "cell_type": "code",
   "execution_count": 37,
   "metadata": {},
   "outputs": [
    {
     "name": "stdout",
     "output_type": "stream",
     "text": [
      "Computing the msd similarity matrix...\n",
      "Done computing similarity matrix.\n"
     ]
    },
    {
     "data": {
      "text/plain": "<surprise.prediction_algorithms.knns.KNNWithMeans at 0x137912460>"
     },
     "execution_count": 37,
     "metadata": {},
     "output_type": "execute_result"
    }
   ],
   "source": [
    "# train and fit our KNNWithMeans algorithm using the optimal hyperparameters as discovered above \n",
    "\n",
    "algori = gs_.best_estimator['rmse']\n",
    "\n",
    "algori.fit(data.build_full_trainset())\n"
   ]
  },
  {
   "cell_type": "code",
   "execution_count": 38,
   "metadata": {},
   "outputs": [
    {
     "name": "stdout",
     "output_type": "stream",
     "text": [
      "The predicted rating that User 61 would give film 58 is 3.09 \n"
     ]
    }
   ],
   "source": [
    "# predict with KNN\n",
    "pred = algori.predict(61, 58)\n",
    "\n",
    "print(f'The predicted rating that User {pred[0]} would give film {pred[1]} is {round(pred[3], 2)} ')"
   ]
  },
  {
   "cell_type": "markdown",
   "metadata": {},
   "source": [
    "The actual rating that User 61 gave film 58 is 3.5, so SVD outperformed KNN, but they are both in the ballpark.  "
   ]
  },
  {
   "cell_type": "code",
   "execution_count": 39,
   "metadata": {},
   "outputs": [
    {
     "data": {
      "text/html": "<div>\n<style scoped>\n    .dataframe tbody tr th:only-of-type {\n        vertical-align: middle;\n    }\n\n    .dataframe tbody tr th {\n        vertical-align: top;\n    }\n\n    .dataframe thead th {\n        text-align: right;\n    }\n</style>\n<table border=\"1\" class=\"dataframe\">\n  <thead>\n    <tr style=\"text-align: right;\">\n      <th></th>\n      <th>userId</th>\n      <th>id</th>\n      <th>rating</th>\n    </tr>\n  </thead>\n  <tbody>\n    <tr>\n      <th>2192</th>\n      <td>15</td>\n      <td>58</td>\n      <td>2.0</td>\n    </tr>\n    <tr>\n      <th>4732</th>\n      <td>23</td>\n      <td>58</td>\n      <td>2.5</td>\n    </tr>\n    <tr>\n      <th>9330</th>\n      <td>61</td>\n      <td>58</td>\n      <td>3.5</td>\n    </tr>\n    <tr>\n      <th>11309</th>\n      <td>73</td>\n      <td>58</td>\n      <td>3.5</td>\n    </tr>\n    <tr>\n      <th>12349</th>\n      <td>77</td>\n      <td>58</td>\n      <td>4.0</td>\n    </tr>\n  </tbody>\n</table>\n</div>",
      "text/plain": "       userId  id  rating\n2192       15  58     2.0\n4732       23  58     2.5\n9330       61  58     3.5\n11309      73  58     3.5\n12349      77  58     4.0"
     },
     "execution_count": 39,
     "metadata": {},
     "output_type": "execute_result"
    }
   ],
   "source": [
    "user_ratings[user_ratings['id'] == 58].head()"
   ]
  },
  {
   "cell_type": "markdown",
   "metadata": {},
   "source": [
    "# Pt. 3 Cosign Similarity"
   ]
  },
  {
   "cell_type": "code",
   "execution_count": 40,
   "metadata": {},
   "outputs": [
    {
     "data": {
      "text/html": "<div>\n<style scoped>\n    .dataframe tbody tr th:only-of-type {\n        vertical-align: middle;\n    }\n\n    .dataframe tbody tr th {\n        vertical-align: top;\n    }\n\n    .dataframe thead th {\n        text-align: right;\n    }\n</style>\n<table border=\"1\" class=\"dataframe\">\n  <thead>\n    <tr style=\"text-align: right;\">\n      <th></th>\n      <th>id</th>\n      <th>title</th>\n      <th>text_info</th>\n    </tr>\n  </thead>\n  <tbody>\n    <tr>\n      <th>0</th>\n      <td>862</td>\n      <td>Toy Story</td>\n      <td>jealousi toy boy friendship friend rivalri boy...</td>\n    </tr>\n    <tr>\n      <th>1</th>\n      <td>8844</td>\n      <td>Jumanji</td>\n      <td>boardgam disappear basedonchildren'sbook newho...</td>\n    </tr>\n    <tr>\n      <th>2</th>\n      <td>15602</td>\n      <td>Grumpier Old Men</td>\n      <td>fish bestfriend duringcreditssting oldmen walt...</td>\n    </tr>\n    <tr>\n      <th>3</th>\n      <td>31357</td>\n      <td>Waiting to Exhale</td>\n      <td>basedonnovel interracialrelationship singlemot...</td>\n    </tr>\n    <tr>\n      <th>4</th>\n      <td>11862</td>\n      <td>Father of the Bride Part II</td>\n      <td>babi midlifecrisi confid age daughter motherda...</td>\n    </tr>\n  </tbody>\n</table>\n</div>",
      "text/plain": "      id                        title  \\\n0    862                    Toy Story   \n1   8844                      Jumanji   \n2  15602             Grumpier Old Men   \n3  31357            Waiting to Exhale   \n4  11862  Father of the Bride Part II   \n\n                                           text_info  \n0  jealousi toy boy friendship friend rivalri boy...  \n1  boardgam disappear basedonchildren'sbook newho...  \n2  fish bestfriend duringcreditssting oldmen walt...  \n3  basedonnovel interracialrelationship singlemot...  \n4  babi midlifecrisi confid age daughter motherda...  "
     },
     "execution_count": 40,
     "metadata": {},
     "output_type": "execute_result"
    }
   ],
   "source": [
    "text_df.head(5)"
   ]
  },
  {
   "cell_type": "code",
   "execution_count": 41,
   "metadata": {},
   "outputs": [],
   "source": [
    "# import necessary packages \n",
    "\n",
    "from sklearn.feature_extraction.text import TfidfVectorizer, CountVectorizer\n",
    "from sklearn.metrics.pairwise import linear_kernel, cosine_similarity"
   ]
  },
  {
   "cell_type": "code",
   "execution_count": 42,
   "metadata": {},
   "outputs": [],
   "source": [
    "# setting our Vectorization parameters \n",
    "count_vect = CountVectorizer(ngram_range=(1, 2), stop_words='english')\n",
    "\n",
    "\n",
    "# fitting our vectorizer to the 'text_info' for each film \n",
    "count_matrix = count_vect.fit_transform(text_df['text_info'].values.astype('U'))"
   ]
  },
  {
   "cell_type": "code",
   "execution_count": 43,
   "metadata": {},
   "outputs": [
    {
     "data": {
      "text/html": "<div>\n<style scoped>\n    .dataframe tbody tr th:only-of-type {\n        vertical-align: middle;\n    }\n\n    .dataframe tbody tr th {\n        vertical-align: top;\n    }\n\n    .dataframe thead th {\n        text-align: right;\n    }\n</style>\n<table border=\"1\" class=\"dataframe\">\n  <thead>\n    <tr style=\"text-align: right;\">\n      <th></th>\n      <th>01distribution</th>\n      <th>02entertainment</th>\n      <th>077</th>\n      <th>077 kenclark</th>\n      <th>100</th>\n      <th>100 halal</th>\n      <th>100 syntheticfilms</th>\n      <th>1000volt</th>\n      <th>100bares</th>\n      <th>100bares haddockfilmss</th>\n      <th>...</th>\n      <th>이디오플랜</th>\n      <th>인벤트디</th>\n      <th>조병만</th>\n      <th>조병만 강계열</th>\n      <th>진모영</th>\n      <th>진모영 romance</th>\n      <th>진모영 진모영</th>\n      <th>타임스토리그룹</th>\n      <th>팔레트픽처스</th>\n      <th>프로덕션m</th>\n    </tr>\n  </thead>\n  <tbody>\n    <tr>\n      <th>0</th>\n      <td>0</td>\n      <td>0</td>\n      <td>0</td>\n      <td>0</td>\n      <td>0</td>\n      <td>0</td>\n      <td>0</td>\n      <td>0</td>\n      <td>0</td>\n      <td>0</td>\n      <td>...</td>\n      <td>0</td>\n      <td>0</td>\n      <td>0</td>\n      <td>0</td>\n      <td>0</td>\n      <td>0</td>\n      <td>0</td>\n      <td>0</td>\n      <td>0</td>\n      <td>0</td>\n    </tr>\n    <tr>\n      <th>1</th>\n      <td>0</td>\n      <td>0</td>\n      <td>0</td>\n      <td>0</td>\n      <td>0</td>\n      <td>0</td>\n      <td>0</td>\n      <td>0</td>\n      <td>0</td>\n      <td>0</td>\n      <td>...</td>\n      <td>0</td>\n      <td>0</td>\n      <td>0</td>\n      <td>0</td>\n      <td>0</td>\n      <td>0</td>\n      <td>0</td>\n      <td>0</td>\n      <td>0</td>\n      <td>0</td>\n    </tr>\n    <tr>\n      <th>2</th>\n      <td>0</td>\n      <td>0</td>\n      <td>0</td>\n      <td>0</td>\n      <td>0</td>\n      <td>0</td>\n      <td>0</td>\n      <td>0</td>\n      <td>0</td>\n      <td>0</td>\n      <td>...</td>\n      <td>0</td>\n      <td>0</td>\n      <td>0</td>\n      <td>0</td>\n      <td>0</td>\n      <td>0</td>\n      <td>0</td>\n      <td>0</td>\n      <td>0</td>\n      <td>0</td>\n    </tr>\n    <tr>\n      <th>3</th>\n      <td>0</td>\n      <td>0</td>\n      <td>0</td>\n      <td>0</td>\n      <td>0</td>\n      <td>0</td>\n      <td>0</td>\n      <td>0</td>\n      <td>0</td>\n      <td>0</td>\n      <td>...</td>\n      <td>0</td>\n      <td>0</td>\n      <td>0</td>\n      <td>0</td>\n      <td>0</td>\n      <td>0</td>\n      <td>0</td>\n      <td>0</td>\n      <td>0</td>\n      <td>0</td>\n    </tr>\n    <tr>\n      <th>4</th>\n      <td>0</td>\n      <td>0</td>\n      <td>0</td>\n      <td>0</td>\n      <td>0</td>\n      <td>0</td>\n      <td>0</td>\n      <td>0</td>\n      <td>0</td>\n      <td>0</td>\n      <td>...</td>\n      <td>0</td>\n      <td>0</td>\n      <td>0</td>\n      <td>0</td>\n      <td>0</td>\n      <td>0</td>\n      <td>0</td>\n      <td>0</td>\n      <td>0</td>\n      <td>0</td>\n    </tr>\n    <tr>\n      <th>...</th>\n      <td>...</td>\n      <td>...</td>\n      <td>...</td>\n      <td>...</td>\n      <td>...</td>\n      <td>...</td>\n      <td>...</td>\n      <td>...</td>\n      <td>...</td>\n      <td>...</td>\n      <td>...</td>\n      <td>...</td>\n      <td>...</td>\n      <td>...</td>\n      <td>...</td>\n      <td>...</td>\n      <td>...</td>\n      <td>...</td>\n      <td>...</td>\n      <td>...</td>\n      <td>...</td>\n    </tr>\n    <tr>\n      <th>44979</th>\n      <td>0</td>\n      <td>0</td>\n      <td>0</td>\n      <td>0</td>\n      <td>0</td>\n      <td>0</td>\n      <td>0</td>\n      <td>0</td>\n      <td>0</td>\n      <td>0</td>\n      <td>...</td>\n      <td>0</td>\n      <td>0</td>\n      <td>0</td>\n      <td>0</td>\n      <td>0</td>\n      <td>0</td>\n      <td>0</td>\n      <td>0</td>\n      <td>0</td>\n      <td>0</td>\n    </tr>\n    <tr>\n      <th>44980</th>\n      <td>0</td>\n      <td>0</td>\n      <td>0</td>\n      <td>0</td>\n      <td>0</td>\n      <td>0</td>\n      <td>0</td>\n      <td>0</td>\n      <td>0</td>\n      <td>0</td>\n      <td>...</td>\n      <td>0</td>\n      <td>0</td>\n      <td>0</td>\n      <td>0</td>\n      <td>0</td>\n      <td>0</td>\n      <td>0</td>\n      <td>0</td>\n      <td>0</td>\n      <td>0</td>\n    </tr>\n    <tr>\n      <th>44981</th>\n      <td>0</td>\n      <td>0</td>\n      <td>0</td>\n      <td>0</td>\n      <td>0</td>\n      <td>0</td>\n      <td>0</td>\n      <td>0</td>\n      <td>0</td>\n      <td>0</td>\n      <td>...</td>\n      <td>0</td>\n      <td>0</td>\n      <td>0</td>\n      <td>0</td>\n      <td>0</td>\n      <td>0</td>\n      <td>0</td>\n      <td>0</td>\n      <td>0</td>\n      <td>0</td>\n    </tr>\n    <tr>\n      <th>44982</th>\n      <td>0</td>\n      <td>0</td>\n      <td>0</td>\n      <td>0</td>\n      <td>0</td>\n      <td>0</td>\n      <td>0</td>\n      <td>0</td>\n      <td>0</td>\n      <td>0</td>\n      <td>...</td>\n      <td>0</td>\n      <td>0</td>\n      <td>0</td>\n      <td>0</td>\n      <td>0</td>\n      <td>0</td>\n      <td>0</td>\n      <td>0</td>\n      <td>0</td>\n      <td>0</td>\n    </tr>\n    <tr>\n      <th>44983</th>\n      <td>0</td>\n      <td>0</td>\n      <td>0</td>\n      <td>0</td>\n      <td>0</td>\n      <td>0</td>\n      <td>0</td>\n      <td>0</td>\n      <td>0</td>\n      <td>0</td>\n      <td>...</td>\n      <td>0</td>\n      <td>0</td>\n      <td>0</td>\n      <td>0</td>\n      <td>0</td>\n      <td>0</td>\n      <td>0</td>\n      <td>0</td>\n      <td>0</td>\n      <td>0</td>\n    </tr>\n  </tbody>\n</table>\n<p>44984 rows × 439716 columns</p>\n</div>",
      "text/plain": "       01distribution  02entertainment  077  077 kenclark  100  100 halal  \\\n0                   0                0    0             0    0          0   \n1                   0                0    0             0    0          0   \n2                   0                0    0             0    0          0   \n3                   0                0    0             0    0          0   \n4                   0                0    0             0    0          0   \n...               ...              ...  ...           ...  ...        ...   \n44979               0                0    0             0    0          0   \n44980               0                0    0             0    0          0   \n44981               0                0    0             0    0          0   \n44982               0                0    0             0    0          0   \n44983               0                0    0             0    0          0   \n\n       100 syntheticfilms  1000volt  100bares  100bares haddockfilmss  ...  \\\n0                       0         0         0                       0  ...   \n1                       0         0         0                       0  ...   \n2                       0         0         0                       0  ...   \n3                       0         0         0                       0  ...   \n4                       0         0         0                       0  ...   \n...                   ...       ...       ...                     ...  ...   \n44979                   0         0         0                       0  ...   \n44980                   0         0         0                       0  ...   \n44981                   0         0         0                       0  ...   \n44982                   0         0         0                       0  ...   \n44983                   0         0         0                       0  ...   \n\n       이디오플랜  인벤트디  조병만  조병만 강계열  진모영  진모영 romance  진모영 진모영  타임스토리그룹  팔레트픽처스  \\\n0          0     0    0        0    0            0        0        0       0   \n1          0     0    0        0    0            0        0        0       0   \n2          0     0    0        0    0            0        0        0       0   \n3          0     0    0        0    0            0        0        0       0   \n4          0     0    0        0    0            0        0        0       0   \n...      ...   ...  ...      ...  ...          ...      ...      ...     ...   \n44979      0     0    0        0    0            0        0        0       0   \n44980      0     0    0        0    0            0        0        0       0   \n44981      0     0    0        0    0            0        0        0       0   \n44982      0     0    0        0    0            0        0        0       0   \n44983      0     0    0        0    0            0        0        0       0   \n\n       프로덕션m  \n0          0  \n1          0  \n2          0  \n3          0  \n4          0  \n...      ...  \n44979      0  \n44980      0  \n44981      0  \n44982      0  \n44983      0  \n\n[44984 rows x 439716 columns]"
     },
     "execution_count": 43,
     "metadata": {},
     "output_type": "execute_result"
    }
   ],
   "source": [
    "# looking at our count matrix in a dataframe. Essentially every word in our text dataframe has been dummy encoded, resulting in a whopping 439716 columns! \n",
    "\n",
    "pd.DataFrame(count_matrix.toarray(),columns=count_vect.get_feature_names())"
   ]
  },
  {
   "cell_type": "code",
   "execution_count": 44,
   "metadata": {},
   "outputs": [],
   "source": [
    "# calculating the cosign similarity of the matrix generated from vectorization \n",
    "\n",
    "cos_sim = cosine_similarity(count_matrix)"
   ]
  },
  {
   "cell_type": "markdown",
   "metadata": {},
   "source": [
    "Now let's write a function that parses through the dataframe and generates recommendations based on any given film!"
   ]
  },
  {
   "cell_type": "code",
   "execution_count": 45,
   "metadata": {},
   "outputs": [],
   "source": [
    "# creating an index column in the dataframe \n",
    "idx_assign = text_df.reset_index() \n",
    "\n",
    "# define function! \n",
    "\n",
    "def watchme(movie):\n",
    "    movie_idx = idx_assign[idx_assign['title'] == movie].index[0]\n",
    "    sim_array = cos_sim[movie_idx]\n",
    "    array_lst = list(enumerate(sim_array))\n",
    "    sort_lst = sorted(array_lst, reverse=True, key = lambda x: x[1])\n",
    "    top_recs = sort_lst[1:11]\n",
    "    for i in top_recs:\n",
    "        print(idx_assign.loc[i[0]].title)"
   ]
  },
  {
   "cell_type": "code",
   "execution_count": 46,
   "metadata": {},
   "outputs": [
    {
     "name": "stdout",
     "output_type": "stream",
     "text": [
      "Inception\n",
      "Doodlebug\n",
      "The Prestige\n",
      "The Dark Knight\n",
      "The Dark Knight Rises\n",
      "Following\n",
      "Dunkirk\n",
      "Batman Begins\n",
      "Insomnia\n",
      "Memento\n"
     ]
    }
   ],
   "source": [
    "watchme('Interstellar')"
   ]
  },
  {
   "cell_type": "code",
   "execution_count": 47,
   "metadata": {},
   "outputs": [
    {
     "name": "stdout",
     "output_type": "stream",
     "text": [
      "Clerks - The Flying Car\n",
      "Jay and Silent Bob Strike Back\n",
      "Clerks\n",
      "Clerks II\n",
      "Jersey Girl\n",
      "Dogma\n",
      "Zack and Miri Make a Porno\n",
      "Chasing Amy\n",
      "Cop Out\n",
      "Tusk\n"
     ]
    }
   ],
   "source": [
    "watchme('Mallrats')"
   ]
  },
  {
   "cell_type": "code",
   "execution_count": 48,
   "metadata": {},
   "outputs": [
    {
     "name": "stdout",
     "output_type": "stream",
     "text": [
      "The Lift\n",
      "I Wanna Hold Your Hand\n",
      "Allied\n",
      "Used Cars\n",
      "Death Becomes Her\n",
      "Cast Away\n",
      "A Christmas Carol\n",
      "What Lies Beneath\n",
      "The Walk\n",
      "Flight\n"
     ]
    }
   ],
   "source": [
    "watchme('Forrest Gump')"
   ]
  },
  {
   "cell_type": "markdown",
   "metadata": {},
   "source": [
    "These film recommendations are spectacular. It correlates films heavily by director, which I added more weight to during wrangling. Directors often shape the vibe or feeling of a film. Interstellar for example has a pretty similar energy to Inception, and The Dark Knight Rises is in there becuase it's also a Christopher Nolan film. Mememto is a great psychological thriller that fits in here as well. \n",
    "\n",
    "It looks like text vectorization worked better than clustering. Probably because it was able to use all of the text data available for each film. I didn't have to dummy encode and scale back on the amount of features to include. "
   ]
  },
  {
   "cell_type": "markdown",
   "metadata": {},
   "source": [
    "# Pt. 4 Hybrid"
   ]
  },
  {
   "cell_type": "markdown",
   "metadata": {},
   "source": [
    "Now I would like to combine the Cosign Similarity and Collaborative Filtering methods. I plan on implementing the Cosign Sim function but then ordering that list based on how the user is predicted to rate those 10 similarity recommendations. \n",
    "\n",
    "Since our user ratings dataset is limited I will scale down the Text-Vectored dataset so it only consists of films that are in the user ratings dataset. "
   ]
  },
  {
   "cell_type": "code",
   "execution_count": 49,
   "metadata": {},
   "outputs": [
    {
     "data": {
      "text/plain": "9053"
     },
     "execution_count": 49,
     "metadata": {},
     "output_type": "execute_result"
    }
   ],
   "source": [
    "# create a list of all the film id's that are in the user ratings dataset\n",
    "\n",
    "unique_ids = list(user_ratings.id.unique())\n",
    "\n",
    "len(unique_ids)"
   ]
  },
  {
   "cell_type": "code",
   "execution_count": 50,
   "metadata": {},
   "outputs": [],
   "source": [
    "# create reduced dataframe with only films that are in our user ratings df. \n",
    "\n",
    "reduce_text = text_df.loc[text_df['id'].isin(unique_ids)]"
   ]
  },
  {
   "cell_type": "code",
   "execution_count": 51,
   "metadata": {},
   "outputs": [
    {
     "data": {
      "text/html": "<div>\n<style scoped>\n    .dataframe tbody tr th:only-of-type {\n        vertical-align: middle;\n    }\n\n    .dataframe tbody tr th {\n        vertical-align: top;\n    }\n\n    .dataframe thead th {\n        text-align: right;\n    }\n</style>\n<table border=\"1\" class=\"dataframe\">\n  <thead>\n    <tr style=\"text-align: right;\">\n      <th></th>\n      <th>id</th>\n      <th>title</th>\n      <th>text_info</th>\n    </tr>\n  </thead>\n  <tbody>\n    <tr>\n      <th>15651</th>\n      <td>27205</td>\n      <td>Inception</td>\n      <td>lossoflov dream kidnap sleep subconsci heist r...</td>\n    </tr>\n  </tbody>\n</table>\n</div>",
      "text/plain": "          id      title                                          text_info\n15651  27205  Inception  lossoflov dream kidnap sleep subconsci heist r..."
     },
     "execution_count": 51,
     "metadata": {},
     "output_type": "execute_result"
    }
   ],
   "source": [
    "# see if Inception is in our new reduced frame \n",
    "\n",
    "reduce_text[reduce_text['title'] == 'Inception']"
   ]
  },
  {
   "cell_type": "code",
   "execution_count": 52,
   "metadata": {},
   "outputs": [
    {
     "data": {
      "text/html": "<div>\n<style scoped>\n    .dataframe tbody tr th:only-of-type {\n        vertical-align: middle;\n    }\n\n    .dataframe tbody tr th {\n        vertical-align: top;\n    }\n\n    .dataframe thead th {\n        text-align: right;\n    }\n</style>\n<table border=\"1\" class=\"dataframe\">\n  <thead>\n    <tr style=\"text-align: right;\">\n      <th></th>\n      <th>userId</th>\n      <th>id</th>\n      <th>rating</th>\n    </tr>\n  </thead>\n  <tbody>\n    <tr>\n      <th>814</th>\n      <td>11</td>\n      <td>27205</td>\n      <td>4.0</td>\n    </tr>\n    <tr>\n      <th>2348</th>\n      <td>15</td>\n      <td>27205</td>\n      <td>5.0</td>\n    </tr>\n    <tr>\n      <th>4948</th>\n      <td>26</td>\n      <td>27205</td>\n      <td>3.5</td>\n    </tr>\n    <tr>\n      <th>6748</th>\n      <td>38</td>\n      <td>27205</td>\n      <td>4.0</td>\n    </tr>\n    <tr>\n      <th>6859</th>\n      <td>40</td>\n      <td>27205</td>\n      <td>4.5</td>\n    </tr>\n    <tr>\n      <th>...</th>\n      <td>...</td>\n      <td>...</td>\n      <td>...</td>\n    </tr>\n    <tr>\n      <th>95763</th>\n      <td>628</td>\n      <td>27205</td>\n      <td>3.5</td>\n    </tr>\n    <tr>\n      <th>95822</th>\n      <td>630</td>\n      <td>27205</td>\n      <td>3.5</td>\n    </tr>\n    <tr>\n      <th>98173</th>\n      <td>655</td>\n      <td>27205</td>\n      <td>2.0</td>\n    </tr>\n    <tr>\n      <th>98579</th>\n      <td>660</td>\n      <td>27205</td>\n      <td>4.5</td>\n    </tr>\n    <tr>\n      <th>99177</th>\n      <td>664</td>\n      <td>27205</td>\n      <td>5.0</td>\n    </tr>\n  </tbody>\n</table>\n<p>111 rows × 3 columns</p>\n</div>",
      "text/plain": "       userId     id  rating\n814        11  27205     4.0\n2348       15  27205     5.0\n4948       26  27205     3.5\n6748       38  27205     4.0\n6859       40  27205     4.5\n...       ...    ...     ...\n95763     628  27205     3.5\n95822     630  27205     3.5\n98173     655  27205     2.0\n98579     660  27205     4.5\n99177     664  27205     5.0\n\n[111 rows x 3 columns]"
     },
     "execution_count": 52,
     "metadata": {},
     "output_type": "execute_result"
    }
   ],
   "source": [
    "# see how many people rated Inception\n",
    "\n",
    "user_ratings[user_ratings['id'] == 27205]"
   ]
  },
  {
   "cell_type": "markdown",
   "metadata": {},
   "source": [
    "Now let's vectorize and discover the cosign similarities of our new dataset."
   ]
  },
  {
   "cell_type": "code",
   "execution_count": 53,
   "metadata": {},
   "outputs": [],
   "source": [
    "# vectorize the new data set \n",
    "count_mtx = count_vect.fit_transform(reduce_text['text_info'].values.astype('U'))\n",
    "\n",
    "# calculating the cosign similarity of the matrix generated from vectorization \n",
    "cos_simi = cosine_similarity(count_mtx)"
   ]
  },
  {
   "cell_type": "code",
   "execution_count": 54,
   "metadata": {},
   "outputs": [],
   "source": [
    "# reset indices for processing ease \n",
    "\n",
    "idx_ = reduce_text.reset_index() \n",
    "idx_.drop(['index'], axis=1, inplace=True)\n",
    "idx_ = idx_.reset_index()"
   ]
  },
  {
   "cell_type": "code",
   "execution_count": 55,
   "metadata": {},
   "outputs": [],
   "source": [
    "# write new function that produces most similar films and the predicted rating\n",
    "\n",
    "def recommend(movie, user):\n",
    "    movie_idx = idx_[idx_['title'] == movie].index[0]\n",
    "    sim_array = cos_simi[movie_idx]\n",
    "    array_lst = list(enumerate(sim_array))\n",
    "    sort_lst = sorted(array_lst, reverse=True, key = lambda x: x[1])\n",
    "    top_recs = sort_lst[1:11]\n",
    "    for i in top_recs:\n",
    "        film_id = idx_.loc[i[0]].id\n",
    "        print(idx_.loc[i[0]].title, round(algo.predict(user, film_id)[3],2))"
   ]
  },
  {
   "cell_type": "code",
   "execution_count": 56,
   "metadata": {},
   "outputs": [
    {
     "name": "stdout",
     "output_type": "stream",
     "text": [
      "The Prestige 4.27\n",
      "The Dark Knight Rises 3.97\n",
      "The Dark Knight 4.29\n",
      "Following 3.82\n",
      "Interstellar 4.21\n",
      "Insomnia 3.75\n",
      "Batman Begins 4.06\n",
      "Memento 4.34\n",
      "Don Jon 3.86\n",
      "Pacific Rim 3.72\n"
     ]
    }
   ],
   "source": [
    "recommend('Inception', 11)"
   ]
  },
  {
   "cell_type": "markdown",
   "metadata": {},
   "source": [
    "The list above is looking good, however I would like to rank the films by the predicted rating metric, as opposed to the similarity metric.."
   ]
  },
  {
   "cell_type": "markdown",
   "metadata": {},
   "source": [
    "Also, the above function assumes user 11 gave Inception a good rating to begin with. Before we go on, let's create a function that produces a list of films that a user has rated well. We'll consider a good rating to be a score of 3.5 or higher. "
   ]
  },
  {
   "cell_type": "code",
   "execution_count": 57,
   "metadata": {},
   "outputs": [],
   "source": [
    "# create a ratings dataset that includes film titles \n",
    "\n",
    "ratings_title = pd.merge(user_ratings, reduce_text[['title', 'id']], how='left', on='id')"
   ]
  },
  {
   "cell_type": "code",
   "execution_count": 58,
   "metadata": {},
   "outputs": [],
   "source": [
    "# function to produce a list of films that a given user has rated 3.5 or higher\n",
    "\n",
    "def find_liked(user):\n",
    "    user_reviews = ratings_title[(ratings_title['userId'] == user) &  (ratings_title['rating'] >= 3.5)]\n",
    "    liked = list(user_reviews.title)\n",
    "    for i in liked:\n",
    "        print(i)"
   ]
  },
  {
   "cell_type": "code",
   "execution_count": 59,
   "metadata": {},
   "outputs": [
    {
     "name": "stdout",
     "output_type": "stream",
     "text": [
      "The Usual Suspects\n",
      "The Neverending Story III: Escape from Fantasia\n",
      "Pulp Fiction\n",
      "Trainspotting\n",
      "Kingpin\n",
      "Citizen Kane\n",
      "Robin Hood: Prince of Thieves\n",
      "The Good, the Bad and the Ugly\n",
      "The Last of the Mohicans\n",
      "D2: The Mighty Ducks\n",
      "SLC Punk\n",
      "Step Into Liquid\n",
      "The Bourne Identity\n",
      "The Departed\n",
      "Music and Lyrics\n",
      "The Bank Job\n",
      "The Informant!\n",
      "Exit Through the Gift Shop\n",
      "Inception\n",
      "The Town\n",
      "Restrepo\n",
      "127 Hours\n",
      "Drive\n",
      "The Hunger Games\n",
      "The Dark Knight Rises\n",
      "Life in a Day\n",
      "Skyfall\n",
      "Taken 2\n",
      "Life of Pi\n",
      "Gravity\n",
      "The Hunger Games: Catching Fire\n"
     ]
    }
   ],
   "source": [
    "find_liked(11)"
   ]
  },
  {
   "cell_type": "markdown",
   "metadata": {},
   "source": [
    "Now that we have a list of movies we know  a user liked, we can use it as a basis for recommendation."
   ]
  },
  {
   "cell_type": "code",
   "execution_count": 60,
   "metadata": {},
   "outputs": [],
   "source": [
    "# function to rank films by how much a user is predicted to like the recommendation\n",
    "\n",
    "def recommend_ranked(movie, user):\n",
    "    movie_idx = idx_[idx_['title'] == movie].index[0]\n",
    "    sim_array = cos_simi[movie_idx]\n",
    "    array_lst = list(enumerate(sim_array))\n",
    "    sort_lst = sorted(array_lst, reverse=True, key = lambda x: x[1])\n",
    "    top_recs = sort_lst[1:11]\n",
    "    top_rate = []\n",
    "    for i in top_recs:\n",
    "        film_id = idx_.loc[i[0]].id\n",
    "        pred = algo.predict(user, film_id)[3]\n",
    "        both = i[0], round(pred,2)\n",
    "        top_rate.append(both)\n",
    "    sort_rate = sorted(top_rate, reverse=True, key = lambda x: x[1])\n",
    "\n",
    "    print(f'Based on your enjoyment of {movie}, we think you may like the following:')\n",
    "    print('')\n",
    "    for i in sort_rate:\n",
    "        print(idx_.loc[i[0]].title, i[1])"
   ]
  },
  {
   "cell_type": "markdown",
   "metadata": {},
   "source": [
    "According to our list of films liked, User 11 enjoyed Inception, let's recommend them some films!"
   ]
  },
  {
   "cell_type": "code",
   "execution_count": 61,
   "metadata": {},
   "outputs": [
    {
     "name": "stdout",
     "output_type": "stream",
     "text": [
      "Based on your enjoyment of Inception, we think you may like the following:\n",
      "\n",
      "Memento 4.34\n",
      "The Dark Knight 4.29\n",
      "The Prestige 4.27\n",
      "Interstellar 4.21\n",
      "Batman Begins 4.06\n",
      "The Dark Knight Rises 3.97\n",
      "Don Jon 3.86\n",
      "Following 3.82\n",
      "Insomnia 3.75\n",
      "Pacific Rim 3.72\n"
     ]
    }
   ],
   "source": [
    "recommend_ranked('Inception', 11)"
   ]
  },
  {
   "cell_type": "markdown",
   "metadata": {},
   "source": [
    "Excellent! This recommendation list is looking great, it captures the most similar films to Inception and produces a ranking of those films based on the predicted rating this user will give them."
   ]
  },
  {
   "cell_type": "markdown",
   "metadata": {},
   "source": [
    "# Conclusion"
   ]
  },
  {
   "cell_type": "markdown",
   "metadata": {},
   "source": [
    "I used clustering, collaborative filtering, and text-vector/cosign similarity to create film recommendations. \n",
    "\n",
    "Overall the cosign similarity felt the most thorough. Joining it with collaborative filtering created an even stronger set of recommendations.\n",
    "\n",
    "The clustering technique produced the weakest outcome. I strongly believe this is mostly due to my lack of computing power. If I was able to generate an immensely wide dataset with every actor/director/tag then clustering would have performed better. My initial data frame that contained the top 1000 actors/directors/tags was too vast and subsequently crashed when I ran the algorithm, which is why I had to scale it back to the top 100 actors/directors/tags, resulting in a decline of feature space quality. \n",
    "\n",
    "Overall I am pleased with the outcome and feel confident that I could deploy this model to make real-world recommendations!"
   ]
  }
 ],
 "metadata": {
  "kernelspec": {
   "display_name": "Python 3.8.8 64-bit ('anaconda3': virtualenv)",
   "name": "python388jvsc74a57bd0dca0ade3e726a953b501b15e8e990130d2b7799f14cfd9f4271676035ebe5511"
  },
  "language_info": {
   "codemirror_mode": {
    "name": "ipython",
    "version": 3
   },
   "file_extension": ".py",
   "mimetype": "text/x-python",
   "name": "python",
   "nbconvert_exporter": "python",
   "pygments_lexer": "ipython3",
   "version": "3.8.8"
  },
  "orig_nbformat": 3
 },
 "nbformat": 4,
 "nbformat_minor": 4
}